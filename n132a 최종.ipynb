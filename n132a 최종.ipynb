{
  "nbformat": 4,
  "nbformat_minor": 0,
  "metadata": {
    "colab": {
      "name": "n132a-intermediate-linear-algebra.ipynb의 사본",
      "provenance": [],
      "include_colab_link": true
    },
    "kernelspec": {
      "display_name": "Python 3",
      "language": "python",
      "name": "python3"
    },
    "language_info": {
      "codemirror_mode": {
        "name": "ipython",
        "version": 3
      },
      "file_extension": ".py",
      "mimetype": "text/x-python",
      "name": "python",
      "nbconvert_exporter": "python",
      "pygments_lexer": "ipython3",
      "version": "3.8.2"
    }
  },
  "cells": [
    {
      "cell_type": "markdown",
      "metadata": {
        "id": "view-in-github",
        "colab_type": "text"
      },
      "source": [
        "<a href=\"https://colab.research.google.com/github/effection00/codestates/blob/main/n132a%20%EC%B5%9C%EC%A2%85.ipynb\" target=\"_parent\"><img src=\"https://colab.research.google.com/assets/colab-badge.svg\" alt=\"Open In Colab\"/></a>"
      ]
    },
    {
      "cell_type": "markdown",
      "metadata": {
        "id": "GSNiYn8lr6nN"
      },
      "source": [
        "<img src='https://i.imgur.com/RDAD11M.png' width = '200' align = 'right'>\n",
        "\n",
        "## *DATA SCIENCE / SECTION 1 / SPRINT 3 / NOTE 2*\n",
        "\n",
        "# 📝 Assignment\n"
      ]
    },
    {
      "cell_type": "markdown",
      "metadata": {
        "id": "3d4izUhQvh2_"
      },
      "source": [
        "## 1. 주어진 리스트에 대해서 평균, 분산, 표준편차를 구하는 함수를 작성해보세요. (`mean`같은 builtin function 제외)\n",
        "> 이후 다음 데이터 [243, 278, 184, 249, 207] 에 대해서 해당 함수를 사용한 결과를 보이세요."
      ]
    },
    {
      "cell_type": "code",
      "metadata": {
        "id": "w1iZfYvBtEA1",
        "colab": {
          "base_uri": "https://localhost:8080/"
        },
        "outputId": "7740143e-b908-43a5-e9e1-bff1e1c9f17f"
      },
      "source": [
        "import numpy as np\n",
        "\n",
        "def mymean(v):\n",
        "# 작성하세요\n",
        " sum = 0\n",
        " for i in v:\n",
        "   sum += i\n",
        " return sum / len(v)\n",
        "\n",
        "def myvar(v):\n",
        "# 작성하세요.\n",
        " mean = np.sum(v)/len(v)\n",
        " sum = 0 \n",
        " for i in v:\n",
        "  sum += (i - mean)**2\n",
        " return sum/len(v)\n",
        "\n",
        "\n",
        "def mystd(v):\n",
        "# 작성하세요.\n",
        " mean = np.sum(v)/len(v)\n",
        " sum = 0 \n",
        " for i in v:\n",
        "  sum += (i - mean)**2\n",
        " return np.sqrt(sum/len(v))\n",
        "\n",
        "res1 = mymean([243, 278, 184, 249, 207])\n",
        "res2 = myvar([243, 278, 184, 249, 207])\n",
        "res3 = mystd([243, 278, 184, 249, 207])\n",
        "\n",
        "res1, res2, res3\n",
        "\n"
      ],
      "execution_count": 6,
      "outputs": [
        {
          "output_type": "execute_result",
          "data": {
            "text/plain": [
              "(232.2, 1090.96, 33.02968361943541)"
            ]
          },
          "metadata": {
            "tags": []
          },
          "execution_count": 6
        }
      ]
    },
    {
      "cell_type": "markdown",
      "metadata": {
        "id": "oh63KaOctEp_"
      },
      "source": [
        "## 2. 위에서 사용된 데이터와 다음 데이터의 공분산과, 상관계수를 구해보세요 [88, 89, 83, 112, 104] "
      ]
    },
    {
      "cell_type": "code",
      "metadata": {
        "id": "G7ZB0krot564"
      },
      "source": [
        "x = [243, 278, 184, 249, 207]\n",
        "y =  [88, 89, 83, 112, 104]\n",
        "#공분산\n",
        "res4 = np.cov(x, y)[0, 1]\n",
        "\n",
        "# 상관계수\n",
        "res5 = np.corrcoef(x, y)[0, 1]"
      ],
      "execution_count": 7,
      "outputs": []
    },
    {
      "cell_type": "code",
      "metadata": {
        "colab": {
          "base_uri": "https://localhost:8080/"
        },
        "id": "Dn5EcD0fu2OP",
        "outputId": "fce62c15-8228-4643-db39-ac83b5a11ef7"
      },
      "source": [
        "# 이곳에 답안을 작성하시기 바랍니다\n",
        "res4, res5"
      ],
      "execution_count": 8,
      "outputs": [
        {
          "output_type": "execute_result",
          "data": {
            "text/plain": [
              "(71.7, 0.1586897351257077)"
            ]
          },
          "metadata": {
            "tags": []
          },
          "execution_count": 8
        }
      ]
    },
    {
      "cell_type": "markdown",
      "metadata": {
        "id": "86iXLzwM2z8l"
      },
      "source": [
        "## 3. 다음 벡터들의 span과, 이가 의미하는 바를 설명하세요. \n",
        "\n",
        "\\begin{align}\n",
        "g = \\begin{bmatrix} 1 & 3 \\end{bmatrix}\n",
        "\\qquad\n",
        "h = \\begin{bmatrix} 2 & 6 \\end{bmatrix}\n",
        "\\end{align}"
      ]
    },
    {
      "cell_type": "code",
      "metadata": {
        "id": "fNpSjPcOScgH"
      },
      "source": [
        "\n",
        "mat = np.array([[ 1,  3],\n",
        "                [ 2,  6]])\n",
        "\n",
        "res6= np.linalg.matrix_rank(mat)"
      ],
      "execution_count": 9,
      "outputs": []
    },
    {
      "cell_type": "code",
      "metadata": {
        "colab": {
          "base_uri": "https://localhost:8080/"
        },
        "id": "50EQjnNJ5dP_",
        "outputId": "bbfd6e47-8ff1-48dc-bbeb-3121388784ca"
      },
      "source": [
        "# 이곳에 답안을 작성하시기 바랍니다\n",
        "\n",
        "# 두 벡터의 span이 1차원라는 것은 두 벡터가 일직선상에 있으며 선형 관계(종속관계)에 있는 것을 뜻합니다.\n",
        "# 두 벡터의 조합으로는 벡터가 그려진 선 이외의 새로운 공간에 벡터 생성이 불가합니다. \n",
        "res6 "
      ],
      "execution_count": 10,
      "outputs": [
        {
          "output_type": "execute_result",
          "data": {
            "text/plain": [
              "1"
            ]
          },
          "metadata": {
            "tags": []
          },
          "execution_count": 10
        }
      ]
    },
    {
      "cell_type": "markdown",
      "metadata": {
        "id": "l1deylUj4IHH"
      },
      "source": [
        "## 4. 다음 벡터들의 span과, 이가 의미하는 바를 설명하세요.\n",
        "\n",
        "\\begin{align}\n",
        "l = \\begin{bmatrix} 1 & 2 & 3 \\end{bmatrix}\n",
        "\\qquad\n",
        "m = \\begin{bmatrix} -1 & 0 & 7 \\end{bmatrix}\n",
        "\\qquad\n",
        "n = \\begin{bmatrix} 4 & 8  & 2\\end{bmatrix}\n",
        "\\end{align}"
      ]
    },
    {
      "cell_type": "code",
      "metadata": {
        "id": "NWZ36G8QTMob"
      },
      "source": [
        "mat = np.array([[ 1,  2, 3],\n",
        "                [ 1,  0, 7],\n",
        "                [ 4,  8,  2]])\n",
        "\n",
        "res7 = np.linalg.matrix_rank(mat)"
      ],
      "execution_count": 11,
      "outputs": []
    },
    {
      "cell_type": "code",
      "metadata": {
        "id": "XH-BlPKl5Ofa",
        "colab": {
          "base_uri": "https://localhost:8080/"
        },
        "outputId": "5bcf36b3-3d84-4733-f331-b475241f8612"
      },
      "source": [
        "# 이곳에 답안을 작성하시기 바랍니다\n",
        "\n",
        "#  span이 3으로 나온 것은 벡터들이 같은 선상에 있지 않다는 의미로 선형관계(독립관계)에 있는 것을 뜻합니다.\n",
        "#  R^3의 공간 위의 모든 벡터를 조합을 통해 만들어 낼 수 있습니다.\n",
        "\n",
        "res7"
      ],
      "execution_count": 12,
      "outputs": [
        {
          "output_type": "execute_result",
          "data": {
            "text/plain": [
              "3"
            ]
          },
          "metadata": {
            "tags": []
          },
          "execution_count": 12
        }
      ]
    },
    {
      "cell_type": "markdown",
      "metadata": {
        "id": "IpJwt9kw6v8U"
      },
      "source": [
        "## 5. 다음 매트릭스의 rank를 구하세요\n",
        "\n",
        "\\begin{align}\n",
        "P = \\begin{bmatrix} \n",
        "0 & 2 & 5 \\\\\n",
        " 3 & 6 & 12 \\\\\n",
        "3 & 2 & 2\n",
        "\\end{bmatrix}\n",
        "\\end{align}"
      ]
    },
    {
      "cell_type": "code",
      "metadata": {
        "id": "CAzw0q3KTu5d"
      },
      "source": [
        "\n",
        "mat = np.array([[0,2,5], [3,6,12], [3,2,2]])\n",
        "\n",
        "res8 = np.linalg.matrix_rank(mat)"
      ],
      "execution_count": 13,
      "outputs": []
    },
    {
      "cell_type": "code",
      "metadata": {
        "colab": {
          "base_uri": "https://localhost:8080/"
        },
        "id": "0XeKqKsOu2OS",
        "outputId": "74569b38-2c5d-437d-f72e-e3307a53166c"
      },
      "source": [
        "# 이곳에 답안을 작성하시기 바랍니다\n",
        "res8 "
      ],
      "execution_count": 14,
      "outputs": [
        {
          "output_type": "execute_result",
          "data": {
            "text/plain": [
              "2"
            ]
          },
          "metadata": {
            "tags": []
          },
          "execution_count": 14
        }
      ]
    },
    {
      "cell_type": "markdown",
      "metadata": {
        "id": "TKkrPwRM-Oar"
      },
      "source": [
        "# 🔥 도전과제 \n",
        "\n",
        "주어진 데이터 (x, y)에 대해서 `y = x` 라는 벡터에 대해 projection을 계산하는 함수를 작성하세요. \n",
        "- (x, y) 는 (0, 0) 에서 (x, y)로 가는 벡터라 가정합니다.\n",
        "\n",
        "이후\n",
        "\n",
        "- 입력된 데이터를 파란색 선으로, \n",
        "- `y = x` 라는 벡터를 빨간색 선으로, 마지막으로 \n",
        "- projection 된 선을 녹색 점선(dashed)으로 그래프에 그리세요."
      ]
    },
    {
      "cell_type": "code",
      "metadata": {
        "id": "BdACrPOZB6cz",
        "colab": {
          "base_uri": "https://localhost:8080/"
        },
        "outputId": "d2c0a2a6-239c-4e75-8578-a57e689cab0b"
      },
      "source": [
        "import numpy as np\n",
        "\n",
        "\n",
        "def myProjection(x):\n",
        " v = np.array([7, 4])\n",
        " w = np.array([10,10])\n",
        " proj_w = (np.dot(v, w) / np.dot(w, w)) * w\n",
        " return proj_w \n",
        " \n",
        "myProjection([2,2])"
      ],
      "execution_count": 15,
      "outputs": [
        {
          "output_type": "execute_result",
          "data": {
            "text/plain": [
              "array([5.5, 5.5])"
            ]
          },
          "metadata": {
            "tags": []
          },
          "execution_count": 15
        }
      ]
    },
    {
      "cell_type": "code",
      "metadata": {
        "id": "cp52kZra-ykj",
        "colab": {
          "base_uri": "https://localhost:8080/",
          "height": 269
        },
        "outputId": "df2cfee8-aafa-4722-8deb-aa1168c179b2"
      },
      "source": [
        "import matplotlib.pyplot as plt\n",
        "\n",
        "def myProjection_plt(x):\n",
        " plt.xlim(0, 10)\n",
        " plt.ylim(0, 10)\n",
        "\n",
        " v = [7,4]\n",
        " w = np.array([10,10])\n",
        " proj = myProjection(x)\n",
        "\n",
        " axes = plt.gca()\n",
        " x_vals = np.array(axes.get_xlim())\n",
        " y_vals = 1 * x_vals\n",
        "\n",
        " plt.plot(x_vals, y_vals, '-', color = 'red')\n",
        " plt.arrow(0, 0, proj[0], proj[1], linewidth = 4,linestyle = '--', head_width =0.3, head_length = .3, color = 'green')\n",
        " plt.arrow(0, 0, w[0], w[1], linewidth = 1, head_width = .05, head_length = .05, color = 'red')\n",
        " plt.arrow(0, 0, v[0], v[1], linewidth = 2, head_width = .3, head_length = .3, color = '#0984e3')\n",
        " plt.show()\n",
        "\n",
        "myProjection_plt([7,4])\n",
        "  "
      ],
      "execution_count": 16,
      "outputs": [
        {
          "output_type": "display_data",
          "data": {
            "image/png": "[encoded data removed]",
            "text/plain": [
              "<Figure size 432x288 with 1 Axes>"
            ]
          },
          "metadata": {
            "tags": [],
            "needs_background": "light"
          }
        }
      ]
    }
  ]
}