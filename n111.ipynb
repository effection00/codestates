{
  "nbformat": 4,
  "nbformat_minor": 0,
  "metadata": {
    "colab": {
      "name": "n111a-eda.ipynb의 사본의 사본",
      "provenance": [],
      "collapsed_sections": [],
      "toc_visible": true,
      "include_colab_link": true
    },
    "kernelspec": {
      "name": "python3",
      "display_name": "Python 3"
    }
  },
  "cells": [
    {
      "cell_type": "markdown",
      "metadata": {
        "id": "view-in-github",
        "colab_type": "text"
      },
      "source": [
        "<a href=\"https://colab.research.google.com/github/effection00/codestates/blob/main/n111.ipynb\" target=\"_parent\"><img src=\"https://colab.research.google.com/assets/colab-badge.svg\" alt=\"Open In Colab\"/></a>"
      ]
    },
    {
      "cell_type": "markdown",
      "metadata": {
        "id": "MSnsTgZLKO72"
      },
      "source": [
        "<img src='https://i.imgur.com/RDAD11M.png' width = '200' align = 'right'>\n",
        "\n",
        "## *DATA SCIENCE / SECTION 1 / SPRINT 1 / NOTE 1*\n",
        "\n",
        "---\n",
        "\n",
        "# 📝 Assignment\n",
        "\n"
      ]
    },
    {
      "cell_type": "markdown",
      "metadata": {
        "id": "qoR8E-T2TYPd"
      },
      "source": [
        "## 1.데이터셋 불러오기 연습\n",
        "\n",
        "다음 url에서 엑셀 파일을 불러오세요. (pandas excel)\n",
        "\n",
        "<https://ds-lecture-data.s3.ap-northeast-2.amazonaws.com/stocks/Travel.xlsx>\n",
        "\n",
        "  - 데이터셋 변수의 이름은 `df1`, `df2`로 저장하세요.\n",
        "  - row가 아닌 column에 '매출액', '영업이익' 이 가도록 데이터를 transpose 하세요.\n",
        "  - 이후 아래 링크를 참조하여 첫번째 row를 column name으로 설정하세요.\n",
        "\n",
        "<https://stackoverflow.com/questions/31328861/python-pandas-replacing-header-with-top-row>\n",
        "\n",
        "- 파일은 2개의 시트로 구성되어 있으며 각각 이름은 `008770`, `035250` 입니다.\n",
        "\n"
      ]
    },
    {
      "cell_type": "code",
      "metadata": {
        "colab": {
          "base_uri": "https://localhost:8080/",
          "height": 575
        },
        "id": "FcYsKtLwaOav",
        "outputId": "258854a9-58e6-4b9a-9b85-6f86a770dd04"
      },
      "source": [
        "test_url = 'https://ds-lecture-data.s3.ap-northeast-2.amazonaws.com/stocks/Travel.xlsx'\n",
        "import pandas as pd\n",
        "import seaborn as sns\n",
        "\n",
        "\n",
        "df1 = pd.read_excel(test_url, sheet_name='008770 ')\n",
        "df1 = df1.transpose()\n",
        "column_name = df1.iloc[0] \n",
        "df1.columns = column_name\n",
        "df1 = df1[1:] \n",
        "print(df1.shape)\n",
        "\n",
        "df2 = pd.read_excel(test_url, sheet_name='035250')\n",
        "df2 = df2.transpose()\n",
        "column_name = df2.iloc[0] \n",
        "df2 = df2[1:] \n",
        "df2.columns = column_name\n",
        "df2\n",
        "\n"
      ],
      "execution_count": null,
      "outputs": [
        {
          "output_type": "stream",
          "text": [
            "(8, 32)\n"
          ],
          "name": "stdout"
        },
        {
          "output_type": "execute_result",
          "data": {
            "text/html": [
              "<div>\n",
              "<style scoped>\n",
              "    .dataframe tbody tr th:only-of-type {\n",
              "        vertical-align: middle;\n",
              "    }\n",
              "\n",
              "    .dataframe tbody tr th {\n",
              "        vertical-align: top;\n",
              "    }\n",
              "\n",
              "    .dataframe thead th {\n",
              "        text-align: right;\n",
              "    }\n",
              "</style>\n",
              "<table border=\"1\" class=\"dataframe\">\n",
              "  <thead>\n",
              "    <tr style=\"text-align: right;\">\n",
              "      <th>주요재무정보</th>\n",
              "      <th>매출액</th>\n",
              "      <th>영업이익</th>\n",
              "      <th>영업이익(발표기준)</th>\n",
              "      <th>세전계속사업이익</th>\n",
              "      <th>당기순이익</th>\n",
              "      <th>당기순이익(지배)</th>\n",
              "      <th>당기순이익(비지배)</th>\n",
              "      <th>자산총계</th>\n",
              "      <th>부채총계</th>\n",
              "      <th>자본총계</th>\n",
              "      <th>자본총계(지배)</th>\n",
              "      <th>자본총계(비지배)</th>\n",
              "      <th>자본금</th>\n",
              "      <th>영업활동현금흐름</th>\n",
              "      <th>투자활동현금흐름</th>\n",
              "      <th>재무활동현금흐름</th>\n",
              "      <th>CAPEX</th>\n",
              "      <th>FCF</th>\n",
              "      <th>이자발생부채</th>\n",
              "      <th>영업이익률</th>\n",
              "      <th>순이익률</th>\n",
              "      <th>ROE(%)</th>\n",
              "      <th>ROA(%)</th>\n",
              "      <th>부채비율</th>\n",
              "      <th>자본유보율</th>\n",
              "      <th>EPS(원)</th>\n",
              "      <th>PER(배)</th>\n",
              "      <th>BPS(원)</th>\n",
              "      <th>PBR(배)</th>\n",
              "      <th>현금DPS(원)</th>\n",
              "      <th>현금배당수익률</th>\n",
              "      <th>현금배당성향(%)</th>\n",
              "    </tr>\n",
              "  </thead>\n",
              "  <tbody>\n",
              "    <tr>\n",
              "      <th>2019/09\\n(IFRS연결)</th>\n",
              "      <td>4055</td>\n",
              "      <td>1392</td>\n",
              "      <td>1392</td>\n",
              "      <td>1554</td>\n",
              "      <td>1286</td>\n",
              "      <td>1286</td>\n",
              "      <td>0</td>\n",
              "      <td>41698</td>\n",
              "      <td>4781</td>\n",
              "      <td>36917</td>\n",
              "      <td>36916</td>\n",
              "      <td>NaN</td>\n",
              "      <td>1070</td>\n",
              "      <td>-22</td>\n",
              "      <td>-1260</td>\n",
              "      <td>-4</td>\n",
              "      <td>167</td>\n",
              "      <td>-189</td>\n",
              "      <td>48</td>\n",
              "      <td>34.33</td>\n",
              "      <td>31.72</td>\n",
              "      <td>8.27</td>\n",
              "      <td>7.2</td>\n",
              "      <td>12.95</td>\n",
              "      <td>3513.86</td>\n",
              "      <td>601</td>\n",
              "      <td>21</td>\n",
              "      <td>18209</td>\n",
              "      <td>1.62</td>\n",
              "      <td>0</td>\n",
              "      <td>NaN</td>\n",
              "      <td>0</td>\n",
              "    </tr>\n",
              "    <tr>\n",
              "      <th>2019/12\\n(IFRS연결)</th>\n",
              "      <td>3728</td>\n",
              "      <td>641</td>\n",
              "      <td>641</td>\n",
              "      <td>769</td>\n",
              "      <td>526</td>\n",
              "      <td>526</td>\n",
              "      <td>0</td>\n",
              "      <td>44381</td>\n",
              "      <td>7204</td>\n",
              "      <td>37178</td>\n",
              "      <td>37177</td>\n",
              "      <td>NaN</td>\n",
              "      <td>1070</td>\n",
              "      <td>2067</td>\n",
              "      <td>-2370</td>\n",
              "      <td>-4</td>\n",
              "      <td>383</td>\n",
              "      <td>1684</td>\n",
              "      <td>680</td>\n",
              "      <td>17.18</td>\n",
              "      <td>14.11</td>\n",
              "      <td>9.16</td>\n",
              "      <td>7.72</td>\n",
              "      <td>19.38</td>\n",
              "      <td>3538.24</td>\n",
              "      <td>246</td>\n",
              "      <td>18.92</td>\n",
              "      <td>18337</td>\n",
              "      <td>1.61</td>\n",
              "      <td>900</td>\n",
              "      <td>NaN</td>\n",
              "      <td>346.75</td>\n",
              "    </tr>\n",
              "    <tr>\n",
              "      <th>2020/03\\n(IFRS연결)</th>\n",
              "      <td>2360</td>\n",
              "      <td>-1868</td>\n",
              "      <td>-1868</td>\n",
              "      <td>-2204</td>\n",
              "      <td>-1561</td>\n",
              "      <td>-1561</td>\n",
              "      <td>0</td>\n",
              "      <td>43702</td>\n",
              "      <td>9945</td>\n",
              "      <td>33757</td>\n",
              "      <td>33757</td>\n",
              "      <td>NaN</td>\n",
              "      <td>1070</td>\n",
              "      <td>-684</td>\n",
              "      <td>909</td>\n",
              "      <td>-4</td>\n",
              "      <td>124</td>\n",
              "      <td>-808</td>\n",
              "      <td>651</td>\n",
              "      <td>-79.14</td>\n",
              "      <td>-66.15</td>\n",
              "      <td>2.21</td>\n",
              "      <td>1.75</td>\n",
              "      <td>29.46</td>\n",
              "      <td>3218.48</td>\n",
              "      <td>-730</td>\n",
              "      <td>55.53</td>\n",
              "      <td>16650</td>\n",
              "      <td>1.19</td>\n",
              "      <td>NaN</td>\n",
              "      <td>NaN</td>\n",
              "      <td>NaN</td>\n",
              "    </tr>\n",
              "    <tr>\n",
              "      <th>2020/06\\n(IFRS연결)</th>\n",
              "      <td>346</td>\n",
              "      <td>-1038</td>\n",
              "      <td>-1038</td>\n",
              "      <td>-723</td>\n",
              "      <td>-456</td>\n",
              "      <td>-456</td>\n",
              "      <td>0</td>\n",
              "      <td>39178</td>\n",
              "      <td>5900</td>\n",
              "      <td>33277</td>\n",
              "      <td>33277</td>\n",
              "      <td>1</td>\n",
              "      <td>1070</td>\n",
              "      <td>-3070</td>\n",
              "      <td>5414</td>\n",
              "      <td>-1842</td>\n",
              "      <td>82</td>\n",
              "      <td>-3153</td>\n",
              "      <td>639</td>\n",
              "      <td>-299.75</td>\n",
              "      <td>-131.55</td>\n",
              "      <td>-0.59</td>\n",
              "      <td>-0.5</td>\n",
              "      <td>17.73</td>\n",
              "      <td>3173.64</td>\n",
              "      <td>-213</td>\n",
              "      <td>NaN</td>\n",
              "      <td>16414</td>\n",
              "      <td>1.31</td>\n",
              "      <td>NaN</td>\n",
              "      <td>NaN</td>\n",
              "      <td>0</td>\n",
              "    </tr>\n",
              "    <tr>\n",
              "      <th>2020/09\\n(IFRS연결)</th>\n",
              "      <td>766</td>\n",
              "      <td>-649</td>\n",
              "      <td>-649</td>\n",
              "      <td>-552</td>\n",
              "      <td>-409</td>\n",
              "      <td>-409</td>\n",
              "      <td>0</td>\n",
              "      <td>37434</td>\n",
              "      <td>4560</td>\n",
              "      <td>32875</td>\n",
              "      <td>32874</td>\n",
              "      <td>0</td>\n",
              "      <td>1070</td>\n",
              "      <td>-1584</td>\n",
              "      <td>2327</td>\n",
              "      <td>-4</td>\n",
              "      <td>260</td>\n",
              "      <td>-1844</td>\n",
              "      <td>646</td>\n",
              "      <td>-84.68</td>\n",
              "      <td>-53.33</td>\n",
              "      <td>-5.44</td>\n",
              "      <td>-4.8</td>\n",
              "      <td>13.87</td>\n",
              "      <td>3136</td>\n",
              "      <td>-191</td>\n",
              "      <td>NaN</td>\n",
              "      <td>16215</td>\n",
              "      <td>1.33</td>\n",
              "      <td>NaN</td>\n",
              "      <td>NaN</td>\n",
              "      <td>NaN</td>\n",
              "    </tr>\n",
              "    <tr>\n",
              "      <th>2020/12(E)\\n(IFRS연결)</th>\n",
              "      <td>1581</td>\n",
              "      <td>-434</td>\n",
              "      <td>NaN</td>\n",
              "      <td>-331</td>\n",
              "      <td>-465</td>\n",
              "      <td>-314</td>\n",
              "      <td>NaN</td>\n",
              "      <td>38271</td>\n",
              "      <td>5998</td>\n",
              "      <td>32274</td>\n",
              "      <td>32212</td>\n",
              "      <td>NaN</td>\n",
              "      <td>1070</td>\n",
              "      <td>NaN</td>\n",
              "      <td>NaN</td>\n",
              "      <td>NaN</td>\n",
              "      <td>NaN</td>\n",
              "      <td>NaN</td>\n",
              "      <td>NaN</td>\n",
              "      <td>-27.49</td>\n",
              "      <td>-29.42</td>\n",
              "      <td>NaN</td>\n",
              "      <td>NaN</td>\n",
              "      <td>18.58</td>\n",
              "      <td>NaN</td>\n",
              "      <td>-147</td>\n",
              "      <td>NaN</td>\n",
              "      <td>15888</td>\n",
              "      <td>1.46</td>\n",
              "      <td>NaN</td>\n",
              "      <td>NaN</td>\n",
              "      <td>NaN</td>\n",
              "    </tr>\n",
              "    <tr>\n",
              "      <th>2021/03(E)\\n(IFRS연결)</th>\n",
              "      <td>1473</td>\n",
              "      <td>-187</td>\n",
              "      <td>NaN</td>\n",
              "      <td>NaN</td>\n",
              "      <td>NaN</td>\n",
              "      <td>-33</td>\n",
              "      <td>NaN</td>\n",
              "      <td>NaN</td>\n",
              "      <td>NaN</td>\n",
              "      <td>NaN</td>\n",
              "      <td>NaN</td>\n",
              "      <td>NaN</td>\n",
              "      <td>NaN</td>\n",
              "      <td>NaN</td>\n",
              "      <td>NaN</td>\n",
              "      <td>NaN</td>\n",
              "      <td>NaN</td>\n",
              "      <td>NaN</td>\n",
              "      <td>NaN</td>\n",
              "      <td>-12.7</td>\n",
              "      <td>NaN</td>\n",
              "      <td>NaN</td>\n",
              "      <td>NaN</td>\n",
              "      <td>NaN</td>\n",
              "      <td>NaN</td>\n",
              "      <td>-15</td>\n",
              "      <td>NaN</td>\n",
              "      <td>NaN</td>\n",
              "      <td>NaN</td>\n",
              "      <td>NaN</td>\n",
              "      <td>NaN</td>\n",
              "      <td>NaN</td>\n",
              "    </tr>\n",
              "    <tr>\n",
              "      <th>2021/06(E)\\n(IFRS연결)</th>\n",
              "      <td>1746</td>\n",
              "      <td>-65</td>\n",
              "      <td>NaN</td>\n",
              "      <td>NaN</td>\n",
              "      <td>NaN</td>\n",
              "      <td>135</td>\n",
              "      <td>NaN</td>\n",
              "      <td>NaN</td>\n",
              "      <td>NaN</td>\n",
              "      <td>NaN</td>\n",
              "      <td>NaN</td>\n",
              "      <td>NaN</td>\n",
              "      <td>NaN</td>\n",
              "      <td>NaN</td>\n",
              "      <td>NaN</td>\n",
              "      <td>NaN</td>\n",
              "      <td>NaN</td>\n",
              "      <td>NaN</td>\n",
              "      <td>NaN</td>\n",
              "      <td>-3.72</td>\n",
              "      <td>NaN</td>\n",
              "      <td>NaN</td>\n",
              "      <td>NaN</td>\n",
              "      <td>NaN</td>\n",
              "      <td>NaN</td>\n",
              "      <td>63</td>\n",
              "      <td>NaN</td>\n",
              "      <td>NaN</td>\n",
              "      <td>NaN</td>\n",
              "      <td>NaN</td>\n",
              "      <td>NaN</td>\n",
              "      <td>NaN</td>\n",
              "    </tr>\n",
              "  </tbody>\n",
              "</table>\n",
              "</div>"
            ],
            "text/plain": [
              "주요재무정보                 매출액  영업이익 영업이익(발표기준)  ... 현금DPS(원) 현금배당수익률 현금배당성향(%)\n",
              "2019/09\\n(IFRS연결)     4055  1392       1392  ...        0     NaN         0\n",
              "2019/12\\n(IFRS연결)     3728   641        641  ...      900     NaN    346.75\n",
              "2020/03\\n(IFRS연결)     2360 -1868      -1868  ...      NaN     NaN       NaN\n",
              "2020/06\\n(IFRS연결)      346 -1038      -1038  ...      NaN     NaN         0\n",
              "2020/09\\n(IFRS연결)      766  -649       -649  ...      NaN     NaN       NaN\n",
              "2020/12(E)\\n(IFRS연결)  1581  -434        NaN  ...      NaN     NaN       NaN\n",
              "2021/03(E)\\n(IFRS연결)  1473  -187        NaN  ...      NaN     NaN       NaN\n",
              "2021/06(E)\\n(IFRS연결)  1746   -65        NaN  ...      NaN     NaN       NaN\n",
              "\n",
              "[8 rows x 32 columns]"
            ]
          },
          "metadata": {
            "tags": []
          },
          "execution_count": 207
        }
      ]
    },
    {
      "cell_type": "markdown",
      "metadata": {
        "id": "156P6ndeKojO"
      },
      "source": [
        "## 2. 데이터 확인\n",
        "\n",
        "- 데이터의 dimension을 확인하세요.\n",
        "- 데이터의 결측치가 어디에 있는지 확인 후 0으로 대체하세요.\n",
        "- 각 데이터 별로 **FCF**의 값을 barplot으로 시각화하세요.\n",
        "  - 0보다 큰값, 작은값의 수의 총합을 `num1`, `num2`에 저장하세요\n"
      ]
    },
    {
      "cell_type": "code",
      "metadata": {
        "id": "s_ld2YJujRSb",
        "colab": {
          "base_uri": "https://localhost:8080/",
          "height": 1000
        },
        "outputId": "33df0826-44e8-4b18-8bc5-7ffcadedf6e6"
      },
      "source": [
        "print(df1.shape)\n",
        "df1 = df1.apply(pd.to_numeric)\n",
        "df1.dtypes\n",
        "df1 = df1.fillna(0)\n",
        "\n",
        "\n",
        "plot1 = df1['FCF'].plot(kind='bar')\n",
        "print(plot1)\n",
        "df1\n"
      ],
      "execution_count": null,
      "outputs": [
        {
          "output_type": "stream",
          "text": [
            "(8, 32)\n",
            "AxesSubplot(0.125,0.125;0.775x0.755)\n"
          ],
          "name": "stdout"
        },
        {
          "output_type": "execute_result",
          "data": {
            "text/html": [
              "<div>\n",
              "<style scoped>\n",
              "    .dataframe tbody tr th:only-of-type {\n",
              "        vertical-align: middle;\n",
              "    }\n",
              "\n",
              "    .dataframe tbody tr th {\n",
              "        vertical-align: top;\n",
              "    }\n",
              "\n",
              "    .dataframe thead th {\n",
              "        text-align: right;\n",
              "    }\n",
              "</style>\n",
              "<table border=\"1\" class=\"dataframe\">\n",
              "  <thead>\n",
              "    <tr style=\"text-align: right;\">\n",
              "      <th>주요재무정보</th>\n",
              "      <th>매출액</th>\n",
              "      <th>영업이익</th>\n",
              "      <th>영업이익(발표기준)</th>\n",
              "      <th>세전계속사업이익</th>\n",
              "      <th>당기순이익</th>\n",
              "      <th>당기순이익(지배)</th>\n",
              "      <th>당기순이익(비지배)</th>\n",
              "      <th>자산총계</th>\n",
              "      <th>부채총계</th>\n",
              "      <th>자본총계</th>\n",
              "      <th>자본총계(지배)</th>\n",
              "      <th>자본총계(비지배)</th>\n",
              "      <th>자본금</th>\n",
              "      <th>영업활동현금흐름</th>\n",
              "      <th>투자활동현금흐름</th>\n",
              "      <th>재무활동현금흐름</th>\n",
              "      <th>CAPEX</th>\n",
              "      <th>FCF</th>\n",
              "      <th>이자발생부채</th>\n",
              "      <th>영업이익률</th>\n",
              "      <th>순이익률</th>\n",
              "      <th>ROE(%)</th>\n",
              "      <th>ROA(%)</th>\n",
              "      <th>부채비율</th>\n",
              "      <th>자본유보율</th>\n",
              "      <th>EPS(원)</th>\n",
              "      <th>PER(배)</th>\n",
              "      <th>BPS(원)</th>\n",
              "      <th>PBR(배)</th>\n",
              "      <th>현금DPS(원)</th>\n",
              "      <th>현금배당수익률</th>\n",
              "      <th>현금배당성향(%)</th>\n",
              "    </tr>\n",
              "  </thead>\n",
              "  <tbody>\n",
              "    <tr>\n",
              "      <th>2019/09\\n(IFRS연결)</th>\n",
              "      <td>14753.0</td>\n",
              "      <td>574.0</td>\n",
              "      <td>574.0</td>\n",
              "      <td>376.0</td>\n",
              "      <td>274.0</td>\n",
              "      <td>277.0</td>\n",
              "      <td>-3.0</td>\n",
              "      <td>37747.0</td>\n",
              "      <td>28854.0</td>\n",
              "      <td>8893.0</td>\n",
              "      <td>8889.0</td>\n",
              "      <td>4.0</td>\n",
              "      <td>2000.0</td>\n",
              "      <td>1652.0</td>\n",
              "      <td>-284.0</td>\n",
              "      <td>-900.0</td>\n",
              "      <td>159.0</td>\n",
              "      <td>1493.0</td>\n",
              "      <td>19035.0</td>\n",
              "      <td>3.89</td>\n",
              "      <td>1.86</td>\n",
              "      <td>13.18</td>\n",
              "      <td>3.62</td>\n",
              "      <td>324.45</td>\n",
              "      <td>395.10</td>\n",
              "      <td>692.0</td>\n",
              "      <td>31.19</td>\n",
              "      <td>23484.0</td>\n",
              "      <td>3.67</td>\n",
              "      <td>0.0</td>\n",
              "      <td>0.0</td>\n",
              "      <td>0.00</td>\n",
              "    </tr>\n",
              "    <tr>\n",
              "      <th>2019/12\\n(IFRS연결)</th>\n",
              "      <td>15440.0</td>\n",
              "      <td>776.0</td>\n",
              "      <td>776.0</td>\n",
              "      <td>538.0</td>\n",
              "      <td>380.0</td>\n",
              "      <td>380.0</td>\n",
              "      <td>0.0</td>\n",
              "      <td>35273.0</td>\n",
              "      <td>26077.0</td>\n",
              "      <td>9195.0</td>\n",
              "      <td>9192.0</td>\n",
              "      <td>4.0</td>\n",
              "      <td>2000.0</td>\n",
              "      <td>-480.0</td>\n",
              "      <td>-208.0</td>\n",
              "      <td>1230.0</td>\n",
              "      <td>109.0</td>\n",
              "      <td>-589.0</td>\n",
              "      <td>15615.0</td>\n",
              "      <td>5.03</td>\n",
              "      <td>2.46</td>\n",
              "      <td>20.16</td>\n",
              "      <td>5.81</td>\n",
              "      <td>283.59</td>\n",
              "      <td>411.78</td>\n",
              "      <td>950.0</td>\n",
              "      <td>21.40</td>\n",
              "      <td>24282.0</td>\n",
              "      <td>3.74</td>\n",
              "      <td>350.0</td>\n",
              "      <td>0.0</td>\n",
              "      <td>34.94</td>\n",
              "    </tr>\n",
              "    <tr>\n",
              "      <th>2020/03\\n(IFRS연결)</th>\n",
              "      <td>9437.0</td>\n",
              "      <td>-668.0</td>\n",
              "      <td>-668.0</td>\n",
              "      <td>-925.0</td>\n",
              "      <td>-736.0</td>\n",
              "      <td>-736.0</td>\n",
              "      <td>0.0</td>\n",
              "      <td>33188.0</td>\n",
              "      <td>24813.0</td>\n",
              "      <td>8375.0</td>\n",
              "      <td>8371.0</td>\n",
              "      <td>4.0</td>\n",
              "      <td>2000.0</td>\n",
              "      <td>-4525.0</td>\n",
              "      <td>-237.0</td>\n",
              "      <td>1288.0</td>\n",
              "      <td>155.0</td>\n",
              "      <td>-4680.0</td>\n",
              "      <td>17505.0</td>\n",
              "      <td>-7.08</td>\n",
              "      <td>-7.80</td>\n",
              "      <td>5.39</td>\n",
              "      <td>1.25</td>\n",
              "      <td>296.28</td>\n",
              "      <td>368.36</td>\n",
              "      <td>-1839.0</td>\n",
              "      <td>63.76</td>\n",
              "      <td>22114.0</td>\n",
              "      <td>3.19</td>\n",
              "      <td>0.0</td>\n",
              "      <td>0.0</td>\n",
              "      <td>0.00</td>\n",
              "    </tr>\n",
              "    <tr>\n",
              "      <th>2020/06\\n(IFRS연결)</th>\n",
              "      <td>5230.0</td>\n",
              "      <td>-634.0</td>\n",
              "      <td>-634.0</td>\n",
              "      <td>-819.0</td>\n",
              "      <td>-677.0</td>\n",
              "      <td>-678.0</td>\n",
              "      <td>1.0</td>\n",
              "      <td>33039.0</td>\n",
              "      <td>25364.0</td>\n",
              "      <td>7676.0</td>\n",
              "      <td>7671.0</td>\n",
              "      <td>5.0</td>\n",
              "      <td>2000.0</td>\n",
              "      <td>879.0</td>\n",
              "      <td>-856.0</td>\n",
              "      <td>448.0</td>\n",
              "      <td>90.0</td>\n",
              "      <td>789.0</td>\n",
              "      <td>18933.0</td>\n",
              "      <td>-12.13</td>\n",
              "      <td>-12.95</td>\n",
              "      <td>-9.31</td>\n",
              "      <td>-2.14</td>\n",
              "      <td>330.45</td>\n",
              "      <td>334.46</td>\n",
              "      <td>-1695.0</td>\n",
              "      <td>0.00</td>\n",
              "      <td>20265.0</td>\n",
              "      <td>3.50</td>\n",
              "      <td>0.0</td>\n",
              "      <td>0.0</td>\n",
              "      <td>0.00</td>\n",
              "    </tr>\n",
              "    <tr>\n",
              "      <th>2020/09\\n(IFRS연결)</th>\n",
              "      <td>8795.0</td>\n",
              "      <td>-198.0</td>\n",
              "      <td>-198.0</td>\n",
              "      <td>-366.0</td>\n",
              "      <td>-285.0</td>\n",
              "      <td>-285.0</td>\n",
              "      <td>0.0</td>\n",
              "      <td>32683.0</td>\n",
              "      <td>25318.0</td>\n",
              "      <td>7365.0</td>\n",
              "      <td>7360.0</td>\n",
              "      <td>5.0</td>\n",
              "      <td>2000.0</td>\n",
              "      <td>3104.0</td>\n",
              "      <td>-1388.0</td>\n",
              "      <td>-882.0</td>\n",
              "      <td>129.0</td>\n",
              "      <td>2975.0</td>\n",
              "      <td>17755.0</td>\n",
              "      <td>-2.25</td>\n",
              "      <td>-3.24</td>\n",
              "      <td>-16.22</td>\n",
              "      <td>-3.74</td>\n",
              "      <td>343.77</td>\n",
              "      <td>320.21</td>\n",
              "      <td>-712.0</td>\n",
              "      <td>0.00</td>\n",
              "      <td>19444.0</td>\n",
              "      <td>3.91</td>\n",
              "      <td>0.0</td>\n",
              "      <td>0.0</td>\n",
              "      <td>0.00</td>\n",
              "    </tr>\n",
              "    <tr>\n",
              "      <th>2020/12(E)\\n(IFRS연결)</th>\n",
              "      <td>9980.0</td>\n",
              "      <td>50.0</td>\n",
              "      <td>0.0</td>\n",
              "      <td>-109.0</td>\n",
              "      <td>-100.0</td>\n",
              "      <td>-100.0</td>\n",
              "      <td>0.0</td>\n",
              "      <td>32388.0</td>\n",
              "      <td>25171.0</td>\n",
              "      <td>7216.0</td>\n",
              "      <td>7263.0</td>\n",
              "      <td>0.0</td>\n",
              "      <td>2000.0</td>\n",
              "      <td>0.0</td>\n",
              "      <td>0.0</td>\n",
              "      <td>0.0</td>\n",
              "      <td>0.0</td>\n",
              "      <td>0.0</td>\n",
              "      <td>0.0</td>\n",
              "      <td>0.50</td>\n",
              "      <td>-1.01</td>\n",
              "      <td>0.00</td>\n",
              "      <td>0.00</td>\n",
              "      <td>348.79</td>\n",
              "      <td>0.00</td>\n",
              "      <td>-251.0</td>\n",
              "      <td>0.00</td>\n",
              "      <td>19187.0</td>\n",
              "      <td>4.22</td>\n",
              "      <td>0.0</td>\n",
              "      <td>0.0</td>\n",
              "      <td>0.00</td>\n",
              "    </tr>\n",
              "    <tr>\n",
              "      <th>2021/03(E)\\n(IFRS연결)</th>\n",
              "      <td>9761.0</td>\n",
              "      <td>144.0</td>\n",
              "      <td>0.0</td>\n",
              "      <td>14.0</td>\n",
              "      <td>71.0</td>\n",
              "      <td>53.0</td>\n",
              "      <td>0.0</td>\n",
              "      <td>0.0</td>\n",
              "      <td>0.0</td>\n",
              "      <td>0.0</td>\n",
              "      <td>0.0</td>\n",
              "      <td>0.0</td>\n",
              "      <td>0.0</td>\n",
              "      <td>0.0</td>\n",
              "      <td>0.0</td>\n",
              "      <td>0.0</td>\n",
              "      <td>0.0</td>\n",
              "      <td>0.0</td>\n",
              "      <td>0.0</td>\n",
              "      <td>1.47</td>\n",
              "      <td>0.73</td>\n",
              "      <td>0.00</td>\n",
              "      <td>0.00</td>\n",
              "      <td>0.00</td>\n",
              "      <td>0.00</td>\n",
              "      <td>133.0</td>\n",
              "      <td>0.00</td>\n",
              "      <td>0.0</td>\n",
              "      <td>0.00</td>\n",
              "      <td>0.0</td>\n",
              "      <td>0.0</td>\n",
              "      <td>0.00</td>\n",
              "    </tr>\n",
              "    <tr>\n",
              "      <th>2021/06(E)\\n(IFRS연결)</th>\n",
              "      <td>9820.0</td>\n",
              "      <td>265.0</td>\n",
              "      <td>0.0</td>\n",
              "      <td>172.0</td>\n",
              "      <td>214.0</td>\n",
              "      <td>123.0</td>\n",
              "      <td>0.0</td>\n",
              "      <td>0.0</td>\n",
              "      <td>0.0</td>\n",
              "      <td>0.0</td>\n",
              "      <td>0.0</td>\n",
              "      <td>0.0</td>\n",
              "      <td>0.0</td>\n",
              "      <td>0.0</td>\n",
              "      <td>0.0</td>\n",
              "      <td>0.0</td>\n",
              "      <td>0.0</td>\n",
              "      <td>0.0</td>\n",
              "      <td>0.0</td>\n",
              "      <td>2.70</td>\n",
              "      <td>2.18</td>\n",
              "      <td>0.00</td>\n",
              "      <td>0.00</td>\n",
              "      <td>0.00</td>\n",
              "      <td>0.00</td>\n",
              "      <td>308.0</td>\n",
              "      <td>0.00</td>\n",
              "      <td>0.0</td>\n",
              "      <td>0.00</td>\n",
              "      <td>0.0</td>\n",
              "      <td>0.0</td>\n",
              "      <td>0.00</td>\n",
              "    </tr>\n",
              "  </tbody>\n",
              "</table>\n",
              "</div>"
            ],
            "text/plain": [
              "주요재무정보                    매출액   영업이익  영업이익(발표기준)  ...  현금DPS(원)  현금배당수익률  현금배당성향(%)\n",
              "2019/09\\n(IFRS연결)     14753.0  574.0       574.0  ...       0.0      0.0       0.00\n",
              "2019/12\\n(IFRS연결)     15440.0  776.0       776.0  ...     350.0      0.0      34.94\n",
              "2020/03\\n(IFRS연결)      9437.0 -668.0      -668.0  ...       0.0      0.0       0.00\n",
              "2020/06\\n(IFRS연결)      5230.0 -634.0      -634.0  ...       0.0      0.0       0.00\n",
              "2020/09\\n(IFRS연결)      8795.0 -198.0      -198.0  ...       0.0      0.0       0.00\n",
              "2020/12(E)\\n(IFRS연결)   9980.0   50.0         0.0  ...       0.0      0.0       0.00\n",
              "2021/03(E)\\n(IFRS연결)   9761.0  144.0         0.0  ...       0.0      0.0       0.00\n",
              "2021/06(E)\\n(IFRS연결)   9820.0  265.0         0.0  ...       0.0      0.0       0.00\n",
              "\n",
              "[8 rows x 32 columns]"
            ]
          },
          "metadata": {
            "tags": []
          },
          "execution_count": 208
        },
        {
          "output_type": "stream",
          "text": [
            "/usr/local/lib/python3.7/dist-packages/matplotlib/backends/backend_agg.py:214: RuntimeWarning: Glyph 50672 missing from current font.\n",
            "  font.set_text(s, 0.0, flags=flags)\n",
            "/usr/local/lib/python3.7/dist-packages/matplotlib/backends/backend_agg.py:214: RuntimeWarning: Glyph 44208 missing from current font.\n",
            "  font.set_text(s, 0.0, flags=flags)\n",
            "/usr/local/lib/python3.7/dist-packages/matplotlib/backends/backend_agg.py:183: RuntimeWarning: Glyph 50672 missing from current font.\n",
            "  font.set_text(s, 0, flags=flags)\n",
            "/usr/local/lib/python3.7/dist-packages/matplotlib/backends/backend_agg.py:183: RuntimeWarning: Glyph 44208 missing from current font.\n",
            "  font.set_text(s, 0, flags=flags)\n"
          ],
          "name": "stderr"
        },
        {
          "output_type": "display_data",
          "data": {
            "image/png": "[encoded data removed]",
            "text/plain": [
              "<Figure size 720x720 with 1 Axes>"
            ]
          },
          "metadata": {
            "tags": [],
            "needs_background": "light"
          }
        }
      ]
    },
    {
      "cell_type": "code",
      "metadata": {
        "colab": {
          "base_uri": "https://localhost:8080/",
          "height": 812
        },
        "id": "Sn_zW4eAFBd0",
        "outputId": "2acfe46f-e3b7-4af4-bb11-4b57b9733e69"
      },
      "source": [
        "print(df2.shape)\n",
        "df2.isnull()\n",
        "df2 = df2.fillna(0)\n",
        "df2\n",
        "\n",
        "plot2 = df2['FCF'].plot(kind='bar')\n",
        "print(plot2)\n"
      ],
      "execution_count": null,
      "outputs": [
        {
          "output_type": "stream",
          "text": [
            "(8, 32)\n",
            "AxesSubplot(0.125,0.125;0.775x0.755)\n"
          ],
          "name": "stdout"
        },
        {
          "output_type": "stream",
          "text": [
            "/usr/local/lib/python3.7/dist-packages/matplotlib/backends/backend_agg.py:214: RuntimeWarning: Glyph 50672 missing from current font.\n",
            "  font.set_text(s, 0.0, flags=flags)\n",
            "/usr/local/lib/python3.7/dist-packages/matplotlib/backends/backend_agg.py:214: RuntimeWarning: Glyph 44208 missing from current font.\n",
            "  font.set_text(s, 0.0, flags=flags)\n",
            "/usr/local/lib/python3.7/dist-packages/matplotlib/backends/backend_agg.py:183: RuntimeWarning: Glyph 50672 missing from current font.\n",
            "  font.set_text(s, 0, flags=flags)\n",
            "/usr/local/lib/python3.7/dist-packages/matplotlib/backends/backend_agg.py:183: RuntimeWarning: Glyph 44208 missing from current font.\n",
            "  font.set_text(s, 0, flags=flags)\n"
          ],
          "name": "stderr"
        },
        {
          "output_type": "display_data",
          "data": {
            "image/png": "[encoded data removed]",
            "text/plain": [
              "<Figure size 720x720 with 1 Axes>"
            ]
          },
          "metadata": {
            "tags": [],
            "needs_background": "light"
          }
        }
      ]
    },
    {
      "cell_type": "code",
      "metadata": {
        "colab": {
          "base_uri": "https://localhost:8080/"
        },
        "id": "HIxF9S9RFoqI",
        "outputId": "97b206a6-3dff-4671-868d-bfa329ac43f5"
      },
      "source": [
        "num1 = ((df1['FCF']> 0).sum())+((df2['FCF']> 0).sum())\n",
        "num2 = ((df1['FCF']< 0).sum())+((df2['FCF']< 0).sum())\n",
        "print(num1)\n",
        "print(num2)"
      ],
      "execution_count": null,
      "outputs": [
        {
          "output_type": "stream",
          "text": [
            "4\n",
            "6\n"
          ],
          "name": "stdout"
        }
      ]
    },
    {
      "cell_type": "markdown",
      "metadata": {
        "id": "OGMOBwEBTqKS"
      },
      "source": [
        "## 3. File export\n",
        "\n",
        "- 읽었던 엑셀 파일의 내용을 2개의 csv로 각각 출력하세요. (python export csv)\n",
        "\n",
        "  - 이름은 각각 `df1.csv`, `df2.csv` 입니다.\n"
      ]
    },
    {
      "cell_type": "code",
      "metadata": {
        "id": "xe47NX7qk53H"
      },
      "source": [
        "csv1 = pd.DataFrame(df1)\n",
        "csv1.to_csv('df1.csv')\n",
        "\n",
        "\n",
        "\n",
        "csv2 = pd.DataFrame(df2)\n",
        "csv2.to_csv('df2.csv')\n",
        "csv2 = pd.read_csv('df2.csv')\n",
        "csv1 = pd.read_csv('df1.csv')\n"
      ],
      "execution_count": null,
      "outputs": []
    },
    {
      "cell_type": "markdown",
      "metadata": {
        "id": "DCZ01w4Ps-jO"
      },
      "source": [
        "## 4. Error Handling\n",
        "\n",
        "- 다음의 에러를 고치세요. 결과값은 6912가 나와야합니다.\n"
      ]
    },
    {
      "cell_type": "code",
      "metadata": {
        "colab": {
          "base_uri": "https://localhost:8080/"
        },
        "id": "NJdISe69ZT7E",
        "outputId": "a11fc01d-cf94-405d-a275-f169ecae8c96"
      },
      "source": [
        "a = '1234'\n",
        "b = 5678\n",
        "\n",
        "a = int(a)\n",
        "print(a+b)"
      ],
      "execution_count": null,
      "outputs": [
        {
          "output_type": "stream",
          "text": [
            "6912\n"
          ],
          "name": "stdout"
        }
      ]
    },
    {
      "cell_type": "markdown",
      "metadata": {
        "id": "KROePyMWQc08"
      },
      "source": [
        "## 5. EDA\n",
        "\n",
        "아래의 코드는 palmer penguin 데이터를 불러올 수 있는 코드입니다.\n",
        "\n",
        "```python\n",
        "import seaborn as sns\n",
        "\n",
        "pp = sns.load_dataset('penguins')\n",
        "```\n",
        "\n",
        "이를 참조하여, `pp`의 `species`와 `sex`변수에 대해서 cross-tabulation을 시행하고, 6개의 값들 중 가장 큰 값을 `num3`에, 가장 작은 값을 `num4`에 저장하세요."
      ]
    },
    {
      "cell_type": "code",
      "metadata": {
        "id": "GuENkrLISFeR",
        "colab": {
          "base_uri": "https://localhost:8080/"
        },
        "outputId": "016fdbfe-f249-40d8-83cf-20e5c6e1ef7f"
      },
      "source": [
        "\n",
        "pp = sns.load_dataset('penguins')\n",
        "print(pp)\n",
        "dd = pd.crosstab(pp['species'],pp['sex'])\n",
        "num3 = (dd.max()).max()\n",
        "print(num3)\n",
        "num4 = (dd.min()).min()\n",
        "print(num4)"
      ],
      "execution_count": null,
      "outputs": [
        {
          "output_type": "stream",
          "text": [
            "    species     island  bill_length_mm  ...  flipper_length_mm  body_mass_g     sex\n",
            "0    Adelie  Torgersen            39.1  ...              181.0       3750.0    Male\n",
            "1    Adelie  Torgersen            39.5  ...              186.0       3800.0  Female\n",
            "2    Adelie  Torgersen            40.3  ...              195.0       3250.0  Female\n",
            "3    Adelie  Torgersen             NaN  ...                NaN          NaN     NaN\n",
            "4    Adelie  Torgersen            36.7  ...              193.0       3450.0  Female\n",
            "..      ...        ...             ...  ...                ...          ...     ...\n",
            "339  Gentoo     Biscoe             NaN  ...                NaN          NaN     NaN\n",
            "340  Gentoo     Biscoe            46.8  ...              215.0       4850.0  Female\n",
            "341  Gentoo     Biscoe            50.4  ...              222.0       5750.0    Male\n",
            "342  Gentoo     Biscoe            45.2  ...              212.0       5200.0  Female\n",
            "343  Gentoo     Biscoe            49.9  ...              213.0       5400.0    Male\n",
            "\n",
            "[344 rows x 7 columns]\n",
            "73\n",
            "34\n"
          ],
          "name": "stdout"
        }
      ]
    },
    {
      "cell_type": "markdown",
      "metadata": {
        "id": "en0Q_b5L4fxA"
      },
      "source": [
        "## Grading\n",
        "\n",
        "이전 과제를 완료했다면, 아래의 코드를 실행하세요. "
      ]
    },
    {
      "cell_type": "code",
      "metadata": {
        "id": "1k3zn-YV4fdg"
      },
      "source": [
        "import os\n",
        "\n",
        "def grade(df1, df2, num1, num2, num3, num4):\n",
        "  score = 0\n",
        "  \n",
        "  score += (df1['매출액'][0] == 14753)\n",
        "  score += (df2['매출액'][1] == 3728)\n",
        "\n",
        "  \n",
        "  score += (df1.shape == (8, 32))\n",
        "  score += (df2.isnull().sum().sum() == 0)\n",
        "  score += (num1 == 4 and num2 == 6)\n",
        "  \n",
        "  score += (num3 == 73 and num4 == 34)\n",
        "\n",
        "  score += (os.listdir() == ['.config', 'df2.csv', 'df1.csv', 'sample_data'])\n",
        "\n",
        "  score += (a+b == 6912)\n",
        "\n",
        "  return(score)"
      ],
      "execution_count": null,
      "outputs": []
    },
    {
      "cell_type": "code",
      "metadata": {
        "id": "nj_RslFn4lCM",
        "colab": {
          "base_uri": "https://localhost:8080/"
        },
        "outputId": "53ebe9aa-0d7e-4c9e-ca9c-ead97507eec2"
      },
      "source": [
        "grade(df1, df2, num1, num2, num3, num4)"
      ],
      "execution_count": null,
      "outputs": [
        {
          "output_type": "execute_result",
          "data": {
            "text/plain": [
              "7"
            ]
          },
          "metadata": {
            "tags": []
          },
          "execution_count": 215
        }
      ]
    },
    {
      "cell_type": "code",
      "metadata": {
        "id": "oeNGCOToAZGk",
        "colab": {
          "base_uri": "https://localhost:8080/"
        },
        "outputId": "01a6ee1d-c5ea-4447-a1c9-530c38a16922"
      },
      "source": [
        "os.listdir()"
      ],
      "execution_count": null,
      "outputs": [
        {
          "output_type": "execute_result",
          "data": {
            "text/plain": [
              "['.config', 'df1.csv', 'df2.csv', 'sample_data']"
            ]
          },
          "metadata": {
            "tags": []
          },
          "execution_count": 216
        }
      ]
    },
    {
      "cell_type": "markdown",
      "metadata": {
        "id": "axPHh5t5s124"
      },
      "source": [
        "## 🔥 도전과제 \n",
        "\n",
        "- 다음 데이터를 사용하여 아래와 동일한 그래프를 그리세요.\n",
        "\n",
        "<https://ds-lecture-data.s3.ap-northeast-2.amazonaws.com/stocks/TSLA.csv>\n",
        "\n",
        "<img src='https://i.imgur.com/UsS5JcZ.png'>\n",
        "\n"
      ]
    },
    {
      "cell_type": "code",
      "metadata": {
        "id": "oa9B7jmAQxS-"
      },
      "source": [
        "\n",
        "import matplotlib.pyplot as plt\n",
        "import datetime as dt\n",
        "csv_url2 = 'https://ds-lecture-data.s3.ap-northeast-2.amazonaws.com/stocks/TSLA.csv'\n",
        "df3 = pd.read_csv(csv_url2)\n",
        "df3['Date'] = pd.to_datetime(df3.Date, format='%Y-%m-%d') #포맷 정의 후 나누기\n",
        "df3['Date'] = df3['Date'].dt.year\n",
        "p0 = df3.loc[df3['Date'] == 2010, 'Close'] #범위나눠주기\n",
        "p1 = df3.loc[df3['Date'] == 2011, 'Close']\n",
        "p2 = df3.loc[df3['Date'] == 2012, 'Close']\n",
        "p3 = df3.loc[df3['Date'] == 2013, 'Close']\n",
        "p4 = df3.loc[df3['Date'] == 2014, 'Close']\n",
        "p5 = df3.loc[df3['Date'] == 2015, 'Close']\n",
        "p6 = df3.loc[df3['Date'] == 2016, 'Close']\n",
        "p7 = df3.loc[df3['Date'] == 2017, 'Close']\n",
        "p8 = df3.loc[df3['Date'] == 2018, 'Close']\n",
        "p9 = df3.loc[df3['Date'] == 2019, 'Close']\n",
        "p10 = df3.loc[df3['Date'] == 2020, 'Close']"
      ],
      "execution_count": null,
      "outputs": []
    },
    {
      "cell_type": "code",
      "metadata": {
        "id": "eNGiylrhwm2D",
        "colab": {
          "base_uri": "https://localhost:8080/",
          "height": 377
        },
        "outputId": "15c89a87-a6b6-4c21-c333-6edd9bee41d6"
      },
      "source": [
        "\n",
        "\n",
        "import matplotlib.pyplot as plt\n",
        "\n",
        "plt.figure(figsize= (17,5))\n",
        "plt.grid(True, axis='y') #가로 그리드\n",
        "plt.title('Stock Price Movement Grouped by Year on Close',fontsize=15)\n",
        "plt.plot(p0,label=2010)\n",
        "plt.plot(p1,label=2011)\n",
        "plt.plot(p2,label=2012)\n",
        "plt.plot(p3,label=2013)\n",
        "plt.plot(p4,label=2014)\n",
        "plt.plot(p5,label=2015)\n",
        "plt.plot(p6,label=2016)\n",
        "plt.plot(p7,label=2017)\n",
        "plt.plot(p8,label=2018)\n",
        "plt.plot(p9,label=2019)\n",
        "plt.plot(p10,label=2020)\n",
        "plt.legend(loc=2,fontsize=14) #loc 2 ; 왼쪽위\n",
        "\n",
        "\n",
        "plt.ylabel('Close Price') #y축 이름\n",
        "plt.axis([0, 2400, 0, 550])\n",
        "plt.xticks(fontsize=14) #눈금축 숫자크기 변경\n",
        "plt.yticks(fontsize=14)"
      ],
      "execution_count": null,
      "outputs": [
        {
          "output_type": "execute_result",
          "data": {
            "text/plain": [
              "(array([  0., 100., 200., 300., 400., 500., 600.]),\n",
              " <a list of 7 Text major ticklabel objects>)"
            ]
          },
          "metadata": {
            "tags": []
          },
          "execution_count": 218
        },
        {
          "output_type": "display_data",
          "data": {
            "image/png": "[encoded data removed]",
            "text/plain": [
              "<Figure size 1224x360 with 1 Axes>"
            ]
          },
          "metadata": {
            "tags": [],
            "needs_background": "light"
          }
        }
      ]
    },
    {
      "cell_type": "markdown",
      "metadata": {
        "id": "Obp0rnowSgF8"
      },
      "source": [
        "- penguins 데이터를 계속 사용합니다.\n",
        "\n",
        "이에 대해 아래의 task들을 시행하세요.\n",
        "\n",
        "- 결측치 처리 (제거)\n",
        "\n",
        "- bill_length_mm에 대해서 qqplot 그리기\n",
        "\n",
        "- island에 대해서 다른 4개의 numerical feature 를 boxplot으로 표현하기\n",
        "\n",
        "- 각 numerical feature에 대해서 summary statistics : mean, sd, Quantiles(1Q, 2Q, 3Q, 4Q)를 계산하세요."
      ]
    },
    {
      "cell_type": "code",
      "metadata": {
        "id": "vf2p_K7NBwBT",
        "colab": {
          "base_uri": "https://localhost:8080/",
          "height": 606
        },
        "outputId": "06ed4918-796f-444b-8cc5-98c8a9898f3f"
      },
      "source": [
        "import statsmodels.api as sm\n",
        "\n",
        "pp = pp.dropna() #NAN값이 있는 모든 열 제거\n",
        "sm.qqplot(pp['bill_length_mm'])  #bill_length_mm에 대해서 qqplot 그리기\n",
        "plt.show() \n",
        "\n"
      ],
      "execution_count": null,
      "outputs": [
        {
          "output_type": "display_data",
          "data": {
            "image/png": "[encoded data removed]",
            "text/plain": [
              "<Figure size 720x720 with 1 Axes>"
            ]
          },
          "metadata": {
            "tags": [],
            "needs_background": "light"
          }
        }
      ]
    },
    {
      "cell_type": "code",
      "metadata": {
        "colab": {
          "base_uri": "https://localhost:8080/",
          "height": 1000
        },
        "id": "GIQPJNy0VYnV",
        "outputId": "8c077da8-38df-42c3-a41b-7672daca2e15"
      },
      "source": [
        "# island를 기준으로 4개의 numerical fearture에 대한 박스플롯\n",
        "boxplot = pp.boxplot(column=['bill_length_mm'],by = \"island\") #해당열 boxplot 생성\n",
        "boxplot.plot()\n",
        "plt.show()\n",
        "\n",
        "\n",
        "boxplot = pp.boxplot(column=['bill_depth_mm'],by = \"island\") #해당열 boxplot 생성\n",
        "boxplot.plot()\n",
        "plt.show()\n",
        "\n",
        "\n",
        "boxplot = pp.boxplot(column=['flipper_length_mm'],by = \"island\") #해당열 boxplot 생성\n",
        "boxplot.plot()\n",
        "plt.show()\n",
        "\n",
        "boxplot = pp.boxplot(column=['body_mass_g'],by = \"island\") #해당열 boxplot 생성 \n",
        "boxplot.plot()\n",
        "plt.show()\n"
      ],
      "execution_count": null,
      "outputs": [
        {
          "output_type": "stream",
          "text": [
            "/usr/local/lib/python3.7/dist-packages/numpy/core/_asarray.py:83: VisibleDeprecationWarning: Creating an ndarray from ragged nested sequences (which is a list-or-tuple of lists-or-tuples-or ndarrays with different lengths or shapes) is deprecated. If you meant to do this, you must specify 'dtype=object' when creating the ndarray\n",
            "  return array(a, dtype, copy=False, order=order)\n"
          ],
          "name": "stderr"
        },
        {
          "output_type": "display_data",
          "data": {
            "image/png": "[encoded data removed]",
            "text/plain": [
              "<Figure size 720x720 with 1 Axes>"
            ]
          },
          "metadata": {
            "tags": [],
            "needs_background": "light"
          }
        },
        {
          "output_type": "stream",
          "text": [
            "/usr/local/lib/python3.7/dist-packages/numpy/core/_asarray.py:83: VisibleDeprecationWarning: Creating an ndarray from ragged nested sequences (which is a list-or-tuple of lists-or-tuples-or ndarrays with different lengths or shapes) is deprecated. If you meant to do this, you must specify 'dtype=object' when creating the ndarray\n",
            "  return array(a, dtype, copy=False, order=order)\n"
          ],
          "name": "stderr"
        },
        {
          "output_type": "display_data",
          "data": {
            "image/png": "[encoded data removed]",
            "text/plain": [
              "<Figure size 720x720 with 1 Axes>"
            ]
          },
          "metadata": {
            "tags": [],
            "needs_background": "light"
          }
        },
        {
          "output_type": "stream",
          "text": [
            "/usr/local/lib/python3.7/dist-packages/numpy/core/_asarray.py:83: VisibleDeprecationWarning: Creating an ndarray from ragged nested sequences (which is a list-or-tuple of lists-or-tuples-or ndarrays with different lengths or shapes) is deprecated. If you meant to do this, you must specify 'dtype=object' when creating the ndarray\n",
            "  return array(a, dtype, copy=False, order=order)\n"
          ],
          "name": "stderr"
        },
        {
          "output_type": "display_data",
          "data": {
            "image/png": "[encoded data removed]",
            "text/plain": [
              "<Figure size 720x720 with 1 Axes>"
            ]
          },
          "metadata": {
            "tags": [],
            "needs_background": "light"
          }
        },
        {
          "output_type": "stream",
          "text": [
            "/usr/local/lib/python3.7/dist-packages/numpy/core/_asarray.py:83: VisibleDeprecationWarning: Creating an ndarray from ragged nested sequences (which is a list-or-tuple of lists-or-tuples-or ndarrays with different lengths or shapes) is deprecated. If you meant to do this, you must specify 'dtype=object' when creating the ndarray\n",
            "  return array(a, dtype, copy=False, order=order)\n"
          ],
          "name": "stderr"
        },
        {
          "output_type": "display_data",
          "data": {
            "image/png": "[encoded data removed]",
            "text/plain": [
              "<Figure size 720x720 with 1 Axes>"
            ]
          },
          "metadata": {
            "tags": [],
            "needs_background": "light"
          }
        }
      ]
    },
    {
      "cell_type": "code",
      "metadata": {
        "colab": {
          "base_uri": "https://localhost:8080/",
          "height": 257
        },
        "id": "-1uO07B0bjH9",
        "outputId": "af173f3a-4afb-43ca-c4a6-4963ef327560"
      },
      "source": [
        "# mean sd 1Q 2Q 3Q 4Q 추출\n",
        "\n",
        "su_mmary = pp.describe()\n",
        "su_mmary.iloc[1:] "
      ],
      "execution_count": null,
      "outputs": [
        {
          "output_type": "execute_result",
          "data": {
            "text/html": [
              "<div>\n",
              "<style scoped>\n",
              "    .dataframe tbody tr th:only-of-type {\n",
              "        vertical-align: middle;\n",
              "    }\n",
              "\n",
              "    .dataframe tbody tr th {\n",
              "        vertical-align: top;\n",
              "    }\n",
              "\n",
              "    .dataframe thead th {\n",
              "        text-align: right;\n",
              "    }\n",
              "</style>\n",
              "<table border=\"1\" class=\"dataframe\">\n",
              "  <thead>\n",
              "    <tr style=\"text-align: right;\">\n",
              "      <th></th>\n",
              "      <th>bill_length_mm</th>\n",
              "      <th>bill_depth_mm</th>\n",
              "      <th>flipper_length_mm</th>\n",
              "      <th>body_mass_g</th>\n",
              "    </tr>\n",
              "  </thead>\n",
              "  <tbody>\n",
              "    <tr>\n",
              "      <th>mean</th>\n",
              "      <td>43.992793</td>\n",
              "      <td>17.164865</td>\n",
              "      <td>200.966967</td>\n",
              "      <td>4207.057057</td>\n",
              "    </tr>\n",
              "    <tr>\n",
              "      <th>std</th>\n",
              "      <td>5.468668</td>\n",
              "      <td>1.969235</td>\n",
              "      <td>14.015765</td>\n",
              "      <td>805.215802</td>\n",
              "    </tr>\n",
              "    <tr>\n",
              "      <th>min</th>\n",
              "      <td>32.100000</td>\n",
              "      <td>13.100000</td>\n",
              "      <td>172.000000</td>\n",
              "      <td>2700.000000</td>\n",
              "    </tr>\n",
              "    <tr>\n",
              "      <th>25%</th>\n",
              "      <td>39.500000</td>\n",
              "      <td>15.600000</td>\n",
              "      <td>190.000000</td>\n",
              "      <td>3550.000000</td>\n",
              "    </tr>\n",
              "    <tr>\n",
              "      <th>50%</th>\n",
              "      <td>44.500000</td>\n",
              "      <td>17.300000</td>\n",
              "      <td>197.000000</td>\n",
              "      <td>4050.000000</td>\n",
              "    </tr>\n",
              "    <tr>\n",
              "      <th>75%</th>\n",
              "      <td>48.600000</td>\n",
              "      <td>18.700000</td>\n",
              "      <td>213.000000</td>\n",
              "      <td>4775.000000</td>\n",
              "    </tr>\n",
              "    <tr>\n",
              "      <th>max</th>\n",
              "      <td>59.600000</td>\n",
              "      <td>21.500000</td>\n",
              "      <td>231.000000</td>\n",
              "      <td>6300.000000</td>\n",
              "    </tr>\n",
              "  </tbody>\n",
              "</table>\n",
              "</div>"
            ],
            "text/plain": [
              "      bill_length_mm  bill_depth_mm  flipper_length_mm  body_mass_g\n",
              "mean       43.992793      17.164865         200.966967  4207.057057\n",
              "std         5.468668       1.969235          14.015765   805.215802\n",
              "min        32.100000      13.100000         172.000000  2700.000000\n",
              "25%        39.500000      15.600000         190.000000  3550.000000\n",
              "50%        44.500000      17.300000         197.000000  4050.000000\n",
              "75%        48.600000      18.700000         213.000000  4775.000000\n",
              "max        59.600000      21.500000         231.000000  6300.000000"
            ]
          },
          "metadata": {
            "tags": []
          },
          "execution_count": 245
        }
      ]
    }
  ]
}