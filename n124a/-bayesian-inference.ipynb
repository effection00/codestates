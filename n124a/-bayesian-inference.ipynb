{
  "nbformat": 4,
  "nbformat_minor": 0,
  "metadata": {
    "colab": {
      "name": "n124a-bayesian-inference.ipynb",
      "provenance": [],
      "collapsed_sections": []
    },
    "kernelspec": {
      "display_name": "Python 3",
      "language": "python",
      "name": "python3"
    },
    "language_info": {
      "codemirror_mode": {
        "name": "ipython",
        "version": 3
      },
      "file_extension": ".py",
      "mimetype": "text/x-python",
      "name": "python",
      "nbconvert_exporter": "python",
      "pygments_lexer": "ipython3",
      "version": "3.8.2"
    }
  },
  "cells": [
    {
      "cell_type": "markdown",
      "metadata": {
        "id": "H7OLbevlbd_Z"
      },
      "source": [
        "<img src='https://i.imgur.com/RDAD11M.png' width = '200' align = 'right'>\n",
        "\n",
        "## *DATA SCIENCE / SECTION 1 / SPRINT 2 / NOTE 4*\n",
        "\n",
        "# 📝 Assignment\n",
        "\n",
        "# 베이지안 통계"
      ]
    },
    {
      "cell_type": "markdown",
      "metadata": {
        "id": "lPwZPpad3UOc"
      },
      "source": [
        "## 1. Multiple Choice Test\n",
        "\n",
        "객관식 문제를 푸는 과정에서, 학생은 답을 이미 알고 있거나 찍어야 합니다. \n",
        "\n",
        "학생이 답을 알 확률은 $p$이고, 답을 찍어서 맞출 확률이 $1\\over{m}$ 이라고 할 때 $m$과 $p$를 입력받아 학생이 문제의 답을 알고 맞췄을 확률을 계산하는 함수를 작성하세요."
      ]
    },
    {
      "cell_type": "code",
      "metadata": {
        "id": "trk9r0Tc97Mc",
        "colab": {
          "base_uri": "https://localhost:8080/"
        },
        "outputId": "0a50c853-1ce7-48f2-a1b6-c7cc1862fe07"
      },
      "source": [
        "def correct(p, m):\n",
        "# 코드를 작성하세요.\n",
        "# A :학생이 답을 안다/찍는다\n",
        "# B : 찍어서 맞춘다 / 찍어서 틀린다\n",
        "\n",
        "# 분자\n",
        " known = 1*p \n",
        "# 분모\n",
        " right = 1*p + (1/m)*(1-p)\n",
        " return known/right\n",
        "\n",
        "correct(0.5,5)"
      ],
      "execution_count": 10,
      "outputs": [
        {
          "output_type": "execute_result",
          "data": {
            "text/plain": [
              "0.8333333333333334"
            ]
          },
          "metadata": {
            "tags": []
          },
          "execution_count": 10
        }
      ]
    },
    {
      "cell_type": "markdown",
      "metadata": {
        "id": "y4Ilc7AOdrzx"
      },
      "source": [
        "## 2. Blood Test\n",
        "\n",
        "특정 질병을 가지고 있는 경우 **99%** 의 확률로 탐지 할 수 있는 실험방법이 있습니다.\n",
        "\n",
        "그러나 동시에 이 방법은, **1%** 의 확률로 질병이 없지만 질병이 있다고 진단 하는 경우도 있는데요.\n",
        "\n",
        "실제로 모든 인구중 **0.5%** 만이 이 질병을 가지고 있다고 하겠습니다.\n",
        "\n",
        "특정 사람이 이 방법을 통해 질병이 있다고 진단 받았을때, 실제로 질병을 가지고 있을 확률을 구하는 함수를 작성하세요."
      ]
    },
    {
      "cell_type": "code",
      "metadata": {
        "id": "qKYGZ5fkFjQ-",
        "colab": {
          "base_uri": "https://localhost:8080/"
        },
        "outputId": "a8353657-8cdd-4e88-d2db-836f47e31a12"
      },
      "source": [
        "def disease(prior, tpr, fpr):\n",
        "  # 코드를 작성하세요\n",
        " \n",
        " numerator = tpr * prior\n",
        " denominator = tpr * prior + fpr*(1-prior) \n",
        " return numerator / denominator\n",
        "\n",
        "#이전확률 : 0.005\n",
        "#민감도 : 0.99\n",
        "#1-특이도 : 0.01\n",
        "\n",
        "disease(0.005, 0.99, 0.01)"
      ],
      "execution_count": 14,
      "outputs": [
        {
          "output_type": "execute_result",
          "data": {
            "text/plain": [
              "0.33221476510067116"
            ]
          },
          "metadata": {
            "tags": []
          },
          "execution_count": 14
        }
      ]
    },
    {
      "cell_type": "markdown",
      "metadata": {
        "id": "GP7Jv1XvwtkX"
      },
      "source": [
        "## 🔥 도전 과제:\n",
        "\n"
      ]
    },
    {
      "cell_type": "markdown",
      "metadata": {
        "id": "M3WuZEGM3UOd"
      },
      "source": [
        "### 다음 문제를 읽고 답을 구하세요\n",
        "\n",
        "At a Certain stage of a criminal investigation, the inspector in charge is **60%** convinced of the guild of a certain suspect. <br>\n",
        "Suppose now that a new piece of evidence that shows that the criminal has a left-handedness is uncovered. <br>\n",
        "If **20% of population possesses this characteristic**, how certain of the guilt of the suspect should the inspector now be if it turns out that the suspect is among this group? <br>\n",
        "\n",
        "After that, the new evidence is subject to different possible interpretations, and in fact only shows that it is **90% likely that the criminal possess this characteristic**.  \n",
        "In this case how likely would it be that the suspect is guilty?"
      ]
    },
    {
      "cell_type": "code",
      "metadata": {
        "colab": {
          "base_uri": "https://localhost:8080/"
        },
        "id": "mZprqf4Edrzz",
        "outputId": "f45c8386-7f63-4da9-b283-d463591c02c6"
      },
      "source": [
        "# 이 곳에 답안을 작성하시기 바랍니다\n",
        "\n",
        "#용의자가 죄를 지은 확률 60%\n",
        "#범인이 왼손잡이\n",
        "#인구 20%가 왼손잡이\n",
        "\n",
        "\n",
        "# Q1 P(범인일 경우|왼손잡이)\n",
        "#p(guilty|left) = p(left|guilty)*p(guilty)/p(left|guilty)*p(guilty) + p(left|not_guilty)*p(not_guilty)\n",
        "\n",
        "def guilty(prior, tpr, fpr):\n",
        " numerator = tpr * prior\n",
        " denominator = tpr * prior + fpr*(1-prior) \n",
        " return numerator / denominator\n",
        "\n",
        "guilty(0.6, 1, 0.2)"
      ],
      "execution_count": null,
      "outputs": [
        {
          "output_type": "execute_result",
          "data": {
            "text/plain": [
              "0.8823529411764707"
            ]
          },
          "metadata": {
            "tags": []
          },
          "execution_count": 64
        }
      ]
    },
    {
      "cell_type": "code",
      "metadata": {
        "id": "tk5N2sdw8Ass",
        "colab": {
          "base_uri": "https://localhost:8080/"
        },
        "outputId": "8f353a69-20eb-425d-a7c2-b1b49b6ca6ec"
      },
      "source": [
        "guilty(0.6, 0.9, 0.2)\n"
      ],
      "execution_count": null,
      "outputs": [
        {
          "output_type": "execute_result",
          "data": {
            "text/plain": [
              "0.8709677419354838"
            ]
          },
          "metadata": {
            "tags": []
          },
          "execution_count": 65
        }
      ]
    }
  ]
}