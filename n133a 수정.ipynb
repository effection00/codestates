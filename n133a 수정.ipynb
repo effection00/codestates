{
  "nbformat": 4,
  "nbformat_minor": 0,
  "metadata": {
    "colab": {
      "name": "n133a-high-dimensional-data.ipynb의 사본의 사본의 사본",
      "provenance": [],
      "collapsed_sections": [],
      "include_colab_link": true
    },
    "kernelspec": {
      "display_name": "Python 3",
      "language": "python",
      "name": "python3"
    },
    "language_info": {
      "codemirror_mode": {
        "name": "ipython",
        "version": 3
      },
      "file_extension": ".py",
      "mimetype": "text/x-python",
      "name": "python",
      "nbconvert_exporter": "python",
      "pygments_lexer": "ipython3",
      "version": "3.8.2"
    }
  },
  "cells": [
    {
      "cell_type": "markdown",
      "metadata": {
        "id": "view-in-github",
        "colab_type": "text"
      },
      "source": [
        "<a href=\"https://colab.research.google.com/github/effection00/codestates/blob/main/n133a%20%EC%88%98%EC%A0%95.ipynb\" target=\"_parent\"><img src=\"https://colab.research.google.com/assets/colab-badge.svg\" alt=\"Open In Colab\"/></a>"
      ]
    },
    {
      "cell_type": "markdown",
      "metadata": {
        "id": "2nEWvwVyVWdW"
      },
      "source": [
        "<img src='https://i.imgur.com/RDAD11M.png' width = '200' align = 'right'>\n",
        "\n",
        "## *DATA SCIENCE / SECTION 1 / SPRINT 3 / NOTE 3*\n",
        "\n",
        "# 📝 Assignment\n",
        "\n"
      ]
    },
    {
      "cell_type": "markdown",
      "metadata": {
        "id": "5HY0R4u7anIr"
      },
      "source": [
        "## 1. 주어진 matrix에 대해서, numpy를 사용하여, `eigenvalue`와 `eigenvector`를 구하고, 각각 `value`, `vector`에 저장하세요.\n",
        "\n",
        "\\begin{bmatrix} 4 & 2 \\\\ 2 & 4 \\end{bmatrix}"
      ]
    },
    {
      "cell_type": "code",
      "metadata": {
        "id": "FdLS0X9lvh3e",
        "colab": {
          "base_uri": "https://localhost:8080/"
        },
        "outputId": "d5f38ab9-bdfc-4e4a-debe-cf57fd232965"
      },
      "source": [
        "# 이곳에 답안을 작성하시기 바랍니다\n",
        "import numpy as np\n",
        "mat = np.array([[4,2],[2,4]])\n",
        "\n",
        "value = np.linalg.eig(mat)[0]\n",
        "vector = np.linalg.eig(mat)[1]\n",
        "value, vector"
      ],
      "execution_count": 48,
      "outputs": [
        {
          "output_type": "execute_result",
          "data": {
            "text/plain": [
              "(array([6., 2.]), array([[ 0.70710678, -0.70710678],\n",
              "        [ 0.70710678,  0.70710678]]))"
            ]
          },
          "metadata": {
            "tags": []
          },
          "execution_count": 48
        }
      ]
    },
    {
      "cell_type": "markdown",
      "metadata": {
        "id": "7iEheetpbJdN"
      },
      "source": [
        "## 2. Penguins dataset을 사용하여 numerical feature 4개에 대해서 2차원으로 PCA를 시행 후 PC1 & PC2를 사용하여 scatter plot을 그리세요.\n",
        "\n",
        "- 데이터셋 사용을 위해, 다음 링크를 참조하세요.\n",
        "\n",
        "<http://seaborn.pydata.org/generated/seaborn.load_dataset.html#seaborn.load_dataset>\n",
        "\n",
        "- 4개의 feature는 `culmen_length_mm`, `culmen_depth_mm`, `flipper_length_mm`, `body_mass_g` 입니다.\n",
        "\n",
        "- 이후 2개의 PC를 이용하여 설명되는 variance의 ratio를 `ratio`에 저장하세요.\n",
        "\n",
        "- 다음과 같은 결과가 나와야 합니다.\n",
        "\n",
        "<img src='https://i.imgur.com/5BCEHeL.png'>"
      ]
    },
    {
      "cell_type": "code",
      "metadata": {
        "id": "AAH42jp-vgYY",
        "colab": {
          "base_uri": "https://localhost:8080/",
          "height": 419
        },
        "outputId": "4fb2ac6d-c4f6-452e-fae9-40823fbb57c8"
      },
      "source": [
        "# 이곳에 답안을 작성하시기 바랍니다\n",
        "import seaborn as sns\n",
        "peng = sns.load_dataset(\"penguins\")\n",
        "peng = peng[['species','bill_length_mm','bill_depth_mm','flipper_length_mm','body_mass_g']]\n",
        "peng = peng.dropna()\n",
        "peng"
      ],
      "execution_count": 50,
      "outputs": [
        {
          "output_type": "execute_result",
          "data": {
            "text/html": [
              "<div>\n",
              "<style scoped>\n",
              "    .dataframe tbody tr th:only-of-type {\n",
              "        vertical-align: middle;\n",
              "    }\n",
              "\n",
              "    .dataframe tbody tr th {\n",
              "        vertical-align: top;\n",
              "    }\n",
              "\n",
              "    .dataframe thead th {\n",
              "        text-align: right;\n",
              "    }\n",
              "</style>\n",
              "<table border=\"1\" class=\"dataframe\">\n",
              "  <thead>\n",
              "    <tr style=\"text-align: right;\">\n",
              "      <th></th>\n",
              "      <th>species</th>\n",
              "      <th>bill_length_mm</th>\n",
              "      <th>bill_depth_mm</th>\n",
              "      <th>flipper_length_mm</th>\n",
              "      <th>body_mass_g</th>\n",
              "    </tr>\n",
              "  </thead>\n",
              "  <tbody>\n",
              "    <tr>\n",
              "      <th>0</th>\n",
              "      <td>Adelie</td>\n",
              "      <td>39.1</td>\n",
              "      <td>18.7</td>\n",
              "      <td>181.0</td>\n",
              "      <td>3750.0</td>\n",
              "    </tr>\n",
              "    <tr>\n",
              "      <th>1</th>\n",
              "      <td>Adelie</td>\n",
              "      <td>39.5</td>\n",
              "      <td>17.4</td>\n",
              "      <td>186.0</td>\n",
              "      <td>3800.0</td>\n",
              "    </tr>\n",
              "    <tr>\n",
              "      <th>2</th>\n",
              "      <td>Adelie</td>\n",
              "      <td>40.3</td>\n",
              "      <td>18.0</td>\n",
              "      <td>195.0</td>\n",
              "      <td>3250.0</td>\n",
              "    </tr>\n",
              "    <tr>\n",
              "      <th>4</th>\n",
              "      <td>Adelie</td>\n",
              "      <td>36.7</td>\n",
              "      <td>19.3</td>\n",
              "      <td>193.0</td>\n",
              "      <td>3450.0</td>\n",
              "    </tr>\n",
              "    <tr>\n",
              "      <th>5</th>\n",
              "      <td>Adelie</td>\n",
              "      <td>39.3</td>\n",
              "      <td>20.6</td>\n",
              "      <td>190.0</td>\n",
              "      <td>3650.0</td>\n",
              "    </tr>\n",
              "    <tr>\n",
              "      <th>...</th>\n",
              "      <td>...</td>\n",
              "      <td>...</td>\n",
              "      <td>...</td>\n",
              "      <td>...</td>\n",
              "      <td>...</td>\n",
              "    </tr>\n",
              "    <tr>\n",
              "      <th>338</th>\n",
              "      <td>Gentoo</td>\n",
              "      <td>47.2</td>\n",
              "      <td>13.7</td>\n",
              "      <td>214.0</td>\n",
              "      <td>4925.0</td>\n",
              "    </tr>\n",
              "    <tr>\n",
              "      <th>340</th>\n",
              "      <td>Gentoo</td>\n",
              "      <td>46.8</td>\n",
              "      <td>14.3</td>\n",
              "      <td>215.0</td>\n",
              "      <td>4850.0</td>\n",
              "    </tr>\n",
              "    <tr>\n",
              "      <th>341</th>\n",
              "      <td>Gentoo</td>\n",
              "      <td>50.4</td>\n",
              "      <td>15.7</td>\n",
              "      <td>222.0</td>\n",
              "      <td>5750.0</td>\n",
              "    </tr>\n",
              "    <tr>\n",
              "      <th>342</th>\n",
              "      <td>Gentoo</td>\n",
              "      <td>45.2</td>\n",
              "      <td>14.8</td>\n",
              "      <td>212.0</td>\n",
              "      <td>5200.0</td>\n",
              "    </tr>\n",
              "    <tr>\n",
              "      <th>343</th>\n",
              "      <td>Gentoo</td>\n",
              "      <td>49.9</td>\n",
              "      <td>16.1</td>\n",
              "      <td>213.0</td>\n",
              "      <td>5400.0</td>\n",
              "    </tr>\n",
              "  </tbody>\n",
              "</table>\n",
              "<p>342 rows × 5 columns</p>\n",
              "</div>"
            ],
            "text/plain": [
              "    species  bill_length_mm  bill_depth_mm  flipper_length_mm  body_mass_g\n",
              "0    Adelie            39.1           18.7              181.0       3750.0\n",
              "1    Adelie            39.5           17.4              186.0       3800.0\n",
              "2    Adelie            40.3           18.0              195.0       3250.0\n",
              "4    Adelie            36.7           19.3              193.0       3450.0\n",
              "5    Adelie            39.3           20.6              190.0       3650.0\n",
              "..      ...             ...            ...                ...          ...\n",
              "338  Gentoo            47.2           13.7              214.0       4925.0\n",
              "340  Gentoo            46.8           14.3              215.0       4850.0\n",
              "341  Gentoo            50.4           15.7              222.0       5750.0\n",
              "342  Gentoo            45.2           14.8              212.0       5200.0\n",
              "343  Gentoo            49.9           16.1              213.0       5400.0\n",
              "\n",
              "[342 rows x 5 columns]"
            ]
          },
          "metadata": {
            "tags": []
          },
          "execution_count": 50
        }
      ]
    },
    {
      "cell_type": "code",
      "metadata": {
        "id": "bXprO_shLJkH"
      },
      "source": [
        "from sklearn.preprocessing import StandardScaler  \n",
        "import pandas as pd\n",
        "\n",
        "x = peng.drop(['species'], axis=1).values \n",
        "y = peng['species'].values \n",
        "\n",
        "#표준화\n",
        "x = StandardScaler().fit_transform(x) \n",
        "pca_df = pd.DataFrame(x, columns = ['bill_length_mm','bill_depth_mm','flipper_length_mm','body_mass_g'])"
      ],
      "execution_count": 51,
      "outputs": []
    },
    {
      "cell_type": "code",
      "metadata": {
        "colab": {
          "base_uri": "https://localhost:8080/",
          "height": 450
        },
        "id": "dWpqzuEfMFhe",
        "outputId": "52bc4309-caa2-43dd-e920-ddae6c2c2aea"
      },
      "source": [
        "from sklearn.decomposition import PCA\n",
        "\n",
        "#주성분 2개 설정\n",
        "pca = PCA(n_components=2) \n",
        "pengComponents = pca.fit_transform(x)\n",
        "pengDf = pd.DataFrame(data=pengComponents, columns = ['PC1', 'PC2'])\n",
        "pengDf.index = peng.species\n",
        "pengDf"
      ],
      "execution_count": 52,
      "outputs": [
        {
          "output_type": "execute_result",
          "data": {
            "text/html": [
              "<div>\n",
              "<style scoped>\n",
              "    .dataframe tbody tr th:only-of-type {\n",
              "        vertical-align: middle;\n",
              "    }\n",
              "\n",
              "    .dataframe tbody tr th {\n",
              "        vertical-align: top;\n",
              "    }\n",
              "\n",
              "    .dataframe thead th {\n",
              "        text-align: right;\n",
              "    }\n",
              "</style>\n",
              "<table border=\"1\" class=\"dataframe\">\n",
              "  <thead>\n",
              "    <tr style=\"text-align: right;\">\n",
              "      <th></th>\n",
              "      <th>PC1</th>\n",
              "      <th>PC2</th>\n",
              "    </tr>\n",
              "    <tr>\n",
              "      <th>species</th>\n",
              "      <th></th>\n",
              "      <th></th>\n",
              "    </tr>\n",
              "  </thead>\n",
              "  <tbody>\n",
              "    <tr>\n",
              "      <th>Adelie</th>\n",
              "      <td>-1.843445</td>\n",
              "      <td>0.047702</td>\n",
              "    </tr>\n",
              "    <tr>\n",
              "      <th>Adelie</th>\n",
              "      <td>-1.306762</td>\n",
              "      <td>-0.428348</td>\n",
              "    </tr>\n",
              "    <tr>\n",
              "      <th>Adelie</th>\n",
              "      <td>-1.369181</td>\n",
              "      <td>-0.154476</td>\n",
              "    </tr>\n",
              "    <tr>\n",
              "      <th>Adelie</th>\n",
              "      <td>-1.878827</td>\n",
              "      <td>-0.002048</td>\n",
              "    </tr>\n",
              "    <tr>\n",
              "      <th>Adelie</th>\n",
              "      <td>-1.911748</td>\n",
              "      <td>0.829210</td>\n",
              "    </tr>\n",
              "    <tr>\n",
              "      <th>...</th>\n",
              "      <td>...</td>\n",
              "      <td>...</td>\n",
              "    </tr>\n",
              "    <tr>\n",
              "      <th>Gentoo</th>\n",
              "      <td>2.006436</td>\n",
              "      <td>-0.958909</td>\n",
              "    </tr>\n",
              "    <tr>\n",
              "      <th>Gentoo</th>\n",
              "      <td>1.840886</td>\n",
              "      <td>-0.767714</td>\n",
              "    </tr>\n",
              "    <tr>\n",
              "      <th>Gentoo</th>\n",
              "      <td>2.760742</td>\n",
              "      <td>0.288886</td>\n",
              "    </tr>\n",
              "    <tr>\n",
              "      <th>Gentoo</th>\n",
              "      <td>1.722364</td>\n",
              "      <td>-0.704269</td>\n",
              "    </tr>\n",
              "    <tr>\n",
              "      <th>Gentoo</th>\n",
              "      <td>2.028902</td>\n",
              "      <td>0.357620</td>\n",
              "    </tr>\n",
              "  </tbody>\n",
              "</table>\n",
              "<p>342 rows × 2 columns</p>\n",
              "</div>"
            ],
            "text/plain": [
              "              PC1       PC2\n",
              "species                    \n",
              "Adelie  -1.843445  0.047702\n",
              "Adelie  -1.306762 -0.428348\n",
              "Adelie  -1.369181 -0.154476\n",
              "Adelie  -1.878827 -0.002048\n",
              "Adelie  -1.911748  0.829210\n",
              "...           ...       ...\n",
              "Gentoo   2.006436 -0.958909\n",
              "Gentoo   1.840886 -0.767714\n",
              "Gentoo   2.760742  0.288886\n",
              "Gentoo   1.722364 -0.704269\n",
              "Gentoo   2.028902  0.357620\n",
              "\n",
              "[342 rows x 2 columns]"
            ]
          },
          "metadata": {
            "tags": []
          },
          "execution_count": 52
        }
      ]
    },
    {
      "cell_type": "code",
      "metadata": {
        "id": "wBYerhRSg66K",
        "colab": {
          "base_uri": "https://localhost:8080/"
        },
        "outputId": "682c6ff4-3616-425b-88f4-79ccf14f6206"
      },
      "source": [
        "ratio = pca.explained_variance_ratio_\n",
        "ratio"
      ],
      "execution_count": 53,
      "outputs": [
        {
          "output_type": "execute_result",
          "data": {
            "text/plain": [
              "array([0.68843878, 0.19312919])"
            ]
          },
          "metadata": {
            "tags": []
          },
          "execution_count": 53
        }
      ]
    },
    {
      "cell_type": "code",
      "metadata": {
        "colab": {
          "base_uri": "https://localhost:8080/"
        },
        "id": "0aYmRRJ_of_1",
        "outputId": "5b4dcef4-84ec-4ae7-c928-0f37e3ad24b6"
      },
      "source": [
        "sum(pca.explained_variance_ratio_)"
      ],
      "execution_count": 54,
      "outputs": [
        {
          "output_type": "execute_result",
          "data": {
            "text/plain": [
              "0.8815679694372629"
            ]
          },
          "metadata": {
            "tags": []
          },
          "execution_count": 54
        }
      ]
    },
    {
      "cell_type": "code",
      "metadata": {
        "colab": {
          "base_uri": "https://localhost:8080/",
          "height": 388
        },
        "id": "BOh7sO1fBNMo",
        "outputId": "295d1c38-a006-44ac-b5d5-64ce3c5f6e92"
      },
      "source": [
        "import matplotlib.pyplot as plt\n",
        "\n",
        "fig = plt.figure(figsize = (8, 6))\n",
        "ax = fig.add_subplot(1, 1, 1)\n",
        "ax.set_xlabel('PC1', fontsize = 10)\n",
        "ax.set_ylabel('PC2', fontsize = 10)\n",
        "\n",
        "\n",
        "targets = ['Adelie', 'Chinstrap', 'Gentoo']\n",
        "colors = ['#0984e3', 'darkorange', 'forestgreen']\n",
        "for target, color in zip(targets,colors):\n",
        "    indicesToKeep = pengDf.index == target\n",
        "    ax.scatter(pengDf.loc[indicesToKeep, 'PC1']\n",
        "               , pengDf.loc[indicesToKeep, 'PC2']\n",
        "               , c = color\n",
        "               , s = 50)\n",
        "ax.legend(targets, loc = 4)\n",
        "ax.grid()"
      ],
      "execution_count": 55,
      "outputs": [
        {
          "output_type": "display_data",
          "data": {
            "image/png": "[encoded data removed]",
            "text/plain": [
              "<Figure size 576x432 with 1 Axes>"
            ]
          },
          "metadata": {
            "tags": [],
            "needs_background": "light"
          }
        }
      ]
    },
    {
      "cell_type": "code",
      "metadata": {
        "colab": {
          "base_uri": "https://localhost:8080/"
        },
        "id": "DOC17eADbMJY",
        "outputId": "97b724bd-4207-4ffe-82ec-a57eba80850e"
      },
      "source": [
        "np.arange(5)+1"
      ],
      "execution_count": 56,
      "outputs": [
        {
          "output_type": "execute_result",
          "data": {
            "text/plain": [
              "array([1, 2, 3, 4, 5])"
            ]
          },
          "metadata": {
            "tags": []
          },
          "execution_count": 56
        }
      ]
    },
    {
      "cell_type": "markdown",
      "metadata": {
        "id": "RQx7UvsucIrL"
      },
      "source": [
        "## 🔥 도전 과제\n",
        "\n",
        "### \"Scree Plot\" 에 대해서 알아보고, 위에서 PCA로 만든 데이터셋을 사용하여 만들어보세요. 90%의 내용을 설명하기 위해서, 몇개의 PC를 사용해야 하나요?\n"
      ]
    },
    {
      "cell_type": "code",
      "metadata": {
        "colab": {
          "base_uri": "https://localhost:8080/"
        },
        "id": "6T1aN1rkc6Sf",
        "outputId": "3f7accf1-3a53-433e-a7c7-f08802ed2dba"
      },
      "source": [
        "pca = PCA(n_components=4) \n",
        "pengComponents = pca.fit_transform(x)\n",
        "pengDf2 = pd.DataFrame(data=pengComponents, columns = ['PC1', 'PC2','PC3','PC4'])\n",
        "pengDf2.index = peng.species\n",
        "pca.fit(pengDf2)\n",
        "ratio2 = pca.explained_variance_ratio_\n",
        "ratio2"
      ],
      "execution_count": 57,
      "outputs": [
        {
          "output_type": "execute_result",
          "data": {
            "text/plain": [
              "array([0.68843878, 0.19312919, 0.09130898, 0.02712305])"
            ]
          },
          "metadata": {
            "tags": []
          },
          "execution_count": 57
        }
      ]
    },
    {
      "cell_type": "code",
      "metadata": {
        "colab": {
          "base_uri": "https://localhost:8080/",
          "height": 313
        },
        "id": "nuwZ9qIXRf1h",
        "outputId": "fda3115a-9abd-4288-a388-d0b5d6d9af2c"
      },
      "source": [
        "# 이곳에 답안을 작성하시기 바랍니다\n",
        "import numpy as np\n",
        "import matplotlib\n",
        "import matplotlib.pyplot as plt\n",
        "\n",
        "PCA_values = np.arange(pca.n_components) +1\n",
        "plt.plot(PCA_values, pca.explained_variance_ratio_, 'ro-', linewidth=2)\n",
        "plt.title('Scree Plot')\n",
        "plt.xlabel('Principal Component')\n",
        "plt.ylabel('Proportion of Variance Explained')\n",
        "plt.show()\n",
        "pca.explained_variance_ratio_\n",
        "#주성분을 3개까지 선택했을때 97.2%로 90%가 넘으므로 3개의 PC를 사용해야 한다"
      ],
      "execution_count": 58,
      "outputs": [
        {
          "output_type": "display_data",
          "data": {
            "image/png": "[encoded data removed]",
            "text/plain": [
              "<Figure size 432x288 with 1 Axes>"
            ]
          },
          "metadata": {
            "tags": [],
            "needs_background": "light"
          }
        },
        {
          "output_type": "execute_result",
          "data": {
            "text/plain": [
              "array([0.68843878, 0.19312919, 0.09130898, 0.02712305])"
            ]
          },
          "metadata": {
            "tags": []
          },
          "execution_count": 58
        }
      ]
    },
    {
      "cell_type": "code",
      "metadata": {
        "id": "-hC9eDmkZoH-"
      },
      "source": [
        ""
      ],
      "execution_count": 58,
      "outputs": []
    }
  ]
}