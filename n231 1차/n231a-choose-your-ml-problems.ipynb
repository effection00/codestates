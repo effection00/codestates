{
  "nbformat": 4,
  "nbformat_minor": 0,
  "metadata": {
    "kernelspec": {
      "display_name": "Python 3",
      "language": "python",
      "name": "python3"
    },
    "language_info": {
      "codemirror_mode": {
        "name": "ipython",
        "version": 3
      },
      "file_extension": ".py",
      "mimetype": "text/x-python",
      "name": "python",
      "nbconvert_exporter": "python",
      "pygments_lexer": "ipython3",
      "version": "3.7.7"
    },
    "colab": {
      "name": "n231a-choose-your-ml-problems.ipynb",
      "provenance": [],
      "machine_shape": "hm"
    }
  },
  "cells": [
    {
      "cell_type": "markdown",
      "metadata": {
        "id": "nCc3XZEyG3XV"
      },
      "source": [
        "<img align=\"right\" src=\"https://ds-cs-images.s3.ap-northeast-2.amazonaws.com/Codestates_Fulllogo_Color.png\" width=100>\n",
        "\n",
        "## *DATA SCIENCE / SECTION 2 / SPRINT 3 / NOTE 1*\n",
        "\n",
        "# 📝 Assignment\n",
        "---\n",
        "# Choose your ML problems\n",
        "\n",
        "이번 스프린트에서는 포트폴리오 프로젝트를 위해 수강생 각자가 정한 데이터셋을 사용하여 과제를 수행합니다. 프로젝트를 위한 데이터를 최종 선택하기 전에 여러 가능한 데이터세트를 살펴보고 간단한 모델까지 학습해 보는 것을 추천드립니다."
      ]
    },
    {
      "cell_type": "markdown",
      "metadata": {
        "id": "4EVMz2VLbqKP"
      },
      "source": [
        "### 1) 타겟으로 사용할 특성을 선택합니다.\n",
        "- **(객관식) 다음 중 설명이 올바른 항목을 선택하고 과제 제출폼에 제출하세요.**\n",
        "    - 특성 3개를 사용해 가장 성능이 좋은 모델 A를 만들고 또 특성 5개를 사용해 최적의 모델 B를 학습하였습니다. 이때 모델 A에서 선택된 특성은 A1, A2, A3 입니다.\n",
        "    1. 최적의 모델 B에는 특성 A1, A2, A3가 항상 선택됩니다.\n",
        "    2. 최적의 모델 B 학습시 특성 A1, A2, A3는 전혀 사용되지 않습니다.\n",
        "    3. 최적의 모델 B에 특성 A1, A2, A3가 선택될지 알 수 없습니다."
      ]
    },
    {
      "cell_type": "code",
      "metadata": {
        "colab": {
          "base_uri": "https://localhost:8080/",
          "height": 563
        },
        "id": "VA0yuYdcbqKQ",
        "outputId": "a3ef6ac4-be3a-487f-e44b-769895f4d118"
      },
      "source": [
        "### 이곳에서 과제를 진행해 주세요 ### \n",
        "\n",
        "# 객관식 답 == 1\n",
        "\n",
        "from google.colab import drive\n",
        "drive.mount('/content/drive')\n",
        "\n",
        "import pandas as pd\n",
        "pd.read_csv(\"/content/drive/MyDrive/연체전략관리_연체내역(코드 상세설명).csv\")"
      ],
      "execution_count": 243,
      "outputs": [
        {
          "output_type": "stream",
          "text": [
            "Drive already mounted at /content/drive; to attempt to forcibly remount, call drive.mount(\"/content/drive\", force_remount=True).\n"
          ],
          "name": "stdout"
        },
        {
          "output_type": "execute_result",
          "data": {
            "text/html": [
              "<div>\n",
              "<style scoped>\n",
              "    .dataframe tbody tr th:only-of-type {\n",
              "        vertical-align: middle;\n",
              "    }\n",
              "\n",
              "    .dataframe tbody tr th {\n",
              "        vertical-align: top;\n",
              "    }\n",
              "\n",
              "    .dataframe thead th {\n",
              "        text-align: right;\n",
              "    }\n",
              "</style>\n",
              "<table border=\"1\" class=\"dataframe\">\n",
              "  <thead>\n",
              "    <tr style=\"text-align: right;\">\n",
              "      <th></th>\n",
              "      <th>상품코드</th>\n",
              "      <th>상품명</th>\n",
              "    </tr>\n",
              "  </thead>\n",
              "  <tbody>\n",
              "    <tr>\n",
              "      <th>0</th>\n",
              "      <td>D01001</td>\n",
              "      <td>일반상환학자금_등록금</td>\n",
              "    </tr>\n",
              "    <tr>\n",
              "      <th>1</th>\n",
              "      <td>D01002</td>\n",
              "      <td>일반상환학자금_생활비</td>\n",
              "    </tr>\n",
              "    <tr>\n",
              "      <th>2</th>\n",
              "      <td>D01003</td>\n",
              "      <td>일반상환학자금_등록금생활비</td>\n",
              "    </tr>\n",
              "    <tr>\n",
              "      <th>3</th>\n",
              "      <td>D01004</td>\n",
              "      <td>일반상환학자금_WEST연수비</td>\n",
              "    </tr>\n",
              "    <tr>\n",
              "      <th>4</th>\n",
              "      <td>D01005</td>\n",
              "      <td>일반상환학자금_나라지킴이</td>\n",
              "    </tr>\n",
              "    <tr>\n",
              "      <th>5</th>\n",
              "      <td>D02001</td>\n",
              "      <td>취업후상환학자금_등록금</td>\n",
              "    </tr>\n",
              "    <tr>\n",
              "      <th>6</th>\n",
              "      <td>D02002</td>\n",
              "      <td>취업후상환학자금_생활비</td>\n",
              "    </tr>\n",
              "    <tr>\n",
              "      <th>7</th>\n",
              "      <td>D05001</td>\n",
              "      <td>은행대출보증_등록금</td>\n",
              "    </tr>\n",
              "    <tr>\n",
              "      <th>8</th>\n",
              "      <td>D05002</td>\n",
              "      <td>은행대출보증_생활비</td>\n",
              "    </tr>\n",
              "    <tr>\n",
              "      <th>9</th>\n",
              "      <td>D05003</td>\n",
              "      <td>은행대출보증_등록금생활비</td>\n",
              "    </tr>\n",
              "    <tr>\n",
              "      <th>10</th>\n",
              "      <td>D01999</td>\n",
              "      <td>일반학자금 든든전환</td>\n",
              "    </tr>\n",
              "    <tr>\n",
              "      <th>11</th>\n",
              "      <td>D01011</td>\n",
              "      <td>한국장학재단 일반전환대출</td>\n",
              "    </tr>\n",
              "    <tr>\n",
              "      <th>12</th>\n",
              "      <td>D01998</td>\n",
              "      <td>한국장학재단 전환대출</td>\n",
              "    </tr>\n",
              "    <tr>\n",
              "      <th>13</th>\n",
              "      <td>D02011</td>\n",
              "      <td>한국장학재단 든든전환대출</td>\n",
              "    </tr>\n",
              "    <tr>\n",
              "      <th>14</th>\n",
              "      <td>D01991</td>\n",
              "      <td>일반학자금_등록금(분납)</td>\n",
              "    </tr>\n",
              "    <tr>\n",
              "      <th>15</th>\n",
              "      <td>D02991</td>\n",
              "      <td>든든학자금_등록금(분납)</td>\n",
              "    </tr>\n",
              "  </tbody>\n",
              "</table>\n",
              "</div>"
            ],
            "text/plain": [
              "      상품코드              상품명\n",
              "0   D01001      일반상환학자금_등록금\n",
              "1   D01002      일반상환학자금_생활비\n",
              "2   D01003   일반상환학자금_등록금생활비\n",
              "3   D01004  일반상환학자금_WEST연수비\n",
              "4   D01005    일반상환학자금_나라지킴이\n",
              "5   D02001     취업후상환학자금_등록금\n",
              "6   D02002     취업후상환학자금_생활비\n",
              "7   D05001       은행대출보증_등록금\n",
              "8   D05002       은행대출보증_생활비\n",
              "9   D05003    은행대출보증_등록금생활비\n",
              "10  D01999       일반학자금 든든전환\n",
              "11  D01011    한국장학재단 일반전환대출\n",
              "12  D01998      한국장학재단 전환대출\n",
              "13  D02011    한국장학재단 든든전환대출\n",
              "14  D01991    일반학자금_등록금(분납)\n",
              "15  D02991    든든학자금_등록금(분납)"
            ]
          },
          "metadata": {
            "tags": []
          },
          "execution_count": 243
        }
      ]
    },
    {
      "cell_type": "code",
      "metadata": {
        "colab": {
          "base_uri": "https://localhost:8080/",
          "height": 419
        },
        "id": "JvNqYQyusKeh",
        "outputId": "6c1c29cb-f974-4b4a-8ace-716a3a7347f1"
      },
      "source": [
        "df = pd.read_csv(\"/content/drive/MyDrive/연체전략관리_연체내역.csv\",encoding='euc-kr')\n",
        "df"
      ],
      "execution_count": 244,
      "outputs": [
        {
          "output_type": "execute_result",
          "data": {
            "text/html": [
              "<div>\n",
              "<style scoped>\n",
              "    .dataframe tbody tr th:only-of-type {\n",
              "        vertical-align: middle;\n",
              "    }\n",
              "\n",
              "    .dataframe tbody tr th {\n",
              "        vertical-align: top;\n",
              "    }\n",
              "\n",
              "    .dataframe thead th {\n",
              "        text-align: right;\n",
              "    }\n",
              "</style>\n",
              "<table border=\"1\" class=\"dataframe\">\n",
              "  <thead>\n",
              "    <tr style=\"text-align: right;\">\n",
              "      <th></th>\n",
              "      <th>기준년월</th>\n",
              "      <th>상품코드</th>\n",
              "      <th>대출년도</th>\n",
              "      <th>대출학기</th>\n",
              "      <th>등록금잔액</th>\n",
              "      <th>생활비용잔액</th>\n",
              "      <th>대출기간월수</th>\n",
              "      <th>대출경과개월수</th>\n",
              "      <th>대출거치기간월수</th>\n",
              "      <th>거치경과개월수</th>\n",
              "      <th>거치잔여개월수</th>\n",
              "      <th>상환경과개월수</th>\n",
              "    </tr>\n",
              "  </thead>\n",
              "  <tbody>\n",
              "    <tr>\n",
              "      <th>0</th>\n",
              "      <td>2020-12</td>\n",
              "      <td>D01001</td>\n",
              "      <td>2009</td>\n",
              "      <td>2</td>\n",
              "      <td>3459550</td>\n",
              "      <td>0</td>\n",
              "      <td>120</td>\n",
              "      <td>135</td>\n",
              "      <td>60</td>\n",
              "      <td>0</td>\n",
              "      <td>0</td>\n",
              "      <td>75</td>\n",
              "    </tr>\n",
              "    <tr>\n",
              "      <th>1</th>\n",
              "      <td>2020-12</td>\n",
              "      <td>D01001</td>\n",
              "      <td>2009</td>\n",
              "      <td>2</td>\n",
              "      <td>3339510</td>\n",
              "      <td>2209510</td>\n",
              "      <td>180</td>\n",
              "      <td>135</td>\n",
              "      <td>60</td>\n",
              "      <td>0</td>\n",
              "      <td>0</td>\n",
              "      <td>75</td>\n",
              "    </tr>\n",
              "    <tr>\n",
              "      <th>2</th>\n",
              "      <td>2020-12</td>\n",
              "      <td>D01001</td>\n",
              "      <td>2009</td>\n",
              "      <td>2</td>\n",
              "      <td>882739</td>\n",
              "      <td>827587</td>\n",
              "      <td>120</td>\n",
              "      <td>135</td>\n",
              "      <td>60</td>\n",
              "      <td>0</td>\n",
              "      <td>0</td>\n",
              "      <td>75</td>\n",
              "    </tr>\n",
              "    <tr>\n",
              "      <th>3</th>\n",
              "      <td>2020-12</td>\n",
              "      <td>D01001</td>\n",
              "      <td>2009</td>\n",
              "      <td>2</td>\n",
              "      <td>4267788</td>\n",
              "      <td>0</td>\n",
              "      <td>144</td>\n",
              "      <td>135</td>\n",
              "      <td>24</td>\n",
              "      <td>0</td>\n",
              "      <td>0</td>\n",
              "      <td>111</td>\n",
              "    </tr>\n",
              "    <tr>\n",
              "      <th>4</th>\n",
              "      <td>2020-12</td>\n",
              "      <td>D01001</td>\n",
              "      <td>2009</td>\n",
              "      <td>2</td>\n",
              "      <td>4333710</td>\n",
              "      <td>4116371</td>\n",
              "      <td>240</td>\n",
              "      <td>135</td>\n",
              "      <td>120</td>\n",
              "      <td>0</td>\n",
              "      <td>0</td>\n",
              "      <td>15</td>\n",
              "    </tr>\n",
              "    <tr>\n",
              "      <th>...</th>\n",
              "      <td>...</td>\n",
              "      <td>...</td>\n",
              "      <td>...</td>\n",
              "      <td>...</td>\n",
              "      <td>...</td>\n",
              "      <td>...</td>\n",
              "      <td>...</td>\n",
              "      <td>...</td>\n",
              "      <td>...</td>\n",
              "      <td>...</td>\n",
              "      <td>...</td>\n",
              "      <td>...</td>\n",
              "    </tr>\n",
              "    <tr>\n",
              "      <th>720535</th>\n",
              "      <td>2020-12</td>\n",
              "      <td>D05003</td>\n",
              "      <td>2009</td>\n",
              "      <td>1</td>\n",
              "      <td>3893080</td>\n",
              "      <td>3882770</td>\n",
              "      <td>216</td>\n",
              "      <td>142</td>\n",
              "      <td>96</td>\n",
              "      <td>0</td>\n",
              "      <td>0</td>\n",
              "      <td>46</td>\n",
              "    </tr>\n",
              "    <tr>\n",
              "      <th>720536</th>\n",
              "      <td>2020-12</td>\n",
              "      <td>D05003</td>\n",
              "      <td>2009</td>\n",
              "      <td>1</td>\n",
              "      <td>3741130</td>\n",
              "      <td>3734230</td>\n",
              "      <td>228</td>\n",
              "      <td>142</td>\n",
              "      <td>108</td>\n",
              "      <td>0</td>\n",
              "      <td>0</td>\n",
              "      <td>34</td>\n",
              "    </tr>\n",
              "    <tr>\n",
              "      <th>720537</th>\n",
              "      <td>2020-12</td>\n",
              "      <td>D05003</td>\n",
              "      <td>2009</td>\n",
              "      <td>1</td>\n",
              "      <td>2744440</td>\n",
              "      <td>2708810</td>\n",
              "      <td>168</td>\n",
              "      <td>142</td>\n",
              "      <td>48</td>\n",
              "      <td>0</td>\n",
              "      <td>0</td>\n",
              "      <td>94</td>\n",
              "    </tr>\n",
              "    <tr>\n",
              "      <th>720538</th>\n",
              "      <td>2020-12</td>\n",
              "      <td>D05003</td>\n",
              "      <td>2009</td>\n",
              "      <td>1</td>\n",
              "      <td>2811680</td>\n",
              "      <td>2795510</td>\n",
              "      <td>168</td>\n",
              "      <td>142</td>\n",
              "      <td>48</td>\n",
              "      <td>0</td>\n",
              "      <td>0</td>\n",
              "      <td>94</td>\n",
              "    </tr>\n",
              "    <tr>\n",
              "      <th>720539</th>\n",
              "      <td>2020-12</td>\n",
              "      <td>D05003</td>\n",
              "      <td>2009</td>\n",
              "      <td>1</td>\n",
              "      <td>3657230</td>\n",
              "      <td>3627020</td>\n",
              "      <td>168</td>\n",
              "      <td>142</td>\n",
              "      <td>48</td>\n",
              "      <td>0</td>\n",
              "      <td>0</td>\n",
              "      <td>94</td>\n",
              "    </tr>\n",
              "  </tbody>\n",
              "</table>\n",
              "<p>720540 rows × 12 columns</p>\n",
              "</div>"
            ],
            "text/plain": [
              "           기준년월    상품코드  대출년도  대출학기  ...  대출거치기간월수  거치경과개월수  거치잔여개월수  상환경과개월수\n",
              "0       2020-12  D01001  2009     2  ...        60        0        0       75\n",
              "1       2020-12  D01001  2009     2  ...        60        0        0       75\n",
              "2       2020-12  D01001  2009     2  ...        60        0        0       75\n",
              "3       2020-12  D01001  2009     2  ...        24        0        0      111\n",
              "4       2020-12  D01001  2009     2  ...       120        0        0       15\n",
              "...         ...     ...   ...   ...  ...       ...      ...      ...      ...\n",
              "720535  2020-12  D05003  2009     1  ...        96        0        0       46\n",
              "720536  2020-12  D05003  2009     1  ...       108        0        0       34\n",
              "720537  2020-12  D05003  2009     1  ...        48        0        0       94\n",
              "720538  2020-12  D05003  2009     1  ...        48        0        0       94\n",
              "720539  2020-12  D05003  2009     1  ...        48        0        0       94\n",
              "\n",
              "[720540 rows x 12 columns]"
            ]
          },
          "metadata": {
            "tags": []
          },
          "execution_count": 244
        }
      ]
    },
    {
      "cell_type": "code",
      "metadata": {
        "id": "0ZxlFnIwyGql"
      },
      "source": [
        "# 타겟 생성\n",
        "df.loc[(df['등록금잔액'] == 0)&(df['생활비용잔액'] == 0),'상환여부'] = 0 \n",
        "df.loc[((df['등록금잔액'] > 0)|(df['생활비용잔액'] > 0))&(df['상환경과개월수']>0),'상환여부'] = 1 "
      ],
      "execution_count": 245,
      "outputs": []
    },
    {
      "cell_type": "code",
      "metadata": {
        "id": "zw6Br1kWtN-E"
      },
      "source": [
        "# 타겟 선택\n",
        "target = df['상환여부']\n",
        "target = target.fillna(0)\n"
      ],
      "execution_count": 246,
      "outputs": []
    },
    {
      "cell_type": "markdown",
      "metadata": {
        "id": "VjOBIzWNbqKR"
      },
      "source": [
        "### 2) 풀고자 하는 문제가 분류/회귀 문제인지 정합니다.\n",
        "- **(객관식) 다음 설명 중 가장 틀린 항목을 선택하고 과제 제출폼에 제출하세요.**\n",
        "    1. 특정한 종목의 다음날 주식 종가를 예측하는 문제는 Supervised Learning 문제이다.\n",
        "    2. 다음날 KOSPI 지수가 증가할지 감소할지 예측하는 문제는 Classification 문제이다.\n",
        "    3. 축구 경기 도중에 승패를 예측하는 모델을 만들기 위해서는 실시간 통계 정보와 경기마다 승패 데이터가 필요하다.\n",
        "    4. 이번 시즌 토트넘 선수들의 개인 통계 데이터(슛, 도움, ...)를 사용해서 다음 토트넘 경기의 승패를 예측할 수 있다.\n",
        "   "
      ]
    },
    {
      "cell_type": "code",
      "metadata": {
        "colab": {
          "base_uri": "https://localhost:8080/"
        },
        "id": "viakafA9bqKR",
        "outputId": "40209fc6-34aa-4d3d-aa96-b114cceb58ee"
      },
      "source": [
        "### 이곳에서 과제를 진행해 주세요 ### \n",
        "\n",
        "# 객관식 답 ==  2번 \n",
        "\n",
        "#  df['상환여부'] 으로 타겟 값이 0,1로 나뉘므로 분류 문제라고 볼 수 있다\n",
        "df['상환여부'].value_counts()"
      ],
      "execution_count": 247,
      "outputs": [
        {
          "output_type": "execute_result",
          "data": {
            "text/plain": [
              "1.0    563868\n",
              "0.0      3480\n",
              "Name: 상환여부, dtype: int64"
            ]
          },
          "metadata": {
            "tags": []
          },
          "execution_count": 247
        }
      ]
    },
    {
      "cell_type": "code",
      "metadata": {
        "id": "mhqB6Q13q_TU"
      },
      "source": [
        ""
      ],
      "execution_count": 247,
      "outputs": []
    },
    {
      "cell_type": "markdown",
      "metadata": {
        "id": "sQ5bOc5MbqKS"
      },
      "source": [
        "### 3) 타겟의 분포를 분석하고 사용할 평가지표를 선택합니다. 평가지표를 선택한 이유를 설명하세요.\n",
        "- 분류: 클래스가 몇 개인지? 클래스 비율이 어떤지(balance or imbalance)\n",
        "- 회귀: 타겟 분포가 right-skewed 인지? log-transform을 사용할 것인지?\n",
        "- 분류: 다수 클래스(majority class) 비율이 50%~70% 인 경우 정확도(accuracy)만 사용해도 무방합니다. 하지만 범위를 넘어설 경우 정확도만을 사용해서는 모델을 잘못 이해할 수 있습니다. 어떤 평가지표를 사용해야 할까요?\n",
        "- 회귀: MAE, RMSE, R^2 등을 사용할 수 있습니다.\n",
        "- **(객관식) 같은 데이터로 스팸을 예측하는 모델 A와 B를 만들었습니다. 다음 설명 중 가장 올바른 항목을 선택하고 과제 제출폼에 제출하세요.**\n",
        "    1. A의 재현율은 80%이고 B의 재현율은 60%일 때 A가 더 좋은 모델이다.\n",
        "    2. A의 정밀도는 80%이고 B의 정밀도는 60%일 때 A가 더 좋은 모델이다.\n",
        "    3. A는 B보다 정밀도는 높지만 재현율은 낮다. A가 더 좋은 모델이다.\n",
        "    4. A는 B보다 재현율은 높지만, 정밀도는 낮다. A가 더 좋은 모델이다.\n",
        "    5. A는 B보다 정밀도, 재현율 모두 높다. A가 더 좋은 모델이다."
      ]
    },
    {
      "cell_type": "code",
      "metadata": {
        "id": "aGDndzi6bqKS"
      },
      "source": [
        "### 이곳에서 과제를 진행해 주세요 ### \n",
        "# f1 score 선택\n",
        "#클래스가 2개이며 비율이 1(연체고객) 쪽으로 쏠려서 클래스 불균형이 일어난다\n",
        "#클래스 불균형일 경우 정확도와 정밀도는 높고 재현율이 크게 떨어지는 경향이 있다\n",
        "# 그러므로 f1 score를 평가지표로 정하고 precision과 recall의 조화평균으로 성능을 측정해야한다\n",
        "\n",
        "#객관식 답 === 4\n"
      ],
      "execution_count": 248,
      "outputs": []
    },
    {
      "cell_type": "markdown",
      "metadata": {
        "id": "YPPrJe_ZbqKT"
      },
      "source": [
        "## 🔥 도전과제"
      ]
    },
    {
      "cell_type": "markdown",
      "metadata": {
        "id": "ZRAYXWOVbqKT"
      },
      "source": [
        "### 4) 데이터를 훈련/검증/테스트 데이터로 나누고 전처리를 수행합니다. 그리고 간단한 모델을 사용해서 학습을 수행합니다.\n",
        "- 이상치(outliers)가 있다면 어떻게 처리할 것인지 설명합니다.\n",
        "- 무작위로 or 시간에 따라 데이터를 나눌 것인지 설명합니다.\n",
        "- 모델 학습 결과를 리포팅 합니다.\n",
        "- 정보 누수(leakage)가 있는지 확인해 봅니다."
      ]
    },
    {
      "cell_type": "code",
      "metadata": {
        "colab": {
          "base_uri": "https://localhost:8080/"
        },
        "id": "CMzivmcufcu5",
        "outputId": "a7e8d8d0-7578-49c9-ec84-011afd64e4de"
      },
      "source": [
        "!pip install category_encoders"
      ],
      "execution_count": 249,
      "outputs": [
        {
          "output_type": "stream",
          "text": [
            "Requirement already satisfied: category_encoders in /usr/local/lib/python3.7/dist-packages (2.2.2)\n",
            "Requirement already satisfied: patsy>=0.5.1 in /usr/local/lib/python3.7/dist-packages (from category_encoders) (0.5.1)\n",
            "Requirement already satisfied: numpy>=1.14.0 in /usr/local/lib/python3.7/dist-packages (from category_encoders) (1.19.5)\n",
            "Requirement already satisfied: scipy>=1.0.0 in /usr/local/lib/python3.7/dist-packages (from category_encoders) (1.4.1)\n",
            "Requirement already satisfied: statsmodels>=0.9.0 in /usr/local/lib/python3.7/dist-packages (from category_encoders) (0.10.2)\n",
            "Requirement already satisfied: scikit-learn>=0.20.0 in /usr/local/lib/python3.7/dist-packages (from category_encoders) (0.22.2.post1)\n",
            "Requirement already satisfied: pandas>=0.21.1 in /usr/local/lib/python3.7/dist-packages (from category_encoders) (1.1.5)\n",
            "Requirement already satisfied: six in /usr/local/lib/python3.7/dist-packages (from patsy>=0.5.1->category_encoders) (1.15.0)\n",
            "Requirement already satisfied: joblib>=0.11 in /usr/local/lib/python3.7/dist-packages (from scikit-learn>=0.20.0->category_encoders) (1.0.1)\n",
            "Requirement already satisfied: pytz>=2017.2 in /usr/local/lib/python3.7/dist-packages (from pandas>=0.21.1->category_encoders) (2018.9)\n",
            "Requirement already satisfied: python-dateutil>=2.7.3 in /usr/local/lib/python3.7/dist-packages (from pandas>=0.21.1->category_encoders) (2.8.1)\n"
          ],
          "name": "stdout"
        }
      ]
    },
    {
      "cell_type": "code",
      "metadata": {
        "colab": {
          "base_uri": "https://localhost:8080/"
        },
        "id": "8XFbWIR0bqKU",
        "outputId": "a6c986ff-2e25-49e6-a96e-b375baf21173"
      },
      "source": [
        "### 이곳에서 과제를 진행해 주세요 ### \n",
        "\n",
        "# 정보 누수 없앰 -- target 변수 생성 시 사용된 데이터 제거\n",
        "train_X = df[['상품코드', '대출기간월수','대출거치기간월수']]\n",
        "\n",
        "\n",
        "from category_encoders import OneHotEncoder\n",
        "onehot = OneHotEncoder(cols='상품코드')\n",
        "train_X = onehot.fit_transform(train_X)\n",
        "train_X['대출기간월수']"
      ],
      "execution_count": 250,
      "outputs": [
        {
          "output_type": "stream",
          "text": [
            "/usr/local/lib/python3.7/dist-packages/category_encoders/utils.py:21: FutureWarning: is_categorical is deprecated and will be removed in a future version.  Use is_categorical_dtype instead\n",
            "  elif pd.api.types.is_categorical(cols):\n"
          ],
          "name": "stderr"
        },
        {
          "output_type": "execute_result",
          "data": {
            "text/plain": [
              "0         120\n",
              "1         180\n",
              "2         120\n",
              "3         144\n",
              "4         240\n",
              "         ... \n",
              "720535    216\n",
              "720536    228\n",
              "720537    168\n",
              "720538    168\n",
              "720539    168\n",
              "Name: 대출기간월수, Length: 720540, dtype: int64"
            ]
          },
          "metadata": {
            "tags": []
          },
          "execution_count": 250
        }
      ]
    },
    {
      "cell_type": "code",
      "metadata": {
        "colab": {
          "base_uri": "https://localhost:8080/",
          "height": 436
        },
        "id": "C4JGn3uDrEwr",
        "outputId": "97c44910-7db3-46ee-8b77-29a22cc93516"
      },
      "source": [
        "data = pd.concat([train_X,target],axis=1)\n",
        "data"
      ],
      "execution_count": 251,
      "outputs": [
        {
          "output_type": "execute_result",
          "data": {
            "text/html": [
              "<div>\n",
              "<style scoped>\n",
              "    .dataframe tbody tr th:only-of-type {\n",
              "        vertical-align: middle;\n",
              "    }\n",
              "\n",
              "    .dataframe tbody tr th {\n",
              "        vertical-align: top;\n",
              "    }\n",
              "\n",
              "    .dataframe thead th {\n",
              "        text-align: right;\n",
              "    }\n",
              "</style>\n",
              "<table border=\"1\" class=\"dataframe\">\n",
              "  <thead>\n",
              "    <tr style=\"text-align: right;\">\n",
              "      <th></th>\n",
              "      <th>상품코드_1</th>\n",
              "      <th>상품코드_2</th>\n",
              "      <th>상품코드_3</th>\n",
              "      <th>상품코드_4</th>\n",
              "      <th>상품코드_5</th>\n",
              "      <th>상품코드_6</th>\n",
              "      <th>상품코드_7</th>\n",
              "      <th>상품코드_8</th>\n",
              "      <th>상품코드_9</th>\n",
              "      <th>상품코드_10</th>\n",
              "      <th>상품코드_11</th>\n",
              "      <th>대출기간월수</th>\n",
              "      <th>대출거치기간월수</th>\n",
              "      <th>상환여부</th>\n",
              "    </tr>\n",
              "  </thead>\n",
              "  <tbody>\n",
              "    <tr>\n",
              "      <th>0</th>\n",
              "      <td>1</td>\n",
              "      <td>0</td>\n",
              "      <td>0</td>\n",
              "      <td>0</td>\n",
              "      <td>0</td>\n",
              "      <td>0</td>\n",
              "      <td>0</td>\n",
              "      <td>0</td>\n",
              "      <td>0</td>\n",
              "      <td>0</td>\n",
              "      <td>0</td>\n",
              "      <td>120</td>\n",
              "      <td>60</td>\n",
              "      <td>1.0</td>\n",
              "    </tr>\n",
              "    <tr>\n",
              "      <th>1</th>\n",
              "      <td>1</td>\n",
              "      <td>0</td>\n",
              "      <td>0</td>\n",
              "      <td>0</td>\n",
              "      <td>0</td>\n",
              "      <td>0</td>\n",
              "      <td>0</td>\n",
              "      <td>0</td>\n",
              "      <td>0</td>\n",
              "      <td>0</td>\n",
              "      <td>0</td>\n",
              "      <td>180</td>\n",
              "      <td>60</td>\n",
              "      <td>1.0</td>\n",
              "    </tr>\n",
              "    <tr>\n",
              "      <th>2</th>\n",
              "      <td>1</td>\n",
              "      <td>0</td>\n",
              "      <td>0</td>\n",
              "      <td>0</td>\n",
              "      <td>0</td>\n",
              "      <td>0</td>\n",
              "      <td>0</td>\n",
              "      <td>0</td>\n",
              "      <td>0</td>\n",
              "      <td>0</td>\n",
              "      <td>0</td>\n",
              "      <td>120</td>\n",
              "      <td>60</td>\n",
              "      <td>1.0</td>\n",
              "    </tr>\n",
              "    <tr>\n",
              "      <th>3</th>\n",
              "      <td>1</td>\n",
              "      <td>0</td>\n",
              "      <td>0</td>\n",
              "      <td>0</td>\n",
              "      <td>0</td>\n",
              "      <td>0</td>\n",
              "      <td>0</td>\n",
              "      <td>0</td>\n",
              "      <td>0</td>\n",
              "      <td>0</td>\n",
              "      <td>0</td>\n",
              "      <td>144</td>\n",
              "      <td>24</td>\n",
              "      <td>1.0</td>\n",
              "    </tr>\n",
              "    <tr>\n",
              "      <th>4</th>\n",
              "      <td>1</td>\n",
              "      <td>0</td>\n",
              "      <td>0</td>\n",
              "      <td>0</td>\n",
              "      <td>0</td>\n",
              "      <td>0</td>\n",
              "      <td>0</td>\n",
              "      <td>0</td>\n",
              "      <td>0</td>\n",
              "      <td>0</td>\n",
              "      <td>0</td>\n",
              "      <td>240</td>\n",
              "      <td>120</td>\n",
              "      <td>1.0</td>\n",
              "    </tr>\n",
              "    <tr>\n",
              "      <th>...</th>\n",
              "      <td>...</td>\n",
              "      <td>...</td>\n",
              "      <td>...</td>\n",
              "      <td>...</td>\n",
              "      <td>...</td>\n",
              "      <td>...</td>\n",
              "      <td>...</td>\n",
              "      <td>...</td>\n",
              "      <td>...</td>\n",
              "      <td>...</td>\n",
              "      <td>...</td>\n",
              "      <td>...</td>\n",
              "      <td>...</td>\n",
              "      <td>...</td>\n",
              "    </tr>\n",
              "    <tr>\n",
              "      <th>720535</th>\n",
              "      <td>0</td>\n",
              "      <td>0</td>\n",
              "      <td>0</td>\n",
              "      <td>0</td>\n",
              "      <td>0</td>\n",
              "      <td>0</td>\n",
              "      <td>0</td>\n",
              "      <td>0</td>\n",
              "      <td>0</td>\n",
              "      <td>0</td>\n",
              "      <td>1</td>\n",
              "      <td>216</td>\n",
              "      <td>96</td>\n",
              "      <td>1.0</td>\n",
              "    </tr>\n",
              "    <tr>\n",
              "      <th>720536</th>\n",
              "      <td>0</td>\n",
              "      <td>0</td>\n",
              "      <td>0</td>\n",
              "      <td>0</td>\n",
              "      <td>0</td>\n",
              "      <td>0</td>\n",
              "      <td>0</td>\n",
              "      <td>0</td>\n",
              "      <td>0</td>\n",
              "      <td>0</td>\n",
              "      <td>1</td>\n",
              "      <td>228</td>\n",
              "      <td>108</td>\n",
              "      <td>1.0</td>\n",
              "    </tr>\n",
              "    <tr>\n",
              "      <th>720537</th>\n",
              "      <td>0</td>\n",
              "      <td>0</td>\n",
              "      <td>0</td>\n",
              "      <td>0</td>\n",
              "      <td>0</td>\n",
              "      <td>0</td>\n",
              "      <td>0</td>\n",
              "      <td>0</td>\n",
              "      <td>0</td>\n",
              "      <td>0</td>\n",
              "      <td>1</td>\n",
              "      <td>168</td>\n",
              "      <td>48</td>\n",
              "      <td>1.0</td>\n",
              "    </tr>\n",
              "    <tr>\n",
              "      <th>720538</th>\n",
              "      <td>0</td>\n",
              "      <td>0</td>\n",
              "      <td>0</td>\n",
              "      <td>0</td>\n",
              "      <td>0</td>\n",
              "      <td>0</td>\n",
              "      <td>0</td>\n",
              "      <td>0</td>\n",
              "      <td>0</td>\n",
              "      <td>0</td>\n",
              "      <td>1</td>\n",
              "      <td>168</td>\n",
              "      <td>48</td>\n",
              "      <td>1.0</td>\n",
              "    </tr>\n",
              "    <tr>\n",
              "      <th>720539</th>\n",
              "      <td>0</td>\n",
              "      <td>0</td>\n",
              "      <td>0</td>\n",
              "      <td>0</td>\n",
              "      <td>0</td>\n",
              "      <td>0</td>\n",
              "      <td>0</td>\n",
              "      <td>0</td>\n",
              "      <td>0</td>\n",
              "      <td>0</td>\n",
              "      <td>1</td>\n",
              "      <td>168</td>\n",
              "      <td>48</td>\n",
              "      <td>1.0</td>\n",
              "    </tr>\n",
              "  </tbody>\n",
              "</table>\n",
              "<p>720540 rows × 14 columns</p>\n",
              "</div>"
            ],
            "text/plain": [
              "        상품코드_1  상품코드_2  상품코드_3  상품코드_4  ...  상품코드_11  대출기간월수  대출거치기간월수  상환여부\n",
              "0            1       0       0       0  ...        0     120        60   1.0\n",
              "1            1       0       0       0  ...        0     180        60   1.0\n",
              "2            1       0       0       0  ...        0     120        60   1.0\n",
              "3            1       0       0       0  ...        0     144        24   1.0\n",
              "4            1       0       0       0  ...        0     240       120   1.0\n",
              "...        ...     ...     ...     ...  ...      ...     ...       ...   ...\n",
              "720535       0       0       0       0  ...        1     216        96   1.0\n",
              "720536       0       0       0       0  ...        1     228       108   1.0\n",
              "720537       0       0       0       0  ...        1     168        48   1.0\n",
              "720538       0       0       0       0  ...        1     168        48   1.0\n",
              "720539       0       0       0       0  ...        1     168        48   1.0\n",
              "\n",
              "[720540 rows x 14 columns]"
            ]
          },
          "metadata": {
            "tags": []
          },
          "execution_count": 251
        }
      ]
    },
    {
      "cell_type": "code",
      "metadata": {
        "colab": {
          "base_uri": "https://localhost:8080/",
          "height": 1000
        },
        "id": "lJebTPgupTol",
        "outputId": "d1d4f594-380a-4ff5-c638-7b20718dd069"
      },
      "source": [
        "# 이상값 확인 \n",
        "fig, axes = plt.subplots(ncols=2, figsize=(15,8));\n",
        "\n",
        "sns.boxplot(x=data['상환여부'], y = data['대출기간월수'], ax=axes[0]);\n",
        "sns.boxplot(x=data['상환여부'], y = data['대출거치기간월수'], ax=axes[1]);\n",
        "\n"
      ],
      "execution_count": 252,
      "outputs": [
        {
          "output_type": "stream",
          "text": [
            "/usr/local/lib/python3.7/dist-packages/matplotlib/backends/backend_agg.py:214: RuntimeWarning: Glyph 49345 missing from current font.\n",
            "  font.set_text(s, 0.0, flags=flags)\n",
            "/usr/local/lib/python3.7/dist-packages/matplotlib/backends/backend_agg.py:214: RuntimeWarning: Glyph 54872 missing from current font.\n",
            "  font.set_text(s, 0.0, flags=flags)\n",
            "/usr/local/lib/python3.7/dist-packages/matplotlib/backends/backend_agg.py:214: RuntimeWarning: Glyph 50668 missing from current font.\n",
            "  font.set_text(s, 0.0, flags=flags)\n",
            "/usr/local/lib/python3.7/dist-packages/matplotlib/backends/backend_agg.py:214: RuntimeWarning: Glyph 48512 missing from current font.\n",
            "  font.set_text(s, 0.0, flags=flags)\n",
            "/usr/local/lib/python3.7/dist-packages/matplotlib/backends/backend_agg.py:183: RuntimeWarning: Glyph 49345 missing from current font.\n",
            "  font.set_text(s, 0, flags=flags)\n",
            "/usr/local/lib/python3.7/dist-packages/matplotlib/backends/backend_agg.py:183: RuntimeWarning: Glyph 54872 missing from current font.\n",
            "  font.set_text(s, 0, flags=flags)\n",
            "/usr/local/lib/python3.7/dist-packages/matplotlib/backends/backend_agg.py:183: RuntimeWarning: Glyph 50668 missing from current font.\n",
            "  font.set_text(s, 0, flags=flags)\n",
            "/usr/local/lib/python3.7/dist-packages/matplotlib/backends/backend_agg.py:183: RuntimeWarning: Glyph 48512 missing from current font.\n",
            "  font.set_text(s, 0, flags=flags)\n",
            "/usr/local/lib/python3.7/dist-packages/matplotlib/backends/backend_agg.py:214: RuntimeWarning: Glyph 45824 missing from current font.\n",
            "  font.set_text(s, 0.0, flags=flags)\n",
            "/usr/local/lib/python3.7/dist-packages/matplotlib/backends/backend_agg.py:214: RuntimeWarning: Glyph 52636 missing from current font.\n",
            "  font.set_text(s, 0.0, flags=flags)\n",
            "/usr/local/lib/python3.7/dist-packages/matplotlib/backends/backend_agg.py:214: RuntimeWarning: Glyph 44592 missing from current font.\n",
            "  font.set_text(s, 0.0, flags=flags)\n",
            "/usr/local/lib/python3.7/dist-packages/matplotlib/backends/backend_agg.py:214: RuntimeWarning: Glyph 44036 missing from current font.\n",
            "  font.set_text(s, 0.0, flags=flags)\n",
            "/usr/local/lib/python3.7/dist-packages/matplotlib/backends/backend_agg.py:214: RuntimeWarning: Glyph 50900 missing from current font.\n",
            "  font.set_text(s, 0.0, flags=flags)\n",
            "/usr/local/lib/python3.7/dist-packages/matplotlib/backends/backend_agg.py:214: RuntimeWarning: Glyph 49688 missing from current font.\n",
            "  font.set_text(s, 0.0, flags=flags)\n",
            "/usr/local/lib/python3.7/dist-packages/matplotlib/backends/backend_agg.py:183: RuntimeWarning: Glyph 45824 missing from current font.\n",
            "  font.set_text(s, 0, flags=flags)\n",
            "/usr/local/lib/python3.7/dist-packages/matplotlib/backends/backend_agg.py:183: RuntimeWarning: Glyph 52636 missing from current font.\n",
            "  font.set_text(s, 0, flags=flags)\n",
            "/usr/local/lib/python3.7/dist-packages/matplotlib/backends/backend_agg.py:183: RuntimeWarning: Glyph 44592 missing from current font.\n",
            "  font.set_text(s, 0, flags=flags)\n",
            "/usr/local/lib/python3.7/dist-packages/matplotlib/backends/backend_agg.py:183: RuntimeWarning: Glyph 44036 missing from current font.\n",
            "  font.set_text(s, 0, flags=flags)\n",
            "/usr/local/lib/python3.7/dist-packages/matplotlib/backends/backend_agg.py:183: RuntimeWarning: Glyph 50900 missing from current font.\n",
            "  font.set_text(s, 0, flags=flags)\n",
            "/usr/local/lib/python3.7/dist-packages/matplotlib/backends/backend_agg.py:183: RuntimeWarning: Glyph 49688 missing from current font.\n",
            "  font.set_text(s, 0, flags=flags)\n",
            "/usr/local/lib/python3.7/dist-packages/matplotlib/backends/backend_agg.py:214: RuntimeWarning: Glyph 44144 missing from current font.\n",
            "  font.set_text(s, 0.0, flags=flags)\n",
            "/usr/local/lib/python3.7/dist-packages/matplotlib/backends/backend_agg.py:214: RuntimeWarning: Glyph 52824 missing from current font.\n",
            "  font.set_text(s, 0.0, flags=flags)\n",
            "/usr/local/lib/python3.7/dist-packages/matplotlib/backends/backend_agg.py:183: RuntimeWarning: Glyph 44144 missing from current font.\n",
            "  font.set_text(s, 0, flags=flags)\n",
            "/usr/local/lib/python3.7/dist-packages/matplotlib/backends/backend_agg.py:183: RuntimeWarning: Glyph 52824 missing from current font.\n",
            "  font.set_text(s, 0, flags=flags)\n"
          ],
          "name": "stderr"
        },
        {
          "output_type": "display_data",
          "data": {
            "image/png": "[encoded data removed]",
            "text/plain": [
              "<Figure size 1080x576 with 2 Axes>"
            ]
          },
          "metadata": {
            "tags": [],
            "needs_background": "light"
          }
        }
      ]
    },
    {
      "cell_type": "code",
      "metadata": {
        "id": "U2_Mr7q_thif"
      },
      "source": [
        "import numpy as np\n",
        "def outlier(dt, col):\n",
        "  new =dt[dt['상환여부'] == 0][col]\n",
        "  q1,q3 = np.percentile(new.values, [25,75])\n",
        "  iqr = q3-q1\n",
        "  lower = q1 - (iqr*1.5)\n",
        "  upper = q3 + (iqr*1.5)\n",
        "  return dt[((data[col]<lower)|(data[col]>upper))].index\n",
        "\n",
        "data = data.drop(outlier(data,'대출거치기간월수'),axis=0)"
      ],
      "execution_count": 253,
      "outputs": []
    },
    {
      "cell_type": "code",
      "metadata": {
        "id": "0uOay3ZAuPeP"
      },
      "source": [
        "def outlier(dt, col):\n",
        "  new =dt[dt['상환여부'] == 1][col]\n",
        "  q1,q3 = np.percentile(new.values, [25,75])\n",
        "  iqr = q3-q1\n",
        "  lower = q1 - (iqr*1.5)\n",
        "  upper = q3 + (iqr*1.5)\n",
        "  return dt[((data[col]<lower)|(data[col]>upper))].index\n",
        "\n",
        "data = data.drop(outlier(data,'대출거치기간월수'),axis=0)"
      ],
      "execution_count": 254,
      "outputs": []
    },
    {
      "cell_type": "code",
      "metadata": {
        "colab": {
          "base_uri": "https://localhost:8080/",
          "height": 813
        },
        "id": "DFWFadO-fzfX",
        "outputId": "8878a82d-8fea-4079-8573-83720297debc"
      },
      "source": [
        "import matplotlib.pyplot as plt\n",
        "import seaborn as sns\n",
        "mon = train_X['대출기간월수'].values\n",
        "mon2 = train_X['대출거치기간월수'].values\n",
        "sns.displot(mon, ax=ax[0], color = 'r')\n",
        "ax[0].set_xlim(min(mon),max(mon))\n",
        "sns.displot(mon2, ax=ax[1], color = 'b')\n",
        "ax[1].set_xlim(min(mon2),max(mon2))\n",
        "\n",
        "plt.show()\n"
      ],
      "execution_count": 255,
      "outputs": [
        {
          "output_type": "stream",
          "text": [
            "/usr/local/lib/python3.7/dist-packages/seaborn/distributions.py:2164: UserWarning: `displot` is a figure-level function and does not accept the ax= paramter. You may wish to try histplot.\n",
            "  warnings.warn(msg, UserWarning)\n",
            "/usr/local/lib/python3.7/dist-packages/seaborn/distributions.py:2164: UserWarning: `displot` is a figure-level function and does not accept the ax= paramter. You may wish to try histplot.\n",
            "  warnings.warn(msg, UserWarning)\n"
          ],
          "name": "stderr"
        },
        {
          "output_type": "display_data",
          "data": {
            "image/png": "[encoded data removed]",
            "text/plain": [
              "<Figure size 360x360 with 1 Axes>"
            ]
          },
          "metadata": {
            "tags": [],
            "needs_background": "light"
          }
        },
        {
          "output_type": "display_data",
          "data": {
            "image/png": "[encoded data removed]",
            "text/plain": [
              "<Figure size 360x360 with 1 Axes>"
            ]
          },
          "metadata": {
            "tags": [],
            "needs_background": "light"
          }
        }
      ]
    },
    {
      "cell_type": "code",
      "metadata": {
        "colab": {
          "base_uri": "https://localhost:8080/",
          "height": 831
        },
        "id": "OozRE7S1iIaA",
        "outputId": "ae9a0535-3d1a-4e01-d66d-24c57cfcd0bd"
      },
      "source": [
        "# 스케일러\n",
        "from sklearn.preprocessing import RobustScaler\n",
        "\n",
        "rob = RobustScaler()\n",
        "data['robust'] = rob.fit_transform(data[['대출기간월수']])\n",
        "\n",
        "sns.displot(data['robust'].values, ax=ax[0], color = 'r')\n",
        "ax[0].set_xlim(min(data['robust'].values,),max(data['robust'].values,))\n",
        "\n",
        "rob = RobustScaler()\n",
        "data['robust2'] = rob.fit_transform(data[['대출거치기간월수']])\n",
        "\n",
        "sns.displot(data['robust2'].values, ax=ax[0], color = 'b')\n",
        "ax[0].set_xlim(min(data['robust2'].values,),max(data['robust2'].values,))"
      ],
      "execution_count": 256,
      "outputs": [
        {
          "output_type": "stream",
          "text": [
            "/usr/local/lib/python3.7/dist-packages/seaborn/distributions.py:2164: UserWarning: `displot` is a figure-level function and does not accept the ax= paramter. You may wish to try histplot.\n",
            "  warnings.warn(msg, UserWarning)\n",
            "/usr/local/lib/python3.7/dist-packages/seaborn/distributions.py:2164: UserWarning: `displot` is a figure-level function and does not accept the ax= paramter. You may wish to try histplot.\n",
            "  warnings.warn(msg, UserWarning)\n"
          ],
          "name": "stderr"
        },
        {
          "output_type": "execute_result",
          "data": {
            "text/plain": [
              "(-1.0, 1.3333333333333333)"
            ]
          },
          "metadata": {
            "tags": []
          },
          "execution_count": 256
        },
        {
          "output_type": "display_data",
          "data": {
            "image/png": "[encoded data removed]",
            "text/plain": [
              "<Figure size 360x360 with 1 Axes>"
            ]
          },
          "metadata": {
            "tags": [],
            "needs_background": "light"
          }
        },
        {
          "output_type": "display_data",
          "data": {
            "image/png": "[encoded data removed]",
            "text/plain": [
              "<Figure size 360x360 with 1 Axes>"
            ]
          },
          "metadata": {
            "tags": [],
            "needs_background": "light"
          }
        }
      ]
    },
    {
      "cell_type": "code",
      "metadata": {
        "colab": {
          "base_uri": "https://localhost:8080/",
          "height": 436
        },
        "id": "l1xEmibtkKmJ",
        "outputId": "3ca96fd3-7dc8-48c2-e4f7-25428219af84"
      },
      "source": [
        "data.drop(['대출기간월수','대출거치기간월수'],axis=1,inplace =True)\n",
        "data"
      ],
      "execution_count": 257,
      "outputs": [
        {
          "output_type": "execute_result",
          "data": {
            "text/html": [
              "<div>\n",
              "<style scoped>\n",
              "    .dataframe tbody tr th:only-of-type {\n",
              "        vertical-align: middle;\n",
              "    }\n",
              "\n",
              "    .dataframe tbody tr th {\n",
              "        vertical-align: top;\n",
              "    }\n",
              "\n",
              "    .dataframe thead th {\n",
              "        text-align: right;\n",
              "    }\n",
              "</style>\n",
              "<table border=\"1\" class=\"dataframe\">\n",
              "  <thead>\n",
              "    <tr style=\"text-align: right;\">\n",
              "      <th></th>\n",
              "      <th>상품코드_1</th>\n",
              "      <th>상품코드_2</th>\n",
              "      <th>상품코드_3</th>\n",
              "      <th>상품코드_4</th>\n",
              "      <th>상품코드_5</th>\n",
              "      <th>상품코드_6</th>\n",
              "      <th>상품코드_7</th>\n",
              "      <th>상품코드_8</th>\n",
              "      <th>상품코드_9</th>\n",
              "      <th>상품코드_10</th>\n",
              "      <th>상품코드_11</th>\n",
              "      <th>상환여부</th>\n",
              "      <th>robust</th>\n",
              "      <th>robust2</th>\n",
              "    </tr>\n",
              "  </thead>\n",
              "  <tbody>\n",
              "    <tr>\n",
              "      <th>0</th>\n",
              "      <td>1</td>\n",
              "      <td>0</td>\n",
              "      <td>0</td>\n",
              "      <td>0</td>\n",
              "      <td>0</td>\n",
              "      <td>0</td>\n",
              "      <td>0</td>\n",
              "      <td>0</td>\n",
              "      <td>0</td>\n",
              "      <td>0</td>\n",
              "      <td>0</td>\n",
              "      <td>1.0</td>\n",
              "      <td>0.000</td>\n",
              "      <td>0.666667</td>\n",
              "    </tr>\n",
              "    <tr>\n",
              "      <th>1</th>\n",
              "      <td>1</td>\n",
              "      <td>0</td>\n",
              "      <td>0</td>\n",
              "      <td>0</td>\n",
              "      <td>0</td>\n",
              "      <td>0</td>\n",
              "      <td>0</td>\n",
              "      <td>0</td>\n",
              "      <td>0</td>\n",
              "      <td>0</td>\n",
              "      <td>0</td>\n",
              "      <td>1.0</td>\n",
              "      <td>0.625</td>\n",
              "      <td>0.666667</td>\n",
              "    </tr>\n",
              "    <tr>\n",
              "      <th>2</th>\n",
              "      <td>1</td>\n",
              "      <td>0</td>\n",
              "      <td>0</td>\n",
              "      <td>0</td>\n",
              "      <td>0</td>\n",
              "      <td>0</td>\n",
              "      <td>0</td>\n",
              "      <td>0</td>\n",
              "      <td>0</td>\n",
              "      <td>0</td>\n",
              "      <td>0</td>\n",
              "      <td>1.0</td>\n",
              "      <td>0.000</td>\n",
              "      <td>0.666667</td>\n",
              "    </tr>\n",
              "    <tr>\n",
              "      <th>3</th>\n",
              "      <td>1</td>\n",
              "      <td>0</td>\n",
              "      <td>0</td>\n",
              "      <td>0</td>\n",
              "      <td>0</td>\n",
              "      <td>0</td>\n",
              "      <td>0</td>\n",
              "      <td>0</td>\n",
              "      <td>0</td>\n",
              "      <td>0</td>\n",
              "      <td>0</td>\n",
              "      <td>1.0</td>\n",
              "      <td>0.250</td>\n",
              "      <td>-0.333333</td>\n",
              "    </tr>\n",
              "    <tr>\n",
              "      <th>5</th>\n",
              "      <td>1</td>\n",
              "      <td>0</td>\n",
              "      <td>0</td>\n",
              "      <td>0</td>\n",
              "      <td>0</td>\n",
              "      <td>0</td>\n",
              "      <td>0</td>\n",
              "      <td>0</td>\n",
              "      <td>0</td>\n",
              "      <td>0</td>\n",
              "      <td>0</td>\n",
              "      <td>1.0</td>\n",
              "      <td>0.000</td>\n",
              "      <td>0.333333</td>\n",
              "    </tr>\n",
              "    <tr>\n",
              "      <th>...</th>\n",
              "      <td>...</td>\n",
              "      <td>...</td>\n",
              "      <td>...</td>\n",
              "      <td>...</td>\n",
              "      <td>...</td>\n",
              "      <td>...</td>\n",
              "      <td>...</td>\n",
              "      <td>...</td>\n",
              "      <td>...</td>\n",
              "      <td>...</td>\n",
              "      <td>...</td>\n",
              "      <td>...</td>\n",
              "      <td>...</td>\n",
              "      <td>...</td>\n",
              "    </tr>\n",
              "    <tr>\n",
              "      <th>720533</th>\n",
              "      <td>0</td>\n",
              "      <td>0</td>\n",
              "      <td>0</td>\n",
              "      <td>0</td>\n",
              "      <td>0</td>\n",
              "      <td>0</td>\n",
              "      <td>0</td>\n",
              "      <td>0</td>\n",
              "      <td>0</td>\n",
              "      <td>0</td>\n",
              "      <td>1</td>\n",
              "      <td>1.0</td>\n",
              "      <td>0.250</td>\n",
              "      <td>-0.333333</td>\n",
              "    </tr>\n",
              "    <tr>\n",
              "      <th>720534</th>\n",
              "      <td>0</td>\n",
              "      <td>0</td>\n",
              "      <td>0</td>\n",
              "      <td>0</td>\n",
              "      <td>0</td>\n",
              "      <td>0</td>\n",
              "      <td>0</td>\n",
              "      <td>0</td>\n",
              "      <td>0</td>\n",
              "      <td>0</td>\n",
              "      <td>1</td>\n",
              "      <td>1.0</td>\n",
              "      <td>0.625</td>\n",
              "      <td>0.666667</td>\n",
              "    </tr>\n",
              "    <tr>\n",
              "      <th>720537</th>\n",
              "      <td>0</td>\n",
              "      <td>0</td>\n",
              "      <td>0</td>\n",
              "      <td>0</td>\n",
              "      <td>0</td>\n",
              "      <td>0</td>\n",
              "      <td>0</td>\n",
              "      <td>0</td>\n",
              "      <td>0</td>\n",
              "      <td>0</td>\n",
              "      <td>1</td>\n",
              "      <td>1.0</td>\n",
              "      <td>0.500</td>\n",
              "      <td>0.333333</td>\n",
              "    </tr>\n",
              "    <tr>\n",
              "      <th>720538</th>\n",
              "      <td>0</td>\n",
              "      <td>0</td>\n",
              "      <td>0</td>\n",
              "      <td>0</td>\n",
              "      <td>0</td>\n",
              "      <td>0</td>\n",
              "      <td>0</td>\n",
              "      <td>0</td>\n",
              "      <td>0</td>\n",
              "      <td>0</td>\n",
              "      <td>1</td>\n",
              "      <td>1.0</td>\n",
              "      <td>0.500</td>\n",
              "      <td>0.333333</td>\n",
              "    </tr>\n",
              "    <tr>\n",
              "      <th>720539</th>\n",
              "      <td>0</td>\n",
              "      <td>0</td>\n",
              "      <td>0</td>\n",
              "      <td>0</td>\n",
              "      <td>0</td>\n",
              "      <td>0</td>\n",
              "      <td>0</td>\n",
              "      <td>0</td>\n",
              "      <td>0</td>\n",
              "      <td>0</td>\n",
              "      <td>1</td>\n",
              "      <td>1.0</td>\n",
              "      <td>0.500</td>\n",
              "      <td>0.333333</td>\n",
              "    </tr>\n",
              "  </tbody>\n",
              "</table>\n",
              "<p>681199 rows × 14 columns</p>\n",
              "</div>"
            ],
            "text/plain": [
              "        상품코드_1  상품코드_2  상품코드_3  상품코드_4  ...  상품코드_11  상환여부  robust   robust2\n",
              "0            1       0       0       0  ...        0   1.0   0.000  0.666667\n",
              "1            1       0       0       0  ...        0   1.0   0.625  0.666667\n",
              "2            1       0       0       0  ...        0   1.0   0.000  0.666667\n",
              "3            1       0       0       0  ...        0   1.0   0.250 -0.333333\n",
              "5            1       0       0       0  ...        0   1.0   0.000  0.333333\n",
              "...        ...     ...     ...     ...  ...      ...   ...     ...       ...\n",
              "720533       0       0       0       0  ...        1   1.0   0.250 -0.333333\n",
              "720534       0       0       0       0  ...        1   1.0   0.625  0.666667\n",
              "720537       0       0       0       0  ...        1   1.0   0.500  0.333333\n",
              "720538       0       0       0       0  ...        1   1.0   0.500  0.333333\n",
              "720539       0       0       0       0  ...        1   1.0   0.500  0.333333\n",
              "\n",
              "[681199 rows x 14 columns]"
            ]
          },
          "metadata": {
            "tags": []
          },
          "execution_count": 257
        }
      ]
    },
    {
      "cell_type": "code",
      "metadata": {
        "colab": {
          "base_uri": "https://localhost:8080/",
          "height": 453
        },
        "id": "HL-SsSzOuvyV",
        "outputId": "22d2a69d-7095-41c3-906f-b4607355aa98"
      },
      "source": [
        "target = data['상환여부']\n",
        "data = data.drop(['상환여부'],axis=1)\n",
        "data"
      ],
      "execution_count": 258,
      "outputs": [
        {
          "output_type": "execute_result",
          "data": {
            "text/html": [
              "<div>\n",
              "<style scoped>\n",
              "    .dataframe tbody tr th:only-of-type {\n",
              "        vertical-align: middle;\n",
              "    }\n",
              "\n",
              "    .dataframe tbody tr th {\n",
              "        vertical-align: top;\n",
              "    }\n",
              "\n",
              "    .dataframe thead th {\n",
              "        text-align: right;\n",
              "    }\n",
              "</style>\n",
              "<table border=\"1\" class=\"dataframe\">\n",
              "  <thead>\n",
              "    <tr style=\"text-align: right;\">\n",
              "      <th></th>\n",
              "      <th>상품코드_1</th>\n",
              "      <th>상품코드_2</th>\n",
              "      <th>상품코드_3</th>\n",
              "      <th>상품코드_4</th>\n",
              "      <th>상품코드_5</th>\n",
              "      <th>상품코드_6</th>\n",
              "      <th>상품코드_7</th>\n",
              "      <th>상품코드_8</th>\n",
              "      <th>상품코드_9</th>\n",
              "      <th>상품코드_10</th>\n",
              "      <th>상품코드_11</th>\n",
              "      <th>robust</th>\n",
              "      <th>robust2</th>\n",
              "    </tr>\n",
              "  </thead>\n",
              "  <tbody>\n",
              "    <tr>\n",
              "      <th>0</th>\n",
              "      <td>1</td>\n",
              "      <td>0</td>\n",
              "      <td>0</td>\n",
              "      <td>0</td>\n",
              "      <td>0</td>\n",
              "      <td>0</td>\n",
              "      <td>0</td>\n",
              "      <td>0</td>\n",
              "      <td>0</td>\n",
              "      <td>0</td>\n",
              "      <td>0</td>\n",
              "      <td>0.000</td>\n",
              "      <td>0.666667</td>\n",
              "    </tr>\n",
              "    <tr>\n",
              "      <th>1</th>\n",
              "      <td>1</td>\n",
              "      <td>0</td>\n",
              "      <td>0</td>\n",
              "      <td>0</td>\n",
              "      <td>0</td>\n",
              "      <td>0</td>\n",
              "      <td>0</td>\n",
              "      <td>0</td>\n",
              "      <td>0</td>\n",
              "      <td>0</td>\n",
              "      <td>0</td>\n",
              "      <td>0.625</td>\n",
              "      <td>0.666667</td>\n",
              "    </tr>\n",
              "    <tr>\n",
              "      <th>2</th>\n",
              "      <td>1</td>\n",
              "      <td>0</td>\n",
              "      <td>0</td>\n",
              "      <td>0</td>\n",
              "      <td>0</td>\n",
              "      <td>0</td>\n",
              "      <td>0</td>\n",
              "      <td>0</td>\n",
              "      <td>0</td>\n",
              "      <td>0</td>\n",
              "      <td>0</td>\n",
              "      <td>0.000</td>\n",
              "      <td>0.666667</td>\n",
              "    </tr>\n",
              "    <tr>\n",
              "      <th>3</th>\n",
              "      <td>1</td>\n",
              "      <td>0</td>\n",
              "      <td>0</td>\n",
              "      <td>0</td>\n",
              "      <td>0</td>\n",
              "      <td>0</td>\n",
              "      <td>0</td>\n",
              "      <td>0</td>\n",
              "      <td>0</td>\n",
              "      <td>0</td>\n",
              "      <td>0</td>\n",
              "      <td>0.250</td>\n",
              "      <td>-0.333333</td>\n",
              "    </tr>\n",
              "    <tr>\n",
              "      <th>5</th>\n",
              "      <td>1</td>\n",
              "      <td>0</td>\n",
              "      <td>0</td>\n",
              "      <td>0</td>\n",
              "      <td>0</td>\n",
              "      <td>0</td>\n",
              "      <td>0</td>\n",
              "      <td>0</td>\n",
              "      <td>0</td>\n",
              "      <td>0</td>\n",
              "      <td>0</td>\n",
              "      <td>0.000</td>\n",
              "      <td>0.333333</td>\n",
              "    </tr>\n",
              "    <tr>\n",
              "      <th>...</th>\n",
              "      <td>...</td>\n",
              "      <td>...</td>\n",
              "      <td>...</td>\n",
              "      <td>...</td>\n",
              "      <td>...</td>\n",
              "      <td>...</td>\n",
              "      <td>...</td>\n",
              "      <td>...</td>\n",
              "      <td>...</td>\n",
              "      <td>...</td>\n",
              "      <td>...</td>\n",
              "      <td>...</td>\n",
              "      <td>...</td>\n",
              "    </tr>\n",
              "    <tr>\n",
              "      <th>720533</th>\n",
              "      <td>0</td>\n",
              "      <td>0</td>\n",
              "      <td>0</td>\n",
              "      <td>0</td>\n",
              "      <td>0</td>\n",
              "      <td>0</td>\n",
              "      <td>0</td>\n",
              "      <td>0</td>\n",
              "      <td>0</td>\n",
              "      <td>0</td>\n",
              "      <td>1</td>\n",
              "      <td>0.250</td>\n",
              "      <td>-0.333333</td>\n",
              "    </tr>\n",
              "    <tr>\n",
              "      <th>720534</th>\n",
              "      <td>0</td>\n",
              "      <td>0</td>\n",
              "      <td>0</td>\n",
              "      <td>0</td>\n",
              "      <td>0</td>\n",
              "      <td>0</td>\n",
              "      <td>0</td>\n",
              "      <td>0</td>\n",
              "      <td>0</td>\n",
              "      <td>0</td>\n",
              "      <td>1</td>\n",
              "      <td>0.625</td>\n",
              "      <td>0.666667</td>\n",
              "    </tr>\n",
              "    <tr>\n",
              "      <th>720537</th>\n",
              "      <td>0</td>\n",
              "      <td>0</td>\n",
              "      <td>0</td>\n",
              "      <td>0</td>\n",
              "      <td>0</td>\n",
              "      <td>0</td>\n",
              "      <td>0</td>\n",
              "      <td>0</td>\n",
              "      <td>0</td>\n",
              "      <td>0</td>\n",
              "      <td>1</td>\n",
              "      <td>0.500</td>\n",
              "      <td>0.333333</td>\n",
              "    </tr>\n",
              "    <tr>\n",
              "      <th>720538</th>\n",
              "      <td>0</td>\n",
              "      <td>0</td>\n",
              "      <td>0</td>\n",
              "      <td>0</td>\n",
              "      <td>0</td>\n",
              "      <td>0</td>\n",
              "      <td>0</td>\n",
              "      <td>0</td>\n",
              "      <td>0</td>\n",
              "      <td>0</td>\n",
              "      <td>1</td>\n",
              "      <td>0.500</td>\n",
              "      <td>0.333333</td>\n",
              "    </tr>\n",
              "    <tr>\n",
              "      <th>720539</th>\n",
              "      <td>0</td>\n",
              "      <td>0</td>\n",
              "      <td>0</td>\n",
              "      <td>0</td>\n",
              "      <td>0</td>\n",
              "      <td>0</td>\n",
              "      <td>0</td>\n",
              "      <td>0</td>\n",
              "      <td>0</td>\n",
              "      <td>0</td>\n",
              "      <td>1</td>\n",
              "      <td>0.500</td>\n",
              "      <td>0.333333</td>\n",
              "    </tr>\n",
              "  </tbody>\n",
              "</table>\n",
              "<p>681199 rows × 13 columns</p>\n",
              "</div>"
            ],
            "text/plain": [
              "        상품코드_1  상품코드_2  상품코드_3  상품코드_4  ...  상품코드_10  상품코드_11  robust   robust2\n",
              "0            1       0       0       0  ...        0        0   0.000  0.666667\n",
              "1            1       0       0       0  ...        0        0   0.625  0.666667\n",
              "2            1       0       0       0  ...        0        0   0.000  0.666667\n",
              "3            1       0       0       0  ...        0        0   0.250 -0.333333\n",
              "5            1       0       0       0  ...        0        0   0.000  0.333333\n",
              "...        ...     ...     ...     ...  ...      ...      ...     ...       ...\n",
              "720533       0       0       0       0  ...        0        1   0.250 -0.333333\n",
              "720534       0       0       0       0  ...        0        1   0.625  0.666667\n",
              "720537       0       0       0       0  ...        0        1   0.500  0.333333\n",
              "720538       0       0       0       0  ...        0        1   0.500  0.333333\n",
              "720539       0       0       0       0  ...        0        1   0.500  0.333333\n",
              "\n",
              "[681199 rows x 13 columns]"
            ]
          },
          "metadata": {
            "tags": []
          },
          "execution_count": 258
        }
      ]
    },
    {
      "cell_type": "code",
      "metadata": {
        "id": "zQ06nsfdlqfq"
      },
      "source": [
        "# 무작위 나누기 \n",
        "from sklearn.model_selection import train_test_split\n",
        "\n",
        "train_X, test_X, train_y, test_y = train_test_split(data, target, train_size=0.8, random_state = 24)\n",
        "train_X, val_X, train_y, val_y = train_test_split(train_X, train_y, train_size=0.8, random_state = 24)"
      ],
      "execution_count": 259,
      "outputs": []
    },
    {
      "cell_type": "code",
      "metadata": {
        "colab": {
          "base_uri": "https://localhost:8080/"
        },
        "id": "Q5xdSGkcmHiV",
        "outputId": "937708c7-66eb-4213-d5e7-e819ed8d1d3a"
      },
      "source": [
        "from sklearn.ensemble import RandomForestClassifier\n",
        "from sklearn.metrics import f1_score\n",
        "rf = RandomForestClassifier(max_depth= 15,random_state = 24,n_estimators=200)\n",
        "rf.fit(train_X, train_y)\n",
        "pred_y = rf.predict(val_X)\n",
        "f1_score(val_y,pred_y)"
      ],
      "execution_count": 260,
      "outputs": [
        {
          "output_type": "execute_result",
          "data": {
            "text/plain": [
              "0.8854029672587451"
            ]
          },
          "metadata": {
            "tags": []
          },
          "execution_count": 260
        }
      ]
    },
    {
      "cell_type": "code",
      "metadata": {
        "colab": {
          "base_uri": "https://localhost:8080/"
        },
        "id": "DmCae-Olnyx1",
        "outputId": "b8f3727c-c340-4982-f7e2-566eacea1c27"
      },
      "source": [
        "pred_y = rf.predict(test_X)\n",
        "f1_score(test_y,pred_y)"
      ],
      "execution_count": 261,
      "outputs": [
        {
          "output_type": "execute_result",
          "data": {
            "text/plain": [
              "0.8851381047364685"
            ]
          },
          "metadata": {
            "tags": []
          },
          "execution_count": 261
        }
      ]
    },
    {
      "cell_type": "code",
      "metadata": {
        "id": "4gbb-eKqorAF"
      },
      "source": [
        "\n",
        "# 랜덤포레스트분류 모델을 만든 결과 f1 score가 검증 데이터 기준 88프로로 나왔습니다.\n",
        "# 테스트 데이터로 확인해 본 결과 f1 score가 비슷하게 나온 것으로 보아 제데로 모델링이 된 것을 확인 할 수 있습니다. "
      ],
      "execution_count": 262,
      "outputs": []
    }
  ]
}