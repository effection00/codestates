{
  "nbformat": 4,
  "nbformat_minor": 0,
  "metadata": {
    "colab": {
      "name": "n131a-vectors-matrices.ipynb의 사본",
      "provenance": [],
      "collapsed_sections": [],
      "include_colab_link": true
    },
    "kernelspec": {
      "display_name": "Python 3",
      "language": "python",
      "name": "python3"
    },
    "language_info": {
      "codemirror_mode": {
        "name": "ipython",
        "version": 3
      },
      "file_extension": ".py",
      "mimetype": "text/x-python",
      "name": "python",
      "nbconvert_exporter": "python",
      "pygments_lexer": "ipython3",
      "version": "3.8.2"
    }
  },
  "cells": [
    {
      "cell_type": "markdown",
      "metadata": {
        "id": "view-in-github",
        "colab_type": "text"
      },
      "source": [
        "<a href=\"https://colab.research.google.com/github/effection00/codestates/blob/main/sprint3/n131a%20%EC%88%98%EC%A0%95.ipynb\" target=\"_parent\"><img src=\"https://colab.research.google.com/assets/colab-badge.svg\" alt=\"Open In Colab\"/></a>"
      ]
    },
    {
      "cell_type": "markdown",
      "metadata": {
        "id": "Y7hxe5O-9ukJ"
      },
      "source": [
        "<img src='https://i.imgur.com/RDAD11M.png' width = '200' align = 'right'>\n",
        "\n",
        "## *DATA SCIENCE / SECTION 1 / SPRINT 3 / NOTE 1*\n",
        "\n",
        "# 📝 Assignment"
      ]
    },
    {
      "cell_type": "markdown",
      "metadata": {
        "id": "yXA3GwWhY9KL"
      },
      "source": [
        "## 1. Portfolio\n",
        "\n",
        "`Dot product` & `Matrix Multiplication` 을 이용하여 다음 포트폴리오의 사람별 총합을 계산하세요.\n",
        "- 결과는 `res`에 list형태로 저장합니다.\n",
        "\n",
        "|People|Name|Price|Amount|\n",
        "|:-:|:-:|:-:|:-:|\n",
        "|X|A|100|35|\n",
        "|X|B|500|10|\n",
        "|X|C|250|25|\n",
        "|X|D|50|40|\n",
        "|Y|A|100|-|\n",
        "|Y|B|500|50|\n",
        "|Y|C|250|50|\n",
        "|Y|D|50|-|\n",
        "|Z|A|100|-|\n",
        "|Z|B|500|-|\n",
        "|Z|C|250|100|\n",
        "|Z|D|50|-|\n",
        "\n"
      ]
    },
    {
      "cell_type": "code",
      "metadata": {
        "id": "ErSR5soVblfv",
        "colab": {
          "base_uri": "https://localhost:8080/"
        },
        "outputId": "2d775230-7b71-43b8-9cf7-67e786cb7eff"
      },
      "source": [
        "# 이곳에 답안을 작성하시기 바랍니다\n",
        "# 벡터의 내적 ( Dot Product ) : array로 합 구하기\n",
        "# Name : 주식 종목\n",
        "import numpy as np\n",
        "\n",
        "x = np.array([100, 500, 250, 50])\n",
        "y = np.array([100, 500, 250, 50])\n",
        "z = np.array([100, 500, 250, 50])\n",
        "\n",
        "x2 = np.array([35,10,25,40])\n",
        "y2 = np.array([0,50,50,0])\n",
        "z2 = np.array([0,0,100,0])\n",
        "\n",
        "\n",
        "res = [np.dot(x, x2),np.dot(y, y2),np.dot(z,z2)]\n",
        "res"
      ],
      "execution_count": null,
      "outputs": [
        {
          "output_type": "execute_result",
          "data": {
            "text/plain": [
              "[16750, 37500, 25000]"
            ]
          },
          "metadata": {
            "tags": []
          },
          "execution_count": 78
        }
      ]
    },
    {
      "cell_type": "markdown",
      "metadata": {
        "id": "dMgAVgIuGe_B"
      },
      "source": [
        "## 2. Norms\n",
        "\n",
        "주어진 값 $x_0, x_1, ... x_n$ 를 element로 갖는 벡터 $v$에 대하여 \n",
        "\n",
        "$L_1$ Norm 의 정의는 다음과 같습니다. \n",
        "\n",
        "$|v| = |x_0| + |x_1| + ... + |x_n|$\n",
        "\n",
        "$L_2$ Norm 의 정의는 다음과 같습니다.\n",
        "\n",
        "$||v|| = \\sqrt {{x_0}^2 + {x_1}^2 + ... + {x_n}^2}$\n",
        "\n",
        "이를 참조하여 주어진 벡터에 대해서 $L_2$ Norm 의 값과 $L_1$ Norm 의 값의 차이(**절대값**)를 계산하는 함수를 만드세요.\n",
        "\n"
      ]
    },
    {
      "cell_type": "code",
      "metadata": {
        "id": "XrYfAExIGemC"
      },
      "source": [
        "def NormDif(v): # v = np.array()\n",
        "   result1 = sum(np.abs(v))\n",
        "   result2 = np.sqrt(sum(v*v))\n",
        "     \n",
        "   return abs(result2 - result1)"
      ],
      "execution_count": null,
      "outputs": []
    },
    {
      "cell_type": "code",
      "metadata": {
        "colab": {
          "base_uri": "https://localhost:8080/"
        },
        "id": "laqKOEpRFrLG",
        "outputId": "3cd5c9ff-2aa1-4915-bd07-fb245d08b99d"
      },
      "source": [
        "sum(np.abs([1, 2, 3]))"
      ],
      "execution_count": null,
      "outputs": [
        {
          "output_type": "execute_result",
          "data": {
            "text/plain": [
              "6"
            ]
          },
          "metadata": {
            "tags": []
          },
          "execution_count": 119
        }
      ]
    },
    {
      "cell_type": "markdown",
      "metadata": {
        "id": "VBJHWdyalU4G"
      },
      "source": [
        "## 3. Errors\n",
        "\n",
        "\n",
        "\n",
        "- 2개의 벡터와, error의 타입을 입력받아 그 결과값을 계산하는 함수를 작성하세요.\n",
        "\n",
        "- 여기서 error의 타입은 `MSE`, `MAE` 2가지 입니다.\n",
        "\n"
      ]
    },
    {
      "cell_type": "code",
      "metadata": {
        "id": "LQy8_pEUHHDC"
      },
      "source": [
        "from sklearn.metrics import mean_absolute_error\n",
        "from sklearn.metrics import mean_squared_error\n",
        "def error(x, y, type) :\n",
        " if type == 'MSE':\n",
        "   return mean_squared_error(x,y)\n",
        " elif type == 'MAE':\n",
        "   return mean_absolute_error(x, y)\n"
      ],
      "execution_count": null,
      "outputs": []
    },
    {
      "cell_type": "code",
      "metadata": {
        "colab": {
          "base_uri": "https://localhost:8080/"
        },
        "id": "ZVmEGyWWCI53",
        "outputId": "b9c334d5-69ac-4ac2-a0c1-44d0398191f8"
      },
      "source": [
        "np.array([[1,2,3],[4,5,6]]).T"
      ],
      "execution_count": null,
      "outputs": [
        {
          "output_type": "execute_result",
          "data": {
            "text/plain": [
              "array([[1, 4],\n",
              "       [2, 5],\n",
              "       [3, 6]])"
            ]
          },
          "metadata": {
            "tags": []
          },
          "execution_count": 114
        }
      ]
    },
    {
      "cell_type": "markdown",
      "metadata": {
        "id": "l2Teph_aS16e"
      },
      "source": [
        "# 4. Inverse\n",
        "\n",
        "- 주어진 matrix에 대해서 inverse matrix를 계산하여 반환하는 함수를 작성하세요. \n",
        "- 이 때 inverse 계산이 불가능 한 경우 `-1` 을 반환합니다."
      ]
    },
    {
      "cell_type": "code",
      "metadata": {
        "id": "1hseshZkS1eX"
      },
      "source": [
        "def myInverse(m) : # m = np.array()\n",
        "    if np.linalg.det(m) != 0:\n",
        "     inverse = np.linalg.inv(m)\n",
        "    else:\n",
        "     inverse = -1  \n",
        "    return inverse"
      ],
      "execution_count": null,
      "outputs": []
    },
    {
      "cell_type": "markdown",
      "metadata": {
        "id": "V0iTO4McYjtk"
      },
      "source": [
        "# 🔥 도전과제 \n",
        "\n"
      ]
    },
    {
      "cell_type": "markdown",
      "metadata": {
        "id": "3p45qAIGFTBZ"
      },
      "source": [
        "다음 링크의 내용을 참조하여 **Cramer's rule**을 사용해 $x_1$, $x_2$, $x_3$의 값을 구하세요.\n",
        "\n",
        "<https://youtu.be/6StS7VjtuGI>\n",
        "\n",
        "\n",
        "$x_1$ + $2x_3$ = 6\n",
        "\n",
        "$-3x_1$ + $4x_2$ + $6x3$ = 30\n",
        "\n",
        "$-x_1$ $-2x_2$ + $3x_3$ = 8\n",
        "\n"
      ]
    },
    {
      "cell_type": "code",
      "metadata": {
        "colab": {
          "base_uri": "https://localhost:8080/"
        },
        "id": "3gNtoT4X0czK",
        "outputId": "02efac3f-86d2-413a-a0ba-99f7a38aa6cf"
      },
      "source": [
        "import numpy as np\n",
        "\n",
        "A = np.array([[1,0,2],[-3,4,6],[-1,-2,3]]) \n",
        "X = np.array([6,30,8])\n",
        "\n",
        "dx1 = [[6, 0, 2], [30, 4, 6],[8, -2, 3]] \n",
        "dx2 = [[1, 6, 2], [-3, 30, 6], [-1, 8, 3]]\n",
        "dx3 = [[1,0, 6], [-3, 4, 30], [-1, -2, 8]]\n",
        "\n",
        "det = np.linalg.det(A)\n",
        "x1 = np.linalg.det(dx1)/det\n",
        "x2 = np.linalg.det(dx2)/det\n",
        "x3 = np.linalg.det(dx3)/det\n",
        "\n",
        "x1,x2,x3"
      ],
      "execution_count": 4,
      "outputs": [
        {
          "output_type": "execute_result",
          "data": {
            "text/plain": [
              "(-0.9090909090909088, 1.6363636363636358, 3.4545454545454533)"
            ]
          },
          "metadata": {
            "tags": []
          },
          "execution_count": 4
        }
      ]
    }
  ]
}