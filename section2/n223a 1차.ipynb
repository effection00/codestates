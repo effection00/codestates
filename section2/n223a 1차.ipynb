{
  "nbformat": 4,
  "nbformat_minor": 0,
  "metadata": {
    "kernelspec": {
      "display_name": "Python 3",
      "language": "python",
      "name": "python3"
    },
    "language_info": {
      "codemirror_mode": {
        "name": "ipython",
        "version": 3
      },
      "file_extension": ".py",
      "mimetype": "text/x-python",
      "name": "python",
      "nbconvert_exporter": "python",
      "pygments_lexer": "ipython3",
      "version": "3.7.7"
    },
    "colab": {
      "name": "n223a-evaluation-metrics-for-classification.ipynb의 사본의 사본",
      "provenance": [],
      "collapsed_sections": [],
      "include_colab_link": true
    }
  },
  "cells": [
    {
      "cell_type": "markdown",
      "metadata": {
        "id": "view-in-github",
        "colab_type": "text"
      },
      "source": [
        "<a href=\"https://colab.research.google.com/github/effection00/codestates/blob/main/section2/n223a%201%EC%B0%A8.ipynb\" target=\"_parent\"><img src=\"https://colab.research.google.com/assets/colab-badge.svg\" alt=\"Open In Colab\"/></a>"
      ]
    },
    {
      "cell_type": "markdown",
      "metadata": {
        "id": "8iRUgCZuuwWU"
      },
      "source": [
        "<img align=\"right\" src=\"https://ds-cs-images.s3.ap-northeast-2.amazonaws.com/Codestates_Fulllogo_Color.png\" width=100>\n",
        "\n",
        "## *DATA SCIENCE / SECTION 2 / SPRINT 2 / NOTE 3*\n",
        "\n",
        "# 📝 Assignment\n",
        "---"
      ]
    },
    {
      "cell_type": "markdown",
      "metadata": {
        "id": "nCc3XZEyG3XV"
      },
      "source": [
        "# Evaluation Metrics for Classification\n",
        "\n",
        "### 1) Kaggle 챌린지를 이어서 진행합니다.\n",
        "- **다음 조건에서 F beta score를 구하고 과제 제출폼에 제출하세요.**\n",
        "    - TP = 4442, TN = 6165, FP = 1515, FN = 1930, 재현율에 정밀도의 2배 가중치를 부여합니다."
      ]
    },
    {
      "cell_type": "code",
      "metadata": {
        "id": "OxZQln0HuwWY",
        "colab": {
          "base_uri": "https://localhost:8080/"
        },
        "outputId": "a3cf220f-7f94-44eb-ad24-7ef93e1fffd4"
      },
      "source": [
        "### 이곳에서 과제를 진행해 주세요 ### \n",
        "# 혼동행렬\n",
        "\n",
        "# 실제 참 중 참으로 예측\n",
        "# 재현율 =  TP / FN + TP\n",
        "recall = 4442 / 1930 + 4442\n",
        "\n",
        "\n",
        "# 참으로 예측한 것 중 실제 참\n",
        "# 정밀도 = TP  / TP + FP \n",
        "precision = 4442 / 1515 + 4442\n",
        "\n",
        "(1+2**2) * precision * recall / ((2**2 * precision) + recall)\n",
        "\n",
        "#  f1 스코어가 낮다면 데이터가 타겟 값이 편향되어있지는 않은지"
      ],
      "execution_count": null,
      "outputs": [
        {
          "output_type": "execute_result",
          "data": {
            "text/plain": [
              "4444.427631855526"
            ]
          },
          "metadata": {
            "tags": []
          },
          "execution_count": 2
        }
      ]
    },
    {
      "cell_type": "markdown",
      "metadata": {
        "id": "TIJ-xLVYuwWZ"
      },
      "source": [
        "### 2) 모델을 학습한 후 Confusion matrix를 그리고 해석하세요\n",
        "- 임계값을 조정한 후 confusion matrix를 그려보세요\n",
        "- **(객관식) 임계값을 증가시킬때 positive 범주에 대한 재현율의 변화 양상을 과제 제출폼에 제출하세요.**\n",
        "    1. 증가\n",
        "    2. 감소\n",
        "    3. 변화가 없다\n"
      ]
    },
    {
      "cell_type": "code",
      "metadata": {
        "id": "Y9ocM1uY3F1J",
        "colab": {
          "base_uri": "https://localhost:8080/"
        },
        "outputId": "969f0396-9cbd-4e17-e19c-0034cdb70521"
      },
      "source": [
        "!pip install category_encoders"
      ],
      "execution_count": null,
      "outputs": [
        {
          "output_type": "stream",
          "text": [
            "Collecting category_encoders\n",
            "\u001b[?25l  Downloading https://files.pythonhosted.org/packages/44/57/fcef41c248701ee62e8325026b90c432adea35555cbc870aff9cfba23727/category_encoders-2.2.2-py2.py3-none-any.whl (80kB)\n",
            "\r\u001b[K     |████                            | 10kB 12.3MB/s eta 0:00:01\r\u001b[K     |████████▏                       | 20kB 15.5MB/s eta 0:00:01\r\u001b[K     |████████████▏                   | 30kB 10.7MB/s eta 0:00:01\r\u001b[K     |████████████████▎               | 40kB 9.0MB/s eta 0:00:01\r\u001b[K     |████████████████████▎           | 51kB 5.2MB/s eta 0:00:01\r\u001b[K     |████████████████████████▍       | 61kB 5.8MB/s eta 0:00:01\r\u001b[K     |████████████████████████████▍   | 71kB 5.9MB/s eta 0:00:01\r\u001b[K     |████████████████████████████████| 81kB 4.0MB/s \n",
            "\u001b[?25hRequirement already satisfied: scikit-learn>=0.20.0 in /usr/local/lib/python3.7/dist-packages (from category_encoders) (0.22.2.post1)\n",
            "Requirement already satisfied: pandas>=0.21.1 in /usr/local/lib/python3.7/dist-packages (from category_encoders) (1.1.5)\n",
            "Requirement already satisfied: statsmodels>=0.9.0 in /usr/local/lib/python3.7/dist-packages (from category_encoders) (0.10.2)\n",
            "Requirement already satisfied: patsy>=0.5.1 in /usr/local/lib/python3.7/dist-packages (from category_encoders) (0.5.1)\n",
            "Requirement already satisfied: scipy>=1.0.0 in /usr/local/lib/python3.7/dist-packages (from category_encoders) (1.4.1)\n",
            "Requirement already satisfied: numpy>=1.14.0 in /usr/local/lib/python3.7/dist-packages (from category_encoders) (1.19.5)\n",
            "Requirement already satisfied: joblib>=0.11 in /usr/local/lib/python3.7/dist-packages (from scikit-learn>=0.20.0->category_encoders) (1.0.1)\n",
            "Requirement already satisfied: python-dateutil>=2.7.3 in /usr/local/lib/python3.7/dist-packages (from pandas>=0.21.1->category_encoders) (2.8.1)\n",
            "Requirement already satisfied: pytz>=2017.2 in /usr/local/lib/python3.7/dist-packages (from pandas>=0.21.1->category_encoders) (2018.9)\n",
            "Requirement already satisfied: six in /usr/local/lib/python3.7/dist-packages (from patsy>=0.5.1->category_encoders) (1.15.0)\n",
            "Installing collected packages: category-encoders\n",
            "Successfully installed category-encoders-2.2.2\n"
          ],
          "name": "stdout"
        }
      ]
    },
    {
      "cell_type": "code",
      "metadata": {
        "id": "ZKLAfsfg4YB8",
        "colab": {
          "base_uri": "https://localhost:8080/"
        },
        "outputId": "4c4642c4-df10-4cab-ef51-6c7645a75148"
      },
      "source": [
        "from google.colab import drive\n",
        "drive.mount('/content/drive')"
      ],
      "execution_count": null,
      "outputs": [
        {
          "output_type": "stream",
          "text": [
            "Mounted at /content/drive\n"
          ],
          "name": "stdout"
        }
      ]
    },
    {
      "cell_type": "code",
      "metadata": {
        "id": "7Rr5q_Cc4AE_",
        "colab": {
          "base_uri": "https://localhost:8080/"
        },
        "outputId": "0398dd0b-108a-48cb-dcfb-57961902dcd9"
      },
      "source": [
        "### 이곳에서 과제를 진행해 주세요 ###\n",
        "\n",
        "import pandas as pd\n",
        "# target = 'vacc_seas_f'\n",
        "target = 'vacc_h1n1_f'\n",
        "\n",
        "\n",
        "train_X  = pd.read_csv('/content/drive/MyDrive/train.csv')\n",
        "train_y  = pd.read_csv('/content/drive/MyDrive/train_labels.csv')[target]\n",
        "test_X = pd.read_csv('/content/drive/MyDrive/test.csv')\n",
        "\n",
        "train_X.select_dtypes(include= 'object')\n",
        "\n",
        "# ordinal 인코딩\n",
        "from category_encoders import OrdinalEncoder \n",
        "# 대괄호 한개 \n",
        "encoder = OrdinalEncoder(cols=['opinion_h1n1_vacc_effective','opinion_h1n1_risk','opinion_h1n1_sick_from_vacc','opinion_seas_vacc_effective','opinion_seas_risk','opinion_seas_sick_from_vacc','agegrp'])\n",
        "train_X = encoder.fit_transform(train_X)\n",
        "test_X = encoder.transform(test_X)\n",
        "\n",
        "\n",
        "from category_encoders import OneHotEncoder\n",
        "encoder = OneHotEncoder(cols=['employment_status',\t'census_msa',\t'employment_industry','employment_occupation','state'])\n",
        "train_X = encoder.fit_transform(train_X)\n",
        "test_X = encoder.transform(test_X)\n",
        "\n",
        "\n",
        "from sklearn.impute import SimpleImputer\n",
        "\n",
        "impute = SimpleImputer()\n",
        "train_X = pd.DataFrame(impute.fit_transform(train_X),columns= train_X.columns)\n",
        "test_X = pd.DataFrame(impute.transform(test_X),columns= test_X.columns)\n",
        "\n",
        "from sklearn.preprocessing import StandardScaler\n",
        "\n",
        "scale = StandardScaler()\n",
        "train_X = scale.fit_transform(train_X)\n",
        "test_X = scale.transform(test_X)\n",
        "\n",
        "from sklearn.model_selection import train_test_split\n",
        "from sklearn.ensemble import RandomForestClassifier\n",
        "from sklearn.metrics import accuracy_score\n",
        "\n",
        "train_X, val_X, train_y, val_y = train_test_split(train_X, train_y, train_size=0.8, random_state = 24)\n",
        "rf = RandomForestClassifier()\n",
        "rf.fit(train_X,train_y)\n",
        "y_pred_proba = rf.predict_proba(val_X)[:,1]\n",
        "y_pred = rf.predict(val_X)"
      ],
      "execution_count": null,
      "outputs": [
        {
          "output_type": "stream",
          "text": [
            "/usr/local/lib/python3.7/dist-packages/category_encoders/utils.py:21: FutureWarning: is_categorical is deprecated and will be removed in a future version.  Use is_categorical_dtype instead\n",
            "  elif pd.api.types.is_categorical(cols):\n"
          ],
          "name": "stderr"
        }
      ]
    },
    {
      "cell_type": "code",
      "metadata": {
        "id": "knLBTLu4uwWZ",
        "colab": {
          "base_uri": "https://localhost:8080/",
          "height": 297
        },
        "outputId": "25ed9996-ae77-44f0-9985-ea3c9f7824cb"
      },
      "source": [
        "### 이곳에서 과제를 진행해 주세요 ### \n",
        "from sklearn.metrics import plot_confusion_matrix\n",
        "import matplotlib.pyplot as plt\n",
        "\n",
        "fig, ax = plt.subplots()\n",
        "pcm = plot_confusion_matrix(rf, val_X, val_y, cmap =plt.cm.Blues, ax=ax);\n",
        "plt.title(f'confusion matrix, n = {len(val_y)}',fontsize=15)\n",
        "plt.show()"
      ],
      "execution_count": null,
      "outputs": [
        {
          "output_type": "display_data",
          "data": {
            "image/png": "[encoded data removed]",
            "text/plain": [
              "<Figure size 432x288 with 2 Axes>"
            ]
          },
          "metadata": {
            "tags": [],
            "needs_background": "light"
          }
        }
      ]
    },
    {
      "cell_type": "code",
      "metadata": {
        "colab": {
          "base_uri": "https://localhost:8080/"
        },
        "id": "Oezs5GbQi2Pg",
        "outputId": "123eecb0-04fa-4363-f1a2-9583475e8192"
      },
      "source": [
        "#confusion matrix\n",
        "from sklearn.metrics import confusion_matrix\n",
        "print(confusion_matrix(val_y , y_pred))\n",
        "\n",
        "print()\n",
        "print()\n",
        "\n",
        "from sklearn.metrics import classification_report\n",
        "print(classification_report(val_y, y_pred))\n",
        "\n",
        "# 임계값 0.5일 때,  positive 재현율  0.46"
      ],
      "execution_count": null,
      "outputs": [
        {
          "output_type": "stream",
          "text": [
            "[[6096  301]\n",
            " [1099  935]]\n",
            "\n",
            "\n",
            "              precision    recall  f1-score   support\n",
            "\n",
            "           0       0.85      0.95      0.90      6397\n",
            "           1       0.76      0.46      0.57      2034\n",
            "\n",
            "    accuracy                           0.83      8431\n",
            "   macro avg       0.80      0.71      0.73      8431\n",
            "weighted avg       0.83      0.83      0.82      8431\n",
            "\n"
          ],
          "name": "stdout"
        }
      ]
    },
    {
      "cell_type": "code",
      "metadata": {
        "colab": {
          "base_uri": "https://localhost:8080/",
          "height": 319
        },
        "id": "Z_-l8KBBZuJP",
        "outputId": "8e66675b-60e8-47e3-b014-e9a5f3aebde5"
      },
      "source": [
        "#임계값 0.7\n",
        "th= 0.7\n",
        "y_pred = y_pred_proba > th\n",
        "\n",
        "ax =  sns.histplot(y_pred_proba)\n",
        "ax.axvline(th, color = 'red')\n",
        "\n",
        "pd.Series(y_pred).value_counts()"
      ],
      "execution_count": null,
      "outputs": [
        {
          "output_type": "execute_result",
          "data": {
            "text/plain": [
              "False    7946\n",
              "True      485\n",
              "dtype: int64"
            ]
          },
          "metadata": {
            "tags": []
          },
          "execution_count": 53
        },
        {
          "output_type": "display_data",
          "data": {
            "image/png": "[encoded data removed]",
            "text/plain": [
              "<Figure size 432x288 with 1 Axes>"
            ]
          },
          "metadata": {
            "tags": [],
            "needs_background": "light"
          }
        }
      ]
    },
    {
      "cell_type": "code",
      "metadata": {
        "colab": {
          "base_uri": "https://localhost:8080/"
        },
        "id": "qATaBBEamfyX",
        "outputId": "78d18202-fb0a-45ec-df2f-aa1e0dd35ee6"
      },
      "source": [
        "#confusion matrix\n",
        "from sklearn.metrics import confusion_matrix\n",
        "print(confusion_matrix(val_y , y_pred))\n",
        "\n",
        "print()\n",
        "print()\n",
        "\n",
        "from sklearn.metrics import classification_report\n",
        "print(classification_report(val_y, y_pred))\n",
        "\n",
        "# 임계값 0.7일 때,  positive 재현율  0.20"
      ],
      "execution_count": null,
      "outputs": [
        {
          "output_type": "stream",
          "text": [
            "[[6324   73]\n",
            " [1622  412]]\n",
            "\n",
            "\n",
            "              precision    recall  f1-score   support\n",
            "\n",
            "           0       0.80      0.99      0.88      6397\n",
            "           1       0.85      0.20      0.33      2034\n",
            "\n",
            "    accuracy                           0.80      8431\n",
            "   macro avg       0.82      0.60      0.60      8431\n",
            "weighted avg       0.81      0.80      0.75      8431\n",
            "\n"
          ],
          "name": "stdout"
        }
      ]
    },
    {
      "cell_type": "code",
      "metadata": {
        "colab": {
          "base_uri": "https://localhost:8080/",
          "height": 319
        },
        "id": "xYLBYn20pQAA",
        "outputId": "8e66675b-60e8-47e3-b014-e9a5f3aebde5"
      },
      "source": [
        "#임계값 0.7\n",
        "th= 0.7\n",
        "y_pred = y_pred_proba > th\n",
        "\n",
        "ax =  sns.histplot(y_pred_proba)\n",
        "ax.axvline(th, color = 'red')\n",
        "\n",
        "pd.Series(y_pred).value_counts()"
      ],
      "execution_count": null,
      "outputs": [
        {
          "output_type": "execute_result",
          "data": {
            "text/plain": [
              "False    7946\n",
              "True      485\n",
              "dtype: int64"
            ]
          },
          "metadata": {
            "tags": []
          },
          "execution_count": 53
        },
        {
          "output_type": "display_data",
          "data": {
            "image/png": "[encoded data removed]",
            "text/plain": [
              "<Figure size 432x288 with 1 Axes>"
            ]
          },
          "metadata": {
            "tags": [],
            "needs_background": "light"
          }
        }
      ]
    },
    {
      "cell_type": "code",
      "metadata": {
        "colab": {
          "base_uri": "https://localhost:8080/"
        },
        "id": "Gi8gljmOpQAG",
        "outputId": "78d18202-fb0a-45ec-df2f-aa1e0dd35ee6"
      },
      "source": [
        "#confusion matrix\n",
        "from sklearn.metrics import confusion_matrix\n",
        "print(confusion_matrix(val_y , y_pred))\n",
        "\n",
        "print()\n",
        "print()\n",
        "\n",
        "from sklearn.metrics import classification_report\n",
        "print(classification_report(val_y, y_pred))\n",
        "\n",
        "# 임계값 0.7일 때,  positive 재현율  0.20"
      ],
      "execution_count": null,
      "outputs": [
        {
          "output_type": "stream",
          "text": [
            "[[6324   73]\n",
            " [1622  412]]\n",
            "\n",
            "\n",
            "              precision    recall  f1-score   support\n",
            "\n",
            "           0       0.80      0.99      0.88      6397\n",
            "           1       0.85      0.20      0.33      2034\n",
            "\n",
            "    accuracy                           0.80      8431\n",
            "   macro avg       0.82      0.60      0.60      8431\n",
            "weighted avg       0.81      0.80      0.75      8431\n",
            "\n"
          ],
          "name": "stdout"
        }
      ]
    },
    {
      "cell_type": "code",
      "metadata": {
        "colab": {
          "base_uri": "https://localhost:8080/",
          "height": 319
        },
        "id": "Fgj9vGIYpQut",
        "outputId": "8e66675b-60e8-47e3-b014-e9a5f3aebde5"
      },
      "source": [
        "#임계값 0.7\n",
        "th= 0.7\n",
        "y_pred = y_pred_proba > th\n",
        "\n",
        "ax =  sns.histplot(y_pred_proba)\n",
        "ax.axvline(th, color = 'red')\n",
        "\n",
        "pd.Series(y_pred).value_counts()"
      ],
      "execution_count": null,
      "outputs": [
        {
          "output_type": "execute_result",
          "data": {
            "text/plain": [
              "False    7946\n",
              "True      485\n",
              "dtype: int64"
            ]
          },
          "metadata": {
            "tags": []
          },
          "execution_count": 53
        },
        {
          "output_type": "display_data",
          "data": {
            "image/png": "[encoded data removed]",
            "text/plain": [
              "<Figure size 432x288 with 1 Axes>"
            ]
          },
          "metadata": {
            "tags": [],
            "needs_background": "light"
          }
        }
      ]
    },
    {
      "cell_type": "code",
      "metadata": {
        "colab": {
          "base_uri": "https://localhost:8080/"
        },
        "id": "Mb0NrmU6pQuu",
        "outputId": "78d18202-fb0a-45ec-df2f-aa1e0dd35ee6"
      },
      "source": [
        "#confusion matrix\n",
        "from sklearn.metrics import confusion_matrix\n",
        "print(confusion_matrix(val_y , y_pred))\n",
        "\n",
        "print()\n",
        "print()\n",
        "\n",
        "from sklearn.metrics import classification_report\n",
        "print(classification_report(val_y, y_pred))\n",
        "\n",
        "# 임계값 0.7일 때,  positive 재현율  0.20"
      ],
      "execution_count": null,
      "outputs": [
        {
          "output_type": "stream",
          "text": [
            "[[6324   73]\n",
            " [1622  412]]\n",
            "\n",
            "\n",
            "              precision    recall  f1-score   support\n",
            "\n",
            "           0       0.80      0.99      0.88      6397\n",
            "           1       0.85      0.20      0.33      2034\n",
            "\n",
            "    accuracy                           0.80      8431\n",
            "   macro avg       0.82      0.60      0.60      8431\n",
            "weighted avg       0.81      0.80      0.75      8431\n",
            "\n"
          ],
          "name": "stdout"
        }
      ]
    },
    {
      "cell_type": "code",
      "metadata": {
        "colab": {
          "base_uri": "https://localhost:8080/",
          "height": 319
        },
        "id": "535hHODhpRMy",
        "outputId": "8e66675b-60e8-47e3-b014-e9a5f3aebde5"
      },
      "source": [
        "#임계값 0.7\n",
        "th= 0.7\n",
        "y_pred = y_pred_proba > th\n",
        "\n",
        "ax =  sns.histplot(y_pred_proba)\n",
        "ax.axvline(th, color = 'red')\n",
        "\n",
        "pd.Series(y_pred).value_counts()"
      ],
      "execution_count": null,
      "outputs": [
        {
          "output_type": "execute_result",
          "data": {
            "text/plain": [
              "False    7946\n",
              "True      485\n",
              "dtype: int64"
            ]
          },
          "metadata": {
            "tags": []
          },
          "execution_count": 53
        },
        {
          "output_type": "display_data",
          "data": {
            "image/png": "[encoded data removed]",
            "text/plain": [
              "<Figure size 432x288 with 1 Axes>"
            ]
          },
          "metadata": {
            "tags": [],
            "needs_background": "light"
          }
        }
      ]
    },
    {
      "cell_type": "code",
      "metadata": {
        "colab": {
          "base_uri": "https://localhost:8080/"
        },
        "id": "QumGM234pRMz",
        "outputId": "78d18202-fb0a-45ec-df2f-aa1e0dd35ee6"
      },
      "source": [
        "#confusion matrix\n",
        "from sklearn.metrics import confusion_matrix\n",
        "print(confusion_matrix(val_y , y_pred))\n",
        "\n",
        "print()\n",
        "print()\n",
        "\n",
        "from sklearn.metrics import classification_report\n",
        "print(classification_report(val_y, y_pred))\n",
        "\n",
        "# 임계값 0.7일 때,  positive 재현율  0.20"
      ],
      "execution_count": null,
      "outputs": [
        {
          "output_type": "stream",
          "text": [
            "[[6324   73]\n",
            " [1622  412]]\n",
            "\n",
            "\n",
            "              precision    recall  f1-score   support\n",
            "\n",
            "           0       0.80      0.99      0.88      6397\n",
            "           1       0.85      0.20      0.33      2034\n",
            "\n",
            "    accuracy                           0.80      8431\n",
            "   macro avg       0.82      0.60      0.60      8431\n",
            "weighted avg       0.81      0.80      0.75      8431\n",
            "\n"
          ],
          "name": "stdout"
        }
      ]
    },
    {
      "cell_type": "code",
      "metadata": {
        "colab": {
          "base_uri": "https://localhost:8080/",
          "height": 319
        },
        "id": "w88KDjXWpRuY",
        "outputId": "8e66675b-60e8-47e3-b014-e9a5f3aebde5"
      },
      "source": [
        "#임계값 0.7\n",
        "th= 0.7\n",
        "y_pred = y_pred_proba > th\n",
        "\n",
        "ax =  sns.histplot(y_pred_proba)\n",
        "ax.axvline(th, color = 'red')\n",
        "\n",
        "pd.Series(y_pred).value_counts()"
      ],
      "execution_count": null,
      "outputs": [
        {
          "output_type": "execute_result",
          "data": {
            "text/plain": [
              "False    7946\n",
              "True      485\n",
              "dtype: int64"
            ]
          },
          "metadata": {
            "tags": []
          },
          "execution_count": 53
        },
        {
          "output_type": "display_data",
          "data": {
            "image/png": "[encoded data removed]",
            "text/plain": [
              "<Figure size 432x288 with 1 Axes>"
            ]
          },
          "metadata": {
            "tags": [],
            "needs_background": "light"
          }
        }
      ]
    },
    {
      "cell_type": "code",
      "metadata": {
        "colab": {
          "base_uri": "https://localhost:8080/"
        },
        "id": "hHg9pI5rpRub",
        "outputId": "78d18202-fb0a-45ec-df2f-aa1e0dd35ee6"
      },
      "source": [
        "#confusion matrix\n",
        "from sklearn.metrics import confusion_matrix\n",
        "print(confusion_matrix(val_y , y_pred))\n",
        "\n",
        "print()\n",
        "print()\n",
        "\n",
        "from sklearn.metrics import classification_report\n",
        "print(classification_report(val_y, y_pred))\n",
        "\n",
        "# 임계값 0.7일 때,  positive 재현율  0.20"
      ],
      "execution_count": null,
      "outputs": [
        {
          "output_type": "stream",
          "text": [
            "[[6324   73]\n",
            " [1622  412]]\n",
            "\n",
            "\n",
            "              precision    recall  f1-score   support\n",
            "\n",
            "           0       0.80      0.99      0.88      6397\n",
            "           1       0.85      0.20      0.33      2034\n",
            "\n",
            "    accuracy                           0.80      8431\n",
            "   macro avg       0.82      0.60      0.60      8431\n",
            "weighted avg       0.81      0.80      0.75      8431\n",
            "\n"
          ],
          "name": "stdout"
        }
      ]
    },
    {
      "cell_type": "code",
      "metadata": {
        "colab": {
          "base_uri": "https://localhost:8080/",
          "height": 319
        },
        "id": "K2Ck0eB9lsEe",
        "outputId": "c27d9735-cb3e-41c8-93f7-5877afbd5f49"
      },
      "source": [
        "#임계값 0.9\n",
        "th= 0.9\n",
        "y_pred = y_pred_proba > th\n",
        "\n",
        "ax =  sns.histplot(y_pred_proba)\n",
        "ax.axvline(th, color = 'red')\n",
        "\n",
        "pd.Series(y_pred).value_counts() "
      ],
      "execution_count": null,
      "outputs": [
        {
          "output_type": "execute_result",
          "data": {
            "text/plain": [
              "False    8400\n",
              "True       31\n",
              "dtype: int64"
            ]
          },
          "metadata": {
            "tags": []
          },
          "execution_count": 55
        },
        {
          "output_type": "display_data",
          "data": {
            "image/png": "[encoded data removed]",
            "text/plain": [
              "<Figure size 432x288 with 1 Axes>"
            ]
          },
          "metadata": {
            "tags": [],
            "needs_background": "light"
          }
        }
      ]
    },
    {
      "cell_type": "code",
      "metadata": {
        "colab": {
          "base_uri": "https://localhost:8080/"
        },
        "id": "Rcho1QrJoUBd",
        "outputId": "2a701a7e-fb7a-4126-9eac-c01097324db9"
      },
      "source": [
        "from sklearn.metrics import confusion_matrix\n",
        "print(confusion_matrix(val_y , y_pred))\n",
        "\n",
        "from sklearn.metrics import classification_report\n",
        "print(classification_report(val_y, y_pred))\n",
        "# 임계값 0.9의 positive 재현율 0.01"
      ],
      "execution_count": null,
      "outputs": [
        {
          "output_type": "stream",
          "text": [
            "[[6392    5]\n",
            " [2008   26]]\n",
            "              precision    recall  f1-score   support\n",
            "\n",
            "           0       0.76      1.00      0.86      6397\n",
            "           1       0.84      0.01      0.03      2034\n",
            "\n",
            "    accuracy                           0.76      8431\n",
            "   macro avg       0.80      0.51      0.44      8431\n",
            "weighted avg       0.78      0.76      0.66      8431\n",
            "\n"
          ],
          "name": "stdout"
        }
      ]
    },
    {
      "cell_type": "code",
      "metadata": {
        "id": "IXkx5wb8oT9N"
      },
      "source": [
        "# 임계값을 높일수록 positive의 기준이 엄격해지므로 재현율은 떨어지는 것을 알 수 있다\n",
        "# 답 -- 1. 증가"
      ],
      "execution_count": null,
      "outputs": []
    },
    {
      "cell_type": "markdown",
      "metadata": {
        "id": "2VY9SxU-uwWa"
      },
      "source": [
        "### 3) 랜덤포레스트의 n_estimator를 1, 10, 100, 1000으로 바꾸어 가며 positive 범주의 predict_proba를 비교해 보세요\n",
        "- 파라미터는 다음과 같이 설정합니다.\n",
        "    - n_jobs=-1, random_state=10, max_depth=None, n_estimators = n\n",
        "- **(객관식) 확률값들의 분포(종류)의 변화를 과제 제출폼에 제출하세요**\n",
        "    1. 다양해진다\n",
        "    2. 변화가없다\n"
      ]
    },
    {
      "cell_type": "code",
      "metadata": {
        "id": "vE49OAOauwWa",
        "colab": {
          "base_uri": "https://localhost:8080/",
          "height": 283
        },
        "outputId": "e76ec339-6338-4ac1-8c32-eec7b2f81f01"
      },
      "source": [
        "### 이곳에서 과제를 진행해 주세요 ###\n",
        "\n",
        "# 답 --1. 다양해진다\n",
        "\n",
        "\n",
        "#나무의 개수 n_estimator 조정 \n",
        "# n_estimator =1 \n",
        "\n",
        "rf = RandomForestClassifier(n_jobs=-1, random_state=10, max_depth=None, n_estimators = 1)\n",
        "rf.fit(train_X,train_y)\n",
        "y_pred_proba = rf.predict_proba(val_X)[:,1]\n",
        "sns.histplot(y_pred_proba)"
      ],
      "execution_count": null,
      "outputs": [
        {
          "output_type": "execute_result",
          "data": {
            "text/plain": [
              "<matplotlib.axes._subplots.AxesSubplot at 0x7f9cb31fa850>"
            ]
          },
          "metadata": {
            "tags": []
          },
          "execution_count": 64
        },
        {
          "output_type": "display_data",
          "data": {
            "image/png": "[encoded data removed]",
            "text/plain": [
              "<Figure size 432x288 with 1 Axes>"
            ]
          },
          "metadata": {
            "tags": [],
            "needs_background": "light"
          }
        }
      ]
    },
    {
      "cell_type": "code",
      "metadata": {
        "colab": {
          "base_uri": "https://localhost:8080/",
          "height": 283
        },
        "id": "ssJYk1mTtIUH",
        "outputId": "d8630f0a-ecb3-488e-f90f-57231bc2ae46"
      },
      "source": [
        "# n_estimator =10\n",
        "\n",
        "rf = RandomForestClassifier(n_jobs=-1, random_state=10, max_depth=None, n_estimators = 10)\n",
        "rf.fit(train_X,train_y)\n",
        "y_pred_proba = rf.predict_proba(val_X)[:,1]\n",
        "sns.histplot(y_pred_proba)"
      ],
      "execution_count": null,
      "outputs": [
        {
          "output_type": "execute_result",
          "data": {
            "text/plain": [
              "<matplotlib.axes._subplots.AxesSubplot at 0x7f9cb31e2790>"
            ]
          },
          "metadata": {
            "tags": []
          },
          "execution_count": 65
        },
        {
          "output_type": "display_data",
          "data": {
            "image/png": "[encoded data removed]",
            "text/plain": [
              "<Figure size 432x288 with 1 Axes>"
            ]
          },
          "metadata": {
            "tags": [],
            "needs_background": "light"
          }
        }
      ]
    },
    {
      "cell_type": "code",
      "metadata": {
        "colab": {
          "base_uri": "https://localhost:8080/",
          "height": 283
        },
        "id": "UhOtHQSOtKTN",
        "outputId": "c8148626-2fa1-4bbc-9fae-e02496753001"
      },
      "source": [
        "# n_estimator =100 \n",
        "\n",
        "rf = RandomForestClassifier(n_jobs=-1, random_state=10, max_depth=None, n_estimators = 100)\n",
        "rf.fit(train_X,train_y)\n",
        "y_pred_proba = rf.predict_proba(val_X)[:,1]\n",
        "sns.histplot(y_pred_proba)"
      ],
      "execution_count": null,
      "outputs": [
        {
          "output_type": "execute_result",
          "data": {
            "text/plain": [
              "<matplotlib.axes._subplots.AxesSubplot at 0x7f9cb3885f10>"
            ]
          },
          "metadata": {
            "tags": []
          },
          "execution_count": 66
        },
        {
          "output_type": "display_data",
          "data": {
            "image/png": "[encoded data removed]",
            "text/plain": [
              "<Figure size 432x288 with 1 Axes>"
            ]
          },
          "metadata": {
            "tags": [],
            "needs_background": "light"
          }
        }
      ]
    },
    {
      "cell_type": "code",
      "metadata": {
        "colab": {
          "base_uri": "https://localhost:8080/",
          "height": 283
        },
        "id": "I_J8h79EtPDb",
        "outputId": "180ffafc-7bea-48b1-8de0-029deaeccdce"
      },
      "source": [
        "# n_estimator =1000\n",
        "\n",
        "rf = RandomForestClassifier(n_jobs=-1, random_state=10, max_depth=None, n_estimators = 1000)\n",
        "rf.fit(train_X,train_y)\n",
        "y_pred_proba = rf.predict_proba(val_X)[:,1]\n",
        "sns.histplot(y_pred_proba)"
      ],
      "execution_count": null,
      "outputs": [
        {
          "output_type": "execute_result",
          "data": {
            "text/plain": [
              "<matplotlib.axes._subplots.AxesSubplot at 0x7f9cb2fe6b10>"
            ]
          },
          "metadata": {
            "tags": []
          },
          "execution_count": 68
        },
        {
          "output_type": "display_data",
          "data": {
            "image/png": "[encoded data removed]",
            "text/plain": [
              "<Figure size 432x288 with 1 Axes>"
            ]
          },
          "metadata": {
            "tags": [],
            "needs_background": "light"
          }
        }
      ]
    },
    {
      "cell_type": "markdown",
      "metadata": {
        "id": "QVhUli0OuwWa"
      },
      "source": [
        "### 4) 두개 이상의 다른 분류 모델을 학습시켜 ROC curve, AUC 점수를 비교하고 설명합니다.\n",
        "- 더 좋은 결과가 나오는 모델을 사용해서 캐글에 제출하세요\n",
        "- **캐글 Leaderboard의 본인 Score를 과제 제출폼에 제출하세요.**"
      ]
    },
    {
      "cell_type": "code",
      "metadata": {
        "id": "Co2uBLmtuwWb",
        "colab": {
          "base_uri": "https://localhost:8080/"
        },
        "outputId": "60cc7874-573c-40a1-e310-640824c594ce"
      },
      "source": [
        "### 이곳에서 과제를 진행해 주세요 ### \n",
        "\n",
        "# 로지스틱 회귀\n",
        "from sklearn.linear_model import LogisticRegression\n",
        "from sklearn.metrics import roc_auc_score\n",
        "from sklearn.metrics import f1_score\n",
        "\n",
        "lr = LogisticRegression()\n",
        "lr.fit(train_X,train_y)\n",
        "pred_y = lr.predict(val_X)\n",
        "\n",
        "roc_auc_score(val_y,pred_y)"
      ],
      "execution_count": null,
      "outputs": [
        {
          "output_type": "execute_result",
          "data": {
            "text/plain": [
              "0.7030278527499294"
            ]
          },
          "metadata": {
            "tags": []
          },
          "execution_count": 121
        }
      ]
    },
    {
      "cell_type": "code",
      "metadata": {
        "colab": {
          "base_uri": "https://localhost:8080/"
        },
        "id": "vfjGCH5vuWHI",
        "outputId": "a8b8c226-1592-4e76-f845-50e3ca50b78c"
      },
      "source": [
        "# 랜덤포레스트\n",
        "\n",
        "from sklearn.ensemble import RandomForestClassifier\n",
        "from sklearn.metrics import roc_auc_score\n",
        "\n",
        "rf = RandomForestClassifier(n_jobs=-1, random_state=10, max_depth= 30, n_estimators = 250)\n",
        "rf.fit(train_X,train_y)\n",
        "pred_y = rf.predict(val_X)\n",
        "\n",
        "roc_auc_score(val_y,pred_y)"
      ],
      "execution_count": null,
      "outputs": [
        {
          "output_type": "execute_result",
          "data": {
            "text/plain": [
              "0.7107497537946822"
            ]
          },
          "metadata": {
            "tags": []
          },
          "execution_count": 132
        }
      ]
    },
    {
      "cell_type": "code",
      "metadata": {
        "colab": {
          "base_uri": "https://localhost:8080/"
        },
        "id": "tOAfA5NsxPES",
        "outputId": "e297d588-9316-4cdf-8796-5c46b5cd545a"
      },
      "source": [
        "final = rf.predict(test_X)\n",
        "\n",
        "final = pd.DataFrame(final, columns = ['vacc_h1n1_f'])\n",
        "final.to_csv(\"third.csv\",index_label= 'id')\n",
        "\n",
        "pd.read_csv(\"third.csv\")['vacc_h1n1_f'].value_counts()"
      ],
      "execution_count": null,
      "outputs": [
        {
          "output_type": "execute_result",
          "data": {
            "text/plain": [
              "0    24126\n",
              "1     3978\n",
              "Name: vacc_h1n1_f, dtype: int64"
            ]
          },
          "metadata": {
            "tags": []
          },
          "execution_count": 133
        }
      ]
    },
    {
      "cell_type": "markdown",
      "metadata": {
        "id": "4lr2lT8KuwWb"
      },
      "source": [
        "## 🔥 도전과제"
      ]
    },
    {
      "cell_type": "markdown",
      "metadata": {
        "id": "p3HJm8mcuwWc"
      },
      "source": [
        "### 5) 각 평가지표에 대해 결과를 최대한 분석하고 무엇이 부족한지, 어떤 방향으로 성능을 높여야 하는지 논하세요."
      ]
    },
    {
      "cell_type": "code",
      "metadata": {
        "id": "mnGFBWYkuwWc"
      },
      "source": [
        "### 이곳에서 과제를 진행해 주세요 ### "
      ],
      "execution_count": null,
      "outputs": []
    }
  ]
}