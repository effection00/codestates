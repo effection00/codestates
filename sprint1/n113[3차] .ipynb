{
  "nbformat": 4,
  "nbformat_minor": 0,
  "metadata": {
    "colab": {
      "name": "n113a_data-manipulation.ipynb의 사본",
      "provenance": [],
      "collapsed_sections": [],
      "include_colab_link": true
    },
    "kernelspec": {
      "display_name": "Python 3",
      "language": "python",
      "name": "python3"
    },
    "language_info": {
      "codemirror_mode": {
        "name": "ipython",
        "version": 3
      },
      "file_extension": ".py",
      "mimetype": "text/x-python",
      "name": "python",
      "nbconvert_exporter": "python",
      "pygments_lexer": "ipython3",
      "version": "3.8.5"
    }
  },
  "cells": [
    {
      "cell_type": "markdown",
      "metadata": {
        "id": "view-in-github",
        "colab_type": "text"
      },
      "source": [
        "<a href=\"https://colab.research.google.com/github/effection00/codestates/blob/main/sprint1/n113%5B3%EC%B0%A8%5D%20.ipynb\" target=\"_parent\"><img src=\"https://colab.research.google.com/assets/colab-badge.svg\" alt=\"Open In Colab\"/></a>"
      ]
    },
    {
      "cell_type": "markdown",
      "metadata": {
        "id": "pmU5YUal1eTZ"
      },
      "source": [
        "<img src='https://user-images.githubusercontent.com/6457691/89746244-a6e2a200-daf3-11ea-9314-7863d544d73c.png' width = '200' align = 'right'>\n",
        "\n",
        "## *DATA SCIENCE / SECTION 1 / SPRINT 1 / NOTE 3*\n",
        "\n",
        "# 📝 Assignment\n",
        "\n",
        "---\n",
        "\n",
        "## 1. Concat \n",
        "\n",
        "세션시간에 다뤘던 6개의 데이터를 1개로 합치세요.\n",
        "\n",
        "데이터를 불러오기 위하여 아래의 코드를 참조하세요.\n",
        "\n",
        "합쳐진 데이터의 이름은 `df`입니다.\n",
        "\n",
        "```python\n",
        "import pandas as pd\n",
        "\n",
        "urlhead = 'https://ds-lecture-data.s3.ap-northeast-2.amazonaws.com/stocks/'\n",
        "df1 = pd.read_csv(urlhead + '000080.csv') \n",
        "# '000890.csv'\n",
        "# '005300.csv'\n",
        "# '027740.csv'\n",
        "# '035810.csv'\n",
        "# '136480.csv'\n",
        "```\n",
        "\n",
        "\n",
        "\n",
        "단, 모든 feature, 모든 데이터에 대해서가 아닌\n",
        "\n",
        "- 매출액\n",
        "- 자본총계\n",
        "- EPS\n",
        "\n",
        "- 제일 최근 분기의 데이터\n",
        "\n",
        "에 대해서만 하면 됩니다.\n",
        "\n",
        "||매출액|자본총계|EPS(원)|종목명|\n",
        "|:-:|:-:|:-:|:-:|:-:|\n",
        "|2020/09|6,243|10,897|453|하이트진로|\n",
        "|...|...|...|...|...|\n",
        "|2020/09|2,613|2,695|62|하림|\n",
        "\n",
        "(첫부분은 값이 달라도 되며, 결과 shape는 6,4입니다.)\n",
        "\n",
        "힌트 : \n",
        "- 데이터를 transpose\n",
        "- column의 이름을 변경 및 설정\n",
        "- 데이터의 일부 feature 선택\n",
        "- `종목명`이라는 feature 지정\n",
        "- 이후 `concat`으로 합치기\n",
        "- 합친 이후의 index를 종목명으로 설정 및 drop\n",
        "\n",
        "이라는 단계를 거치면 될겁니다."
      ]
    },
    {
      "cell_type": "code",
      "metadata": {
        "id": "vxUbjav2fjQS",
        "outputId": "fed539e2-0c35-41e4-fb4d-c306d5ca0165",
        "colab": {
          "base_uri": "https://localhost:8080/",
          "height": 235
        }
      },
      "source": [
        "import pandas as pd\n",
        "\n",
        "urlhead = 'https://ds-lecture-data.s3.ap-northeast-2.amazonaws.com/stocks/'\n",
        "# '000080.csv'\n",
        "# '000890.csv'\n",
        "# '005300.csv'\n",
        "# '027740.csv'\n",
        "# '035810.csv'\n",
        "# '136480.csv'\n",
        "\n",
        "def mydf(myurl):\n",
        " df = pd.read_csv(urlhead + myurl,thousands=',')\n",
        "\n",
        "#데이터를 transpose\n",
        " df = df.transpose() \n",
        " new_header = df.iloc[0]\n",
        " df.columns = new_header\n",
        " \n",
        " #일부 feature 선택\n",
        " df = df[[\"매출액\",\"자산총계\",\"EPS(원)\"]] #컬럼명 설정 후 feature 이름으로 찾기\n",
        " return df[-1:] #제일 최근 분기\n",
        "\n",
        "#concat으로 합치기\n",
        "df = pd.concat([  mydf('000080.csv'), mydf('000890.csv'), mydf('005300.csv'), mydf('027740.csv'), mydf('035810.csv'), mydf('136480.csv')])\n",
        "df\n"
      ],
      "execution_count": 24,
      "outputs": [
        {
          "output_type": "execute_result",
          "data": {
            "text/html": [
              "<div>\n",
              "<style scoped>\n",
              "    .dataframe tbody tr th:only-of-type {\n",
              "        vertical-align: middle;\n",
              "    }\n",
              "\n",
              "    .dataframe tbody tr th {\n",
              "        vertical-align: top;\n",
              "    }\n",
              "\n",
              "    .dataframe thead th {\n",
              "        text-align: right;\n",
              "    }\n",
              "</style>\n",
              "<table border=\"1\" class=\"dataframe\">\n",
              "  <thead>\n",
              "    <tr style=\"text-align: right;\">\n",
              "      <th>Unnamed: 0</th>\n",
              "      <th>매출액</th>\n",
              "      <th>자산총계</th>\n",
              "      <th>EPS(원)</th>\n",
              "    </tr>\n",
              "  </thead>\n",
              "  <tbody>\n",
              "    <tr>\n",
              "      <th>2020/09\\n(IFRS연결)</th>\n",
              "      <td>6243</td>\n",
              "      <td>39617</td>\n",
              "      <td>453</td>\n",
              "    </tr>\n",
              "    <tr>\n",
              "      <th>2020/09\\n(IFRS연결)</th>\n",
              "      <td>205</td>\n",
              "      <td>1555</td>\n",
              "      <td>3</td>\n",
              "    </tr>\n",
              "    <tr>\n",
              "      <th>2020/09\\n(IFRS연결)</th>\n",
              "      <td>5980</td>\n",
              "      <td>34066</td>\n",
              "      <td>1682</td>\n",
              "    </tr>\n",
              "    <tr>\n",
              "      <th>2020/09\\n(IFRS연결)</th>\n",
              "      <td>521</td>\n",
              "      <td>1897</td>\n",
              "      <td>-61</td>\n",
              "    </tr>\n",
              "    <tr>\n",
              "      <th>2020/06\\n(IFRS연결)</th>\n",
              "      <td>4108</td>\n",
              "      <td>18966</td>\n",
              "      <td>1168</td>\n",
              "    </tr>\n",
              "    <tr>\n",
              "      <th>2020/09\\n(IFRS연결)</th>\n",
              "      <td>2613</td>\n",
              "      <td>8550</td>\n",
              "      <td>62</td>\n",
              "    </tr>\n",
              "  </tbody>\n",
              "</table>\n",
              "</div>"
            ],
            "text/plain": [
              "Unnamed: 0          매출액   자산총계 EPS(원)\n",
              "2020/09\\n(IFRS연결)  6243  39617    453\n",
              "2020/09\\n(IFRS연결)   205   1555      3\n",
              "2020/09\\n(IFRS연결)  5980  34066   1682\n",
              "2020/09\\n(IFRS연결)   521   1897    -61\n",
              "2020/06\\n(IFRS연결)  4108  18966   1168\n",
              "2020/09\\n(IFRS연결)  2613   8550     62"
            ]
          },
          "metadata": {
            "tags": []
          },
          "execution_count": 24
        }
      ]
    },
    {
      "cell_type": "code",
      "metadata": {
        "id": "J2ekvO1WbFg2",
        "outputId": "48fffa4e-c8ae-44c5-9889-87dc2c8db48b",
        "colab": {
          "base_uri": "https://localhost:8080/"
        }
      },
      "source": [
        "#앞 숫자만 추출\n",
        "IndexList = []\n",
        "for i in df.index:\n",
        "  IndexList.append(i.split(\"\\n\")[0])\n",
        "IndexList"
      ],
      "execution_count": 25,
      "outputs": [
        {
          "output_type": "execute_result",
          "data": {
            "text/plain": [
              "['2020/09', '2020/09', '2020/09', '2020/09', '2020/06', '2020/09']"
            ]
          },
          "metadata": {
            "tags": []
          },
          "execution_count": 25
        }
      ]
    },
    {
      "cell_type": "code",
      "metadata": {
        "id": "q0FwxvT5aDS0",
        "outputId": "fa7740fa-54af-4427-f714-e9545f0d43d6",
        "colab": {
          "base_uri": "https://localhost:8080/",
          "height": 266
        }
      },
      "source": [
        "data = ['화이트진로','보해양조','롯데칠성','마니커','이지홀딩스','하림']\n",
        "df['종목명'] = data\n",
        "df.index = df['종목명']\n",
        "df"
      ],
      "execution_count": 26,
      "outputs": [
        {
          "output_type": "execute_result",
          "data": {
            "text/html": [
              "<div>\n",
              "<style scoped>\n",
              "    .dataframe tbody tr th:only-of-type {\n",
              "        vertical-align: middle;\n",
              "    }\n",
              "\n",
              "    .dataframe tbody tr th {\n",
              "        vertical-align: top;\n",
              "    }\n",
              "\n",
              "    .dataframe thead th {\n",
              "        text-align: right;\n",
              "    }\n",
              "</style>\n",
              "<table border=\"1\" class=\"dataframe\">\n",
              "  <thead>\n",
              "    <tr style=\"text-align: right;\">\n",
              "      <th>Unnamed: 0</th>\n",
              "      <th>매출액</th>\n",
              "      <th>자산총계</th>\n",
              "      <th>EPS(원)</th>\n",
              "      <th>종목명</th>\n",
              "    </tr>\n",
              "    <tr>\n",
              "      <th>종목명</th>\n",
              "      <th></th>\n",
              "      <th></th>\n",
              "      <th></th>\n",
              "      <th></th>\n",
              "    </tr>\n",
              "  </thead>\n",
              "  <tbody>\n",
              "    <tr>\n",
              "      <th>화이트진로</th>\n",
              "      <td>6243</td>\n",
              "      <td>39617</td>\n",
              "      <td>453</td>\n",
              "      <td>화이트진로</td>\n",
              "    </tr>\n",
              "    <tr>\n",
              "      <th>보해양조</th>\n",
              "      <td>205</td>\n",
              "      <td>1555</td>\n",
              "      <td>3</td>\n",
              "      <td>보해양조</td>\n",
              "    </tr>\n",
              "    <tr>\n",
              "      <th>롯데칠성</th>\n",
              "      <td>5980</td>\n",
              "      <td>34066</td>\n",
              "      <td>1682</td>\n",
              "      <td>롯데칠성</td>\n",
              "    </tr>\n",
              "    <tr>\n",
              "      <th>마니커</th>\n",
              "      <td>521</td>\n",
              "      <td>1897</td>\n",
              "      <td>-61</td>\n",
              "      <td>마니커</td>\n",
              "    </tr>\n",
              "    <tr>\n",
              "      <th>이지홀딩스</th>\n",
              "      <td>4108</td>\n",
              "      <td>18966</td>\n",
              "      <td>1168</td>\n",
              "      <td>이지홀딩스</td>\n",
              "    </tr>\n",
              "    <tr>\n",
              "      <th>하림</th>\n",
              "      <td>2613</td>\n",
              "      <td>8550</td>\n",
              "      <td>62</td>\n",
              "      <td>하림</td>\n",
              "    </tr>\n",
              "  </tbody>\n",
              "</table>\n",
              "</div>"
            ],
            "text/plain": [
              "Unnamed: 0   매출액   자산총계 EPS(원)    종목명\n",
              "종목명                                  \n",
              "화이트진로       6243  39617    453  화이트진로\n",
              "보해양조         205   1555      3   보해양조\n",
              "롯데칠성        5980  34066   1682   롯데칠성\n",
              "마니커          521   1897    -61    마니커\n",
              "이지홀딩스       4108  18966   1168  이지홀딩스\n",
              "하림          2613   8550     62     하림"
            ]
          },
          "metadata": {
            "tags": []
          },
          "execution_count": 26
        }
      ]
    },
    {
      "cell_type": "code",
      "metadata": {
        "id": "sXFCE7JIasqn",
        "outputId": "1ddb4565-f46e-4759-f326-6e7fc6969006",
        "colab": {
          "base_uri": "https://localhost:8080/",
          "height": 235
        }
      },
      "source": [
        "#인덱스 drop\n",
        "df.reset_index(drop=True,inplace=True)\n",
        "df"
      ],
      "execution_count": 27,
      "outputs": [
        {
          "output_type": "execute_result",
          "data": {
            "text/html": [
              "<div>\n",
              "<style scoped>\n",
              "    .dataframe tbody tr th:only-of-type {\n",
              "        vertical-align: middle;\n",
              "    }\n",
              "\n",
              "    .dataframe tbody tr th {\n",
              "        vertical-align: top;\n",
              "    }\n",
              "\n",
              "    .dataframe thead th {\n",
              "        text-align: right;\n",
              "    }\n",
              "</style>\n",
              "<table border=\"1\" class=\"dataframe\">\n",
              "  <thead>\n",
              "    <tr style=\"text-align: right;\">\n",
              "      <th>Unnamed: 0</th>\n",
              "      <th>매출액</th>\n",
              "      <th>자산총계</th>\n",
              "      <th>EPS(원)</th>\n",
              "      <th>종목명</th>\n",
              "    </tr>\n",
              "  </thead>\n",
              "  <tbody>\n",
              "    <tr>\n",
              "      <th>0</th>\n",
              "      <td>6243</td>\n",
              "      <td>39617</td>\n",
              "      <td>453</td>\n",
              "      <td>화이트진로</td>\n",
              "    </tr>\n",
              "    <tr>\n",
              "      <th>1</th>\n",
              "      <td>205</td>\n",
              "      <td>1555</td>\n",
              "      <td>3</td>\n",
              "      <td>보해양조</td>\n",
              "    </tr>\n",
              "    <tr>\n",
              "      <th>2</th>\n",
              "      <td>5980</td>\n",
              "      <td>34066</td>\n",
              "      <td>1682</td>\n",
              "      <td>롯데칠성</td>\n",
              "    </tr>\n",
              "    <tr>\n",
              "      <th>3</th>\n",
              "      <td>521</td>\n",
              "      <td>1897</td>\n",
              "      <td>-61</td>\n",
              "      <td>마니커</td>\n",
              "    </tr>\n",
              "    <tr>\n",
              "      <th>4</th>\n",
              "      <td>4108</td>\n",
              "      <td>18966</td>\n",
              "      <td>1168</td>\n",
              "      <td>이지홀딩스</td>\n",
              "    </tr>\n",
              "    <tr>\n",
              "      <th>5</th>\n",
              "      <td>2613</td>\n",
              "      <td>8550</td>\n",
              "      <td>62</td>\n",
              "      <td>하림</td>\n",
              "    </tr>\n",
              "  </tbody>\n",
              "</table>\n",
              "</div>"
            ],
            "text/plain": [
              "Unnamed: 0   매출액   자산총계 EPS(원)    종목명\n",
              "0           6243  39617    453  화이트진로\n",
              "1            205   1555      3   보해양조\n",
              "2           5980  34066   1682   롯데칠성\n",
              "3            521   1897    -61    마니커\n",
              "4           4108  18966   1168  이지홀딩스\n",
              "5           2613   8550     62     하림"
            ]
          },
          "metadata": {
            "tags": []
          },
          "execution_count": 27
        }
      ]
    },
    {
      "cell_type": "code",
      "metadata": {
        "id": "sC3biQSZcAE3",
        "outputId": "1e810671-db7f-4b12-b68e-bdb475201cf0",
        "colab": {
          "base_uri": "https://localhost:8080/",
          "height": 235
        }
      },
      "source": [
        "df.index = IndexList\n",
        "df"
      ],
      "execution_count": 28,
      "outputs": [
        {
          "output_type": "execute_result",
          "data": {
            "text/html": [
              "<div>\n",
              "<style scoped>\n",
              "    .dataframe tbody tr th:only-of-type {\n",
              "        vertical-align: middle;\n",
              "    }\n",
              "\n",
              "    .dataframe tbody tr th {\n",
              "        vertical-align: top;\n",
              "    }\n",
              "\n",
              "    .dataframe thead th {\n",
              "        text-align: right;\n",
              "    }\n",
              "</style>\n",
              "<table border=\"1\" class=\"dataframe\">\n",
              "  <thead>\n",
              "    <tr style=\"text-align: right;\">\n",
              "      <th>Unnamed: 0</th>\n",
              "      <th>매출액</th>\n",
              "      <th>자산총계</th>\n",
              "      <th>EPS(원)</th>\n",
              "      <th>종목명</th>\n",
              "    </tr>\n",
              "  </thead>\n",
              "  <tbody>\n",
              "    <tr>\n",
              "      <th>2020/09</th>\n",
              "      <td>6243</td>\n",
              "      <td>39617</td>\n",
              "      <td>453</td>\n",
              "      <td>화이트진로</td>\n",
              "    </tr>\n",
              "    <tr>\n",
              "      <th>2020/09</th>\n",
              "      <td>205</td>\n",
              "      <td>1555</td>\n",
              "      <td>3</td>\n",
              "      <td>보해양조</td>\n",
              "    </tr>\n",
              "    <tr>\n",
              "      <th>2020/09</th>\n",
              "      <td>5980</td>\n",
              "      <td>34066</td>\n",
              "      <td>1682</td>\n",
              "      <td>롯데칠성</td>\n",
              "    </tr>\n",
              "    <tr>\n",
              "      <th>2020/09</th>\n",
              "      <td>521</td>\n",
              "      <td>1897</td>\n",
              "      <td>-61</td>\n",
              "      <td>마니커</td>\n",
              "    </tr>\n",
              "    <tr>\n",
              "      <th>2020/06</th>\n",
              "      <td>4108</td>\n",
              "      <td>18966</td>\n",
              "      <td>1168</td>\n",
              "      <td>이지홀딩스</td>\n",
              "    </tr>\n",
              "    <tr>\n",
              "      <th>2020/09</th>\n",
              "      <td>2613</td>\n",
              "      <td>8550</td>\n",
              "      <td>62</td>\n",
              "      <td>하림</td>\n",
              "    </tr>\n",
              "  </tbody>\n",
              "</table>\n",
              "</div>"
            ],
            "text/plain": [
              "Unnamed: 0   매출액   자산총계 EPS(원)    종목명\n",
              "2020/09     6243  39617    453  화이트진로\n",
              "2020/09      205   1555      3   보해양조\n",
              "2020/09     5980  34066   1682   롯데칠성\n",
              "2020/09      521   1897    -61    마니커\n",
              "2020/06     4108  18966   1168  이지홀딩스\n",
              "2020/09     2613   8550     62     하림"
            ]
          },
          "metadata": {
            "tags": []
          },
          "execution_count": 28
        }
      ]
    },
    {
      "cell_type": "markdown",
      "metadata": {
        "id": "0GkJtKYy5jRW"
      },
      "source": [
        ""
      ]
    },
    {
      "cell_type": "markdown",
      "metadata": {
        "id": "RsiWi4DuXPLP"
      },
      "source": [
        "## 2. Reshape \n",
        "\n",
        "방금 만든 데이터를 아래 예시와 같은 **tidy** 형태로 만드세요.\n",
        "\n",
        "이때 tidy 데이터의 이름은 `df_tidy` 입니다.\n",
        "\n",
        "|종목명|Feature|Value|\n",
        "|:-:|:-:|:-:|\n",
        "|하이트진로|매출액|6243|\n",
        "|보해양조|매출액|205|\n",
        "|롯데칠성|매출액|5980|\n",
        "|...|...|...|\n",
        "|마니커|EPS(원)|-61|\n",
        "|이지홀딩스|EPS(원)|1168|\n",
        "|하림|EPS(원)|62|\n",
        "\n",
        "이 후 아래의 코드를 정상적으로 실행했을때 나오는 box의 수를 `res`에 저장하세요.\n",
        "\n",
        "```python\n",
        "sns.boxplot(data = df_tidy, x = '종목명', y = 'value');\n",
        "```\n",
        "\n",
        "\n"
      ]
    },
    {
      "cell_type": "code",
      "metadata": {
        "id": "gACCr67CoUv0",
        "outputId": "9b74ee66-98cd-42b1-c84a-44d53c8265a8",
        "colab": {
          "base_uri": "https://localhost:8080/",
          "height": 607
        }
      },
      "source": [
        "import seaborn as sns\n",
        "import numpy as np\n",
        "import matplotlib.pyplot as plt\n",
        "\n",
        "plt.rc('font', family='NanumBarunGothic')\n",
        "df_tidy = df.melt(id_vars=['종목명'],value_vars=['매출액','자산총계','EPS(원)'],value_name='Value',var_name='Feature')\n",
        "df_tidy"
      ],
      "execution_count": 29,
      "outputs": [
        {
          "output_type": "execute_result",
          "data": {
            "text/html": [
              "<div>\n",
              "<style scoped>\n",
              "    .dataframe tbody tr th:only-of-type {\n",
              "        vertical-align: middle;\n",
              "    }\n",
              "\n",
              "    .dataframe tbody tr th {\n",
              "        vertical-align: top;\n",
              "    }\n",
              "\n",
              "    .dataframe thead th {\n",
              "        text-align: right;\n",
              "    }\n",
              "</style>\n",
              "<table border=\"1\" class=\"dataframe\">\n",
              "  <thead>\n",
              "    <tr style=\"text-align: right;\">\n",
              "      <th></th>\n",
              "      <th>종목명</th>\n",
              "      <th>Feature</th>\n",
              "      <th>Value</th>\n",
              "    </tr>\n",
              "  </thead>\n",
              "  <tbody>\n",
              "    <tr>\n",
              "      <th>0</th>\n",
              "      <td>화이트진로</td>\n",
              "      <td>매출액</td>\n",
              "      <td>6243</td>\n",
              "    </tr>\n",
              "    <tr>\n",
              "      <th>1</th>\n",
              "      <td>보해양조</td>\n",
              "      <td>매출액</td>\n",
              "      <td>205</td>\n",
              "    </tr>\n",
              "    <tr>\n",
              "      <th>2</th>\n",
              "      <td>롯데칠성</td>\n",
              "      <td>매출액</td>\n",
              "      <td>5980</td>\n",
              "    </tr>\n",
              "    <tr>\n",
              "      <th>3</th>\n",
              "      <td>마니커</td>\n",
              "      <td>매출액</td>\n",
              "      <td>521</td>\n",
              "    </tr>\n",
              "    <tr>\n",
              "      <th>4</th>\n",
              "      <td>이지홀딩스</td>\n",
              "      <td>매출액</td>\n",
              "      <td>4108</td>\n",
              "    </tr>\n",
              "    <tr>\n",
              "      <th>5</th>\n",
              "      <td>하림</td>\n",
              "      <td>매출액</td>\n",
              "      <td>2613</td>\n",
              "    </tr>\n",
              "    <tr>\n",
              "      <th>6</th>\n",
              "      <td>화이트진로</td>\n",
              "      <td>자산총계</td>\n",
              "      <td>39617</td>\n",
              "    </tr>\n",
              "    <tr>\n",
              "      <th>7</th>\n",
              "      <td>보해양조</td>\n",
              "      <td>자산총계</td>\n",
              "      <td>1555</td>\n",
              "    </tr>\n",
              "    <tr>\n",
              "      <th>8</th>\n",
              "      <td>롯데칠성</td>\n",
              "      <td>자산총계</td>\n",
              "      <td>34066</td>\n",
              "    </tr>\n",
              "    <tr>\n",
              "      <th>9</th>\n",
              "      <td>마니커</td>\n",
              "      <td>자산총계</td>\n",
              "      <td>1897</td>\n",
              "    </tr>\n",
              "    <tr>\n",
              "      <th>10</th>\n",
              "      <td>이지홀딩스</td>\n",
              "      <td>자산총계</td>\n",
              "      <td>18966</td>\n",
              "    </tr>\n",
              "    <tr>\n",
              "      <th>11</th>\n",
              "      <td>하림</td>\n",
              "      <td>자산총계</td>\n",
              "      <td>8550</td>\n",
              "    </tr>\n",
              "    <tr>\n",
              "      <th>12</th>\n",
              "      <td>화이트진로</td>\n",
              "      <td>EPS(원)</td>\n",
              "      <td>453</td>\n",
              "    </tr>\n",
              "    <tr>\n",
              "      <th>13</th>\n",
              "      <td>보해양조</td>\n",
              "      <td>EPS(원)</td>\n",
              "      <td>3</td>\n",
              "    </tr>\n",
              "    <tr>\n",
              "      <th>14</th>\n",
              "      <td>롯데칠성</td>\n",
              "      <td>EPS(원)</td>\n",
              "      <td>1682</td>\n",
              "    </tr>\n",
              "    <tr>\n",
              "      <th>15</th>\n",
              "      <td>마니커</td>\n",
              "      <td>EPS(원)</td>\n",
              "      <td>-61</td>\n",
              "    </tr>\n",
              "    <tr>\n",
              "      <th>16</th>\n",
              "      <td>이지홀딩스</td>\n",
              "      <td>EPS(원)</td>\n",
              "      <td>1168</td>\n",
              "    </tr>\n",
              "    <tr>\n",
              "      <th>17</th>\n",
              "      <td>하림</td>\n",
              "      <td>EPS(원)</td>\n",
              "      <td>62</td>\n",
              "    </tr>\n",
              "  </tbody>\n",
              "</table>\n",
              "</div>"
            ],
            "text/plain": [
              "      종목명 Feature  Value\n",
              "0   화이트진로     매출액   6243\n",
              "1    보해양조     매출액    205\n",
              "2    롯데칠성     매출액   5980\n",
              "3     마니커     매출액    521\n",
              "4   이지홀딩스     매출액   4108\n",
              "5      하림     매출액   2613\n",
              "6   화이트진로    자산총계  39617\n",
              "7    보해양조    자산총계   1555\n",
              "8    롯데칠성    자산총계  34066\n",
              "9     마니커    자산총계   1897\n",
              "10  이지홀딩스    자산총계  18966\n",
              "11     하림    자산총계   8550\n",
              "12  화이트진로  EPS(원)    453\n",
              "13   보해양조  EPS(원)      3\n",
              "14   롯데칠성  EPS(원)   1682\n",
              "15    마니커  EPS(원)    -61\n",
              "16  이지홀딩스  EPS(원)   1168\n",
              "17     하림  EPS(원)     62"
            ]
          },
          "metadata": {
            "tags": []
          },
          "execution_count": 29
        }
      ]
    },
    {
      "cell_type": "code",
      "metadata": {
        "id": "iGMKXLbSeVXP"
      },
      "source": [
        "df_tidy['Value'] = df_tidy.Value.astype('int64')"
      ],
      "execution_count": 30,
      "outputs": []
    },
    {
      "cell_type": "code",
      "metadata": {
        "id": "30zRTY7R_-Qx",
        "outputId": "2808de98-0ccc-44b8-f041-494f84b2c2d8",
        "colab": {
          "base_uri": "https://localhost:8080/"
        }
      },
      "source": [
        "#한글 깨짐 방지\n",
        "!sudo apt-get install -y fonts-nanum \n",
        "!sudo fc-cache -fv\n",
        "!rm ~/.cache/matplotlib -rf\n",
        "%matplotlib inline\n"
      ],
      "execution_count": 31,
      "outputs": [
        {
          "output_type": "stream",
          "text": [
            "Reading package lists... Done\n",
            "Building dependency tree       \n",
            "Reading state information... Done\n",
            "fonts-nanum is already the newest version (20170925-1).\n",
            "0 upgraded, 0 newly installed, 0 to remove and 46 not upgraded.\n",
            "/usr/share/fonts: caching, new cache contents: 0 fonts, 1 dirs\n",
            "/usr/share/fonts/truetype: caching, new cache contents: 0 fonts, 3 dirs\n",
            "/usr/share/fonts/truetype/humor-sans: caching, new cache contents: 1 fonts, 0 dirs\n",
            "/usr/share/fonts/truetype/liberation: caching, new cache contents: 16 fonts, 0 dirs\n",
            "/usr/share/fonts/truetype/nanum: caching, new cache contents: 10 fonts, 0 dirs\n",
            "/usr/local/share/fonts: caching, new cache contents: 0 fonts, 0 dirs\n",
            "/root/.local/share/fonts: skipping, no such directory\n",
            "/root/.fonts: skipping, no such directory\n",
            "/var/cache/fontconfig: cleaning cache directory\n",
            "/root/.cache/fontconfig: not cleaning non-existent cache directory\n",
            "/root/.fontconfig: not cleaning non-existent cache directory\n",
            "fc-cache: succeeded\n"
          ],
          "name": "stdout"
        }
      ]
    },
    {
      "cell_type": "code",
      "metadata": {
        "id": "iDScp0-afeQc",
        "outputId": "1849c32d-2cc7-4508-dc67-42c36382c1be",
        "colab": {
          "base_uri": "https://localhost:8080/",
          "height": 279
        }
      },
      "source": [
        "sns.boxplot(data = df_tidy, x = '종목명', y = 'Value');"
      ],
      "execution_count": 32,
      "outputs": [
        {
          "output_type": "display_data",
          "data": {
            "image/png": "[encoded data removed]",
            "text/plain": [
              "<Figure size 432x288 with 1 Axes>"
            ]
          },
          "metadata": {
            "tags": [],
            "needs_background": "light"
          }
        }
      ]
    },
    {
      "cell_type": "code",
      "metadata": {
        "id": "p9CyH5YKd92S"
      },
      "source": [
        "#박스 개수\n",
        "res = 6"
      ],
      "execution_count": 33,
      "outputs": []
    },
    {
      "cell_type": "markdown",
      "metadata": {
        "id": "8Yscu0NtMmRM"
      },
      "source": [
        "## 3. Merge & Join +\n",
        "\n",
        "pandas merge의 options중 how 에는 여러가지 옵션들이 있습니다.\n",
        "\n",
        "공식 레퍼런스를 검색, 참조하여\n",
        "\n",
        "아래 코드를 바탕으로 \n",
        "\n",
        "다음과 같은 결과물을 만드는 코드를 작성하세요\n",
        "\n",
        "변수의 이름은 `df2` 입니다.\n",
        "\n",
        "|key1|key2|A|B|C|D|\n",
        "|:-:|:-:|:-:|:-:|:-:|:-:|\n",
        "|K0|K0|A0|B0|C0|D0|\n",
        "|K0|K1|A1|B1|NaN|NaN|\n",
        "|K1|K0|A2|B2|C1|D1|\n",
        "|K1|K0|A2|B2|C2|D2|\n",
        "|K2|K1|A3|B3|NaN|NaN|\n",
        "\n",
        "\n",
        "\n"
      ]
    },
    {
      "cell_type": "code",
      "metadata": {
        "id": "DlrGYjByMvn6"
      },
      "source": [
        "import pandas as pd\n",
        "\n",
        "left = pd.DataFrame({'key1': ['K0', 'K0', 'K1', 'K2'],\n",
        "                     'key2': ['K0', 'K1', 'K0', 'K1'],\n",
        "                     'A': ['A0', 'A1', 'A2', 'A3'],\n",
        "                     'B': ['B0', 'B1', 'B2', 'B3']})\n",
        "\n",
        "right = pd.DataFrame({'key1': ['K0', 'K1', 'K1', 'K2'],\n",
        "                      'key2': ['K0', 'K0', 'K0', 'K0'],\n",
        "                      'C': ['C0', 'C1', 'C2', 'C3'],\n",
        "                      'D': ['D0', 'D1', 'D2', 'D3']})\n"
      ],
      "execution_count": 34,
      "outputs": []
    },
    {
      "cell_type": "code",
      "metadata": {
        "id": "yWCIV9w_fyzN",
        "outputId": "ff93f0cb-35b5-4a88-99d6-356dfd60d686",
        "colab": {
          "base_uri": "https://localhost:8080/",
          "height": 173
        }
      },
      "source": [
        "left"
      ],
      "execution_count": 35,
      "outputs": [
        {
          "output_type": "execute_result",
          "data": {
            "text/html": [
              "<div>\n",
              "<style scoped>\n",
              "    .dataframe tbody tr th:only-of-type {\n",
              "        vertical-align: middle;\n",
              "    }\n",
              "\n",
              "    .dataframe tbody tr th {\n",
              "        vertical-align: top;\n",
              "    }\n",
              "\n",
              "    .dataframe thead th {\n",
              "        text-align: right;\n",
              "    }\n",
              "</style>\n",
              "<table border=\"1\" class=\"dataframe\">\n",
              "  <thead>\n",
              "    <tr style=\"text-align: right;\">\n",
              "      <th></th>\n",
              "      <th>key1</th>\n",
              "      <th>key2</th>\n",
              "      <th>A</th>\n",
              "      <th>B</th>\n",
              "    </tr>\n",
              "  </thead>\n",
              "  <tbody>\n",
              "    <tr>\n",
              "      <th>0</th>\n",
              "      <td>K0</td>\n",
              "      <td>K0</td>\n",
              "      <td>A0</td>\n",
              "      <td>B0</td>\n",
              "    </tr>\n",
              "    <tr>\n",
              "      <th>1</th>\n",
              "      <td>K0</td>\n",
              "      <td>K1</td>\n",
              "      <td>A1</td>\n",
              "      <td>B1</td>\n",
              "    </tr>\n",
              "    <tr>\n",
              "      <th>2</th>\n",
              "      <td>K1</td>\n",
              "      <td>K0</td>\n",
              "      <td>A2</td>\n",
              "      <td>B2</td>\n",
              "    </tr>\n",
              "    <tr>\n",
              "      <th>3</th>\n",
              "      <td>K2</td>\n",
              "      <td>K1</td>\n",
              "      <td>A3</td>\n",
              "      <td>B3</td>\n",
              "    </tr>\n",
              "  </tbody>\n",
              "</table>\n",
              "</div>"
            ],
            "text/plain": [
              "  key1 key2   A   B\n",
              "0   K0   K0  A0  B0\n",
              "1   K0   K1  A1  B1\n",
              "2   K1   K0  A2  B2\n",
              "3   K2   K1  A3  B3"
            ]
          },
          "metadata": {
            "tags": []
          },
          "execution_count": 35
        }
      ]
    },
    {
      "cell_type": "code",
      "metadata": {
        "id": "ZEW7J-lwf0lT",
        "outputId": "d9dafe39-c0b2-4967-f06b-c7926370805c",
        "colab": {
          "base_uri": "https://localhost:8080/",
          "height": 173
        }
      },
      "source": [
        "right"
      ],
      "execution_count": 36,
      "outputs": [
        {
          "output_type": "execute_result",
          "data": {
            "text/html": [
              "<div>\n",
              "<style scoped>\n",
              "    .dataframe tbody tr th:only-of-type {\n",
              "        vertical-align: middle;\n",
              "    }\n",
              "\n",
              "    .dataframe tbody tr th {\n",
              "        vertical-align: top;\n",
              "    }\n",
              "\n",
              "    .dataframe thead th {\n",
              "        text-align: right;\n",
              "    }\n",
              "</style>\n",
              "<table border=\"1\" class=\"dataframe\">\n",
              "  <thead>\n",
              "    <tr style=\"text-align: right;\">\n",
              "      <th></th>\n",
              "      <th>key1</th>\n",
              "      <th>key2</th>\n",
              "      <th>C</th>\n",
              "      <th>D</th>\n",
              "    </tr>\n",
              "  </thead>\n",
              "  <tbody>\n",
              "    <tr>\n",
              "      <th>0</th>\n",
              "      <td>K0</td>\n",
              "      <td>K0</td>\n",
              "      <td>C0</td>\n",
              "      <td>D0</td>\n",
              "    </tr>\n",
              "    <tr>\n",
              "      <th>1</th>\n",
              "      <td>K1</td>\n",
              "      <td>K0</td>\n",
              "      <td>C1</td>\n",
              "      <td>D1</td>\n",
              "    </tr>\n",
              "    <tr>\n",
              "      <th>2</th>\n",
              "      <td>K1</td>\n",
              "      <td>K0</td>\n",
              "      <td>C2</td>\n",
              "      <td>D2</td>\n",
              "    </tr>\n",
              "    <tr>\n",
              "      <th>3</th>\n",
              "      <td>K2</td>\n",
              "      <td>K0</td>\n",
              "      <td>C3</td>\n",
              "      <td>D3</td>\n",
              "    </tr>\n",
              "  </tbody>\n",
              "</table>\n",
              "</div>"
            ],
            "text/plain": [
              "  key1 key2   C   D\n",
              "0   K0   K0  C0  D0\n",
              "1   K1   K0  C1  D1\n",
              "2   K1   K0  C2  D2\n",
              "3   K2   K0  C3  D3"
            ]
          },
          "metadata": {
            "tags": []
          },
          "execution_count": 36
        }
      ]
    },
    {
      "cell_type": "code",
      "metadata": {
        "id": "f1AsGTtuf1fO",
        "outputId": "c30cdd79-dfe8-4863-fc66-b6b55ee46fc7",
        "colab": {
          "base_uri": "https://localhost:8080/",
          "height": 204
        }
      },
      "source": [
        "df2 = pd.merge(left, right,how='outer')\n",
        "df2 = df2.dropna(subset=['A','B'])\n",
        "\n",
        "from IPython.display import HTML\n",
        "HTML(df2.to_html(index=False))"
      ],
      "execution_count": 37,
      "outputs": [
        {
          "output_type": "execute_result",
          "data": {
            "text/html": [
              "<table border=\"1\" class=\"dataframe\">\n",
              "  <thead>\n",
              "    <tr style=\"text-align: right;\">\n",
              "      <th>key1</th>\n",
              "      <th>key2</th>\n",
              "      <th>A</th>\n",
              "      <th>B</th>\n",
              "      <th>C</th>\n",
              "      <th>D</th>\n",
              "    </tr>\n",
              "  </thead>\n",
              "  <tbody>\n",
              "    <tr>\n",
              "      <td>K0</td>\n",
              "      <td>K0</td>\n",
              "      <td>A0</td>\n",
              "      <td>B0</td>\n",
              "      <td>C0</td>\n",
              "      <td>D0</td>\n",
              "    </tr>\n",
              "    <tr>\n",
              "      <td>K0</td>\n",
              "      <td>K1</td>\n",
              "      <td>A1</td>\n",
              "      <td>B1</td>\n",
              "      <td>NaN</td>\n",
              "      <td>NaN</td>\n",
              "    </tr>\n",
              "    <tr>\n",
              "      <td>K1</td>\n",
              "      <td>K0</td>\n",
              "      <td>A2</td>\n",
              "      <td>B2</td>\n",
              "      <td>C1</td>\n",
              "      <td>D1</td>\n",
              "    </tr>\n",
              "    <tr>\n",
              "      <td>K1</td>\n",
              "      <td>K0</td>\n",
              "      <td>A2</td>\n",
              "      <td>B2</td>\n",
              "      <td>C2</td>\n",
              "      <td>D2</td>\n",
              "    </tr>\n",
              "    <tr>\n",
              "      <td>K2</td>\n",
              "      <td>K1</td>\n",
              "      <td>A3</td>\n",
              "      <td>B3</td>\n",
              "      <td>NaN</td>\n",
              "      <td>NaN</td>\n",
              "    </tr>\n",
              "  </tbody>\n",
              "</table>"
            ],
            "text/plain": [
              "<IPython.core.display.HTML object>"
            ]
          },
          "metadata": {
            "tags": []
          },
          "execution_count": 37
        }
      ]
    },
    {
      "cell_type": "markdown",
      "metadata": {
        "id": "en0Q_b5L4fxA"
      },
      "source": [
        "## Grading\n",
        "\n",
        "이전 과제를 완료했다면, 아래의 코드를 실행하세요. "
      ]
    },
    {
      "cell_type": "code",
      "metadata": {
        "id": "1k3zn-YV4fdg"
      },
      "source": [
        "import numpy as np\n",
        "\n",
        "def grade(df, df2, df_tidy, res):\n",
        "  score = 0\n",
        "  score += (df['매출액'][2] == 5980)\n",
        "  score += (df['자산총계'][3] == 1897)   \n",
        "  score += (df2.equals(pd.DataFrame({\n",
        "    'key1' : ['K0', 'K0', 'K1', 'K1', 'K2'],\n",
        "    'key2' : ['K0', 'K1', 'K0', 'K0', 'K1'],\n",
        "    'A' : ['A0', 'A1', 'A2', 'A2', 'A3'],\n",
        "    'B' : ['B0', 'B1', 'B2', 'B2', 'B3'],\n",
        "    'C' : ['C0', np.NaN, 'C1', 'C2', np.NaN],\n",
        "    'D' : ['D0', np.NaN, 'D1', 'D2', np.NaN],\n",
        "  }))) \n",
        "  score += (res == 6)\n",
        "  score += (round(df_tidy['Value'].mean(), 3) == 7090.444)\n",
        "  return(score)"
      ],
      "execution_count": 38,
      "outputs": []
    },
    {
      "cell_type": "code",
      "metadata": {
        "id": "nj_RslFn4lCM",
        "outputId": "731987dd-7b99-4d64-f558-a0eb7f867aa9",
        "colab": {
          "base_uri": "https://localhost:8080/"
        }
      },
      "source": [
        "grade(df, df2, df_tidy, res)"
      ],
      "execution_count": 39,
      "outputs": [
        {
          "output_type": "execute_result",
          "data": {
            "text/plain": [
              "5"
            ]
          },
          "metadata": {
            "tags": []
          },
          "execution_count": 39
        }
      ]
    },
    {
      "cell_type": "markdown",
      "metadata": {
        "id": "mnOuqL9K0dqh"
      },
      "source": [
        "## 🔥 도전과제"
      ]
    },
    {
      "cell_type": "markdown",
      "metadata": {
        "id": "GboSqR1qRoTO"
      },
      "source": [
        "아래 링크들을 참조하여, \n",
        "특정 테마별로 포함되어 있는 종목의 데이터를 직접 csv형태로 수집하고 (아래 적힌 3개씩)\n",
        "\n",
        "<https://finance.naver.com/sise/sise_group_detail.nhn?type=theme&no=408>\n",
        "\n",
        "<https://finance.naver.com/sise/sise_group_detail.nhn?type=theme&no=36>\n",
        "\n",
        "- 최종 분기에 해당하는 데이터\n",
        "\n",
        "- 테마별 평균 데이터를 결과물로 만드는 코드를 작성하세요.\n",
        "\n",
        "단, 모든 feature에 대해서가 아닌\n",
        "\n",
        "- 매출액\n",
        "- 자본총계\n",
        "- EPS\n",
        "\n",
        "에 대해서만 하면 됩니다.\n",
        "\n",
        "|종목명|매출액|자본총계|EPS|\n",
        "|:-:|:-:|:-:|:-:|\n",
        "|대한해운|...|...|...|...|\n",
        "|팬오션|...|...|...|...|\n",
        "|KSS해운|...|...|...|...|\n",
        "|세미콘라이트|...|...|...|...|\n",
        "|오성첨단소재|...|...|...|...|\n",
        "|에이아이비트|...|...|...|...|\n",
        "\n",
        "---\n",
        "\n",
        "|테마|매출액|자본총계|EPS|\n",
        "|:-:|:-:|:-:|:-:|\n",
        "|해운|...|...|...|\n",
        "|마리화나(대마)|...|...|...|\n",
        "\n",
        "이후 아래의 예시 처럼 seaborn을 사용하여 결과를 barplot으로 시각화하세요.\n",
        "\n",
        "단, 한글이 깨지는 에러를 여러분이 직접 고쳐야합니다."
      ]
    },
    {
      "cell_type": "code",
      "metadata": {
        "id": "M0MphZTP0q9q",
        "colab": {
          "base_uri": "https://localhost:8080/"
        },
        "outputId": "0b6a8a94-c445-4509-961b-7b943ae73e4c"
      },
      "source": [
        "pip install selenium\n"
      ],
      "execution_count": 40,
      "outputs": [
        {
          "output_type": "stream",
          "text": [
            "Requirement already satisfied: selenium in /usr/local/lib/python3.7/dist-packages (3.141.0)\n",
            "Requirement already satisfied: urllib3 in /usr/local/lib/python3.7/dist-packages (from selenium) (1.24.3)\n"
          ],
          "name": "stdout"
        }
      ]
    },
    {
      "cell_type": "code",
      "metadata": {
        "id": "-v3zKhfZ0pIV",
        "colab": {
          "base_uri": "https://localhost:8080/"
        },
        "outputId": "6885f092-ecb5-45a9-9bd8-30271d17175d"
      },
      "source": [
        "from selenium import webdriver\n",
        "\n",
        "from selenium.common.exceptions import  NoSuchElementException\n",
        "import pandas as pd\n",
        "\n",
        "!apt-get update\n",
        "!apt install chromium-chromedriver\n",
        "!cp /usr/lib/chromium-browser/chromedriver /usr/bin\n",
        "!pip install selenium\n",
        "# set options to be headless, ..\n",
        "from selenium import webdriver\n",
        "options = webdriver.ChromeOptions()\n",
        "options.add_argument('--headless')\n",
        "options.add_argument('--no-sandbox')\n",
        "options.add_argument('--disable-dev-shm-usage')\n",
        "# open it, go to a website, and get results\n",
        "driver = webdriver.Chrome('chromedriver',options=options)\n",
        "\n",
        "url = 'https://finance.naver.com/item/coinfo.nhn?code=039230'\n",
        "driver.get(url)\n",
        "driver.implicitly_wait(5)\n",
        "\n",
        "driver.switch_to.frame('coinfo_cp')\n",
        "driver.implicitly_wait(5)\n",
        "\n",
        "tab_id = driver.find_element_by_id('cns_Tab22')\n",
        "driver.implicitly_wait(5)\n",
        "\n",
        "df = pd.read_html(driver.page_source, index_col=0, keep_default_na=False, thousands= '', encoding='utf-8',match='주요재무정보')[-1]\n",
        "# 크롤링 성공 ..!( 주말에 나머지 하기)"
      ],
      "execution_count": 41,
      "outputs": [
        {
          "output_type": "stream",
          "text": [
            "\r0% [Working]\r            \rHit:1 http://security.ubuntu.com/ubuntu bionic-security InRelease\n",
            "\r0% [Connecting to archive.ubuntu.com (91.189.88.142)] [Connected to cloud.r-pro\r0% [1 InRelease gpgv 88.7 kB] [Connecting to archive.ubuntu.com (91.189.88.142)\r                                                                               \rHit:2 https://cloud.r-project.org/bin/linux/ubuntu bionic-cran40/ InRelease\n",
            "\r0% [1 InRelease gpgv 88.7 kB] [Connecting to archive.ubuntu.com (91.189.88.142)\r                                                                               \rIgn:3 https://developer.download.nvidia.com/compute/cuda/repos/ubuntu1804/x86_64  InRelease\n",
            "\r                                                                               \r0% [1 InRelease gpgv 88.7 kB] [Waiting for headers] [Waiting for headers]\r                                                                         \rHit:4 http://ppa.launchpad.net/c2d4u.team/c2d4u4.0+/ubuntu bionic InRelease\n",
            "\r0% [1 InRelease gpgv 88.7 kB] [Waiting for headers] [Connecting to ppa.launchpa\r                                                                               \rHit:5 http://archive.ubuntu.com/ubuntu bionic InRelease\n",
            "Ign:6 https://developer.download.nvidia.com/compute/machine-learning/repos/ubuntu1804/x86_64  InRelease\n",
            "Hit:7 https://developer.download.nvidia.com/compute/cuda/repos/ubuntu1804/x86_64  Release\n",
            "Hit:8 https://developer.download.nvidia.com/compute/machine-learning/repos/ubuntu1804/x86_64  Release\n",
            "Hit:9 http://archive.ubuntu.com/ubuntu bionic-updates InRelease\n",
            "Hit:10 http://ppa.launchpad.net/cran/libgit2/ubuntu bionic InRelease\n",
            "Hit:11 http://archive.ubuntu.com/ubuntu bionic-backports InRelease\n",
            "Hit:12 http://ppa.launchpad.net/deadsnakes/ppa/ubuntu bionic InRelease\n",
            "Hit:13 http://ppa.launchpad.net/graphics-drivers/ppa/ubuntu bionic InRelease\n",
            "Reading package lists... Done\n",
            "Reading package lists... Done\n",
            "Building dependency tree       \n",
            "Reading state information... Done\n",
            "chromium-chromedriver is already the newest version (91.0.4472.77-0ubuntu0.18.04.1).\n",
            "0 upgraded, 0 newly installed, 0 to remove and 46 not upgraded.\n",
            "cp: '/usr/lib/chromium-browser/chromedriver' and '/usr/bin/chromedriver' are the same file\n",
            "Requirement already satisfied: selenium in /usr/local/lib/python3.7/dist-packages (3.141.0)\n",
            "Requirement already satisfied: urllib3 in /usr/local/lib/python3.7/dist-packages (from selenium) (1.24.3)\n"
          ],
          "name": "stdout"
        }
      ]
    },
    {
      "cell_type": "code",
      "metadata": {
        "id": "ywUencxuA_Ru",
        "outputId": "d49c001c-e3d1-4313-9025-e4f4bc2da2c0",
        "colab": {
          "base_uri": "https://localhost:8080/",
          "height": 688
        }
      },
      "source": [
        "df.T"
      ],
      "execution_count": 42,
      "outputs": [
        {
          "output_type": "execute_result",
          "data": {
            "text/html": [
              "<div>\n",
              "<style scoped>\n",
              "    .dataframe tbody tr th:only-of-type {\n",
              "        vertical-align: middle;\n",
              "    }\n",
              "\n",
              "    .dataframe tbody tr th {\n",
              "        vertical-align: top;\n",
              "    }\n",
              "\n",
              "    .dataframe thead th {\n",
              "        text-align: right;\n",
              "    }\n",
              "</style>\n",
              "<table border=\"1\" class=\"dataframe\">\n",
              "  <thead>\n",
              "    <tr style=\"text-align: right;\">\n",
              "      <th></th>\n",
              "      <th></th>\n",
              "      <th>매출액</th>\n",
              "      <th>영업이익</th>\n",
              "      <th>영업이익(발표기준)</th>\n",
              "      <th>세전계속사업이익</th>\n",
              "      <th>당기순이익</th>\n",
              "      <th>당기순이익(지배)</th>\n",
              "      <th>당기순이익(비지배)</th>\n",
              "      <th>자산총계</th>\n",
              "      <th>부채총계</th>\n",
              "      <th>자본총계</th>\n",
              "      <th>자본총계(지배)</th>\n",
              "      <th>자본총계(비지배)</th>\n",
              "      <th>자본금</th>\n",
              "      <th>영업활동현금흐름</th>\n",
              "      <th>투자활동현금흐름</th>\n",
              "      <th>재무활동현금흐름</th>\n",
              "      <th>CAPEX</th>\n",
              "      <th>FCF</th>\n",
              "      <th>이자발생부채</th>\n",
              "      <th>영업이익률</th>\n",
              "      <th>순이익률</th>\n",
              "      <th>ROE(%)</th>\n",
              "      <th>ROA(%)</th>\n",
              "      <th>부채비율</th>\n",
              "      <th>자본유보율</th>\n",
              "      <th>EPS(원)</th>\n",
              "      <th>PER(배)</th>\n",
              "      <th>BPS(원)</th>\n",
              "      <th>PBR(배)</th>\n",
              "      <th>현금DPS(원)</th>\n",
              "      <th>현금배당수익률</th>\n",
              "      <th>현금배당성향(%)</th>\n",
              "      <th>발행주식수(보통주)</th>\n",
              "    </tr>\n",
              "    <tr>\n",
              "      <th>주요재무정보</th>\n",
              "      <th>주요재무정보</th>\n",
              "      <th></th>\n",
              "      <th></th>\n",
              "      <th></th>\n",
              "      <th></th>\n",
              "      <th></th>\n",
              "      <th></th>\n",
              "      <th></th>\n",
              "      <th></th>\n",
              "      <th></th>\n",
              "      <th></th>\n",
              "      <th></th>\n",
              "      <th></th>\n",
              "      <th></th>\n",
              "      <th></th>\n",
              "      <th></th>\n",
              "      <th></th>\n",
              "      <th></th>\n",
              "      <th></th>\n",
              "      <th></th>\n",
              "      <th></th>\n",
              "      <th></th>\n",
              "      <th></th>\n",
              "      <th></th>\n",
              "      <th></th>\n",
              "      <th></th>\n",
              "      <th></th>\n",
              "      <th></th>\n",
              "      <th></th>\n",
              "      <th></th>\n",
              "      <th></th>\n",
              "      <th></th>\n",
              "      <th></th>\n",
              "      <th></th>\n",
              "    </tr>\n",
              "  </thead>\n",
              "  <tbody>\n",
              "    <tr>\n",
              "      <th rowspan=\"4\" valign=\"top\">연간연간컨센서스보기</th>\n",
              "      <th>2018/12  (IFRS연결)</th>\n",
              "      <td>378</td>\n",
              "      <td>26</td>\n",
              "      <td>26</td>\n",
              "      <td>-87</td>\n",
              "      <td>-93</td>\n",
              "      <td>-93</td>\n",
              "      <td>0</td>\n",
              "      <td>746</td>\n",
              "      <td>460</td>\n",
              "      <td>287</td>\n",
              "      <td>286</td>\n",
              "      <td></td>\n",
              "      <td>286</td>\n",
              "      <td>2</td>\n",
              "      <td>-200</td>\n",
              "      <td>223</td>\n",
              "      <td>3</td>\n",
              "      <td>-1</td>\n",
              "      <td>244</td>\n",
              "      <td>6.99</td>\n",
              "      <td>-24.64</td>\n",
              "      <td>-40.21</td>\n",
              "      <td>-14.52</td>\n",
              "      <td>160.34</td>\n",
              "      <td>32.41</td>\n",
              "      <td>-554</td>\n",
              "      <td>N/A</td>\n",
              "      <td>1,504</td>\n",
              "      <td>0.79</td>\n",
              "      <td>0</td>\n",
              "      <td>0.00</td>\n",
              "      <td>0.00</td>\n",
              "      <td>19,044,767</td>\n",
              "    </tr>\n",
              "    <tr>\n",
              "      <th>2019/12  (IFRS연결)</th>\n",
              "      <td>374</td>\n",
              "      <td>32</td>\n",
              "      <td>32</td>\n",
              "      <td>-87</td>\n",
              "      <td>-112</td>\n",
              "      <td>-112</td>\n",
              "      <td>0</td>\n",
              "      <td>680</td>\n",
              "      <td>176</td>\n",
              "      <td>505</td>\n",
              "      <td>504</td>\n",
              "      <td>0</td>\n",
              "      <td>522</td>\n",
              "      <td>-30</td>\n",
              "      <td>92</td>\n",
              "      <td>-88</td>\n",
              "      <td>6</td>\n",
              "      <td>-36</td>\n",
              "      <td>20</td>\n",
              "      <td>8.54</td>\n",
              "      <td>-29.90</td>\n",
              "      <td>-28.25</td>\n",
              "      <td>-15.68</td>\n",
              "      <td>34.87</td>\n",
              "      <td>15.68</td>\n",
              "      <td>-415</td>\n",
              "      <td>N/A</td>\n",
              "      <td>1,450</td>\n",
              "      <td>0.27</td>\n",
              "      <td>0</td>\n",
              "      <td>0.00</td>\n",
              "      <td>0.00</td>\n",
              "      <td>34,787,524</td>\n",
              "    </tr>\n",
              "    <tr>\n",
              "      <th>2020/12  (IFRS연결)</th>\n",
              "      <td>292</td>\n",
              "      <td>-37</td>\n",
              "      <td>-37</td>\n",
              "      <td>-82</td>\n",
              "      <td>-79</td>\n",
              "      <td>-79</td>\n",
              "      <td>0</td>\n",
              "      <td>581</td>\n",
              "      <td>129</td>\n",
              "      <td>453</td>\n",
              "      <td>453</td>\n",
              "      <td>0</td>\n",
              "      <td>552</td>\n",
              "      <td>11</td>\n",
              "      <td>-7</td>\n",
              "      <td>-30</td>\n",
              "      <td>2</td>\n",
              "      <td>9</td>\n",
              "      <td>34</td>\n",
              "      <td>-12.61</td>\n",
              "      <td>-26.90</td>\n",
              "      <td>-16.41</td>\n",
              "      <td>-12.46</td>\n",
              "      <td>28.41</td>\n",
              "      <td>0.56</td>\n",
              "      <td>-221</td>\n",
              "      <td>N/A</td>\n",
              "      <td>1,230</td>\n",
              "      <td>0.15</td>\n",
              "      <td>0</td>\n",
              "      <td>0.00</td>\n",
              "      <td>0.00</td>\n",
              "      <td>36,787,524</td>\n",
              "    </tr>\n",
              "    <tr>\n",
              "      <th>2021/12(E)  (IFRS연결)</th>\n",
              "      <td></td>\n",
              "      <td></td>\n",
              "      <td></td>\n",
              "      <td></td>\n",
              "      <td></td>\n",
              "      <td></td>\n",
              "      <td></td>\n",
              "      <td></td>\n",
              "      <td></td>\n",
              "      <td></td>\n",
              "      <td></td>\n",
              "      <td></td>\n",
              "      <td></td>\n",
              "      <td></td>\n",
              "      <td></td>\n",
              "      <td></td>\n",
              "      <td></td>\n",
              "      <td></td>\n",
              "      <td></td>\n",
              "      <td></td>\n",
              "      <td></td>\n",
              "      <td></td>\n",
              "      <td></td>\n",
              "      <td></td>\n",
              "      <td></td>\n",
              "      <td></td>\n",
              "      <td></td>\n",
              "      <td></td>\n",
              "      <td></td>\n",
              "      <td></td>\n",
              "      <td></td>\n",
              "      <td></td>\n",
              "      <td></td>\n",
              "    </tr>\n",
              "    <tr>\n",
              "      <th rowspan=\"4\" valign=\"top\">분기분기컨센서스보기</th>\n",
              "      <th>2020/09  (IFRS연결)</th>\n",
              "      <td>86</td>\n",
              "      <td>-11</td>\n",
              "      <td>-11</td>\n",
              "      <td>-27</td>\n",
              "      <td>-27</td>\n",
              "      <td>-27</td>\n",
              "      <td>0</td>\n",
              "      <td>653</td>\n",
              "      <td>128</td>\n",
              "      <td>525</td>\n",
              "      <td>525</td>\n",
              "      <td>0</td>\n",
              "      <td>552</td>\n",
              "      <td>1</td>\n",
              "      <td>-17</td>\n",
              "      <td>2</td>\n",
              "      <td>0</td>\n",
              "      <td>0</td>\n",
              "      <td>42</td>\n",
              "      <td>-12.66</td>\n",
              "      <td>-31.86</td>\n",
              "      <td>-16.25</td>\n",
              "      <td>-12.30</td>\n",
              "      <td>24.44</td>\n",
              "      <td>13.03</td>\n",
              "      <td>-76</td>\n",
              "      <td>N/A</td>\n",
              "      <td>1,426</td>\n",
              "      <td>0.13</td>\n",
              "      <td>0</td>\n",
              "      <td></td>\n",
              "      <td>0.00</td>\n",
              "      <td>36,787,524</td>\n",
              "    </tr>\n",
              "    <tr>\n",
              "      <th>2020/12  (IFRS연결)</th>\n",
              "      <td>57</td>\n",
              "      <td>-28</td>\n",
              "      <td>-28</td>\n",
              "      <td>-76</td>\n",
              "      <td>-69</td>\n",
              "      <td>-69</td>\n",
              "      <td>0</td>\n",
              "      <td>581</td>\n",
              "      <td>129</td>\n",
              "      <td>453</td>\n",
              "      <td>453</td>\n",
              "      <td>0</td>\n",
              "      <td>552</td>\n",
              "      <td>-18</td>\n",
              "      <td>-26</td>\n",
              "      <td>-10</td>\n",
              "      <td>0</td>\n",
              "      <td>-19</td>\n",
              "      <td>34</td>\n",
              "      <td>-49.35</td>\n",
              "      <td>-121.21</td>\n",
              "      <td>-16.41</td>\n",
              "      <td>-12.46</td>\n",
              "      <td>28.41</td>\n",
              "      <td>0.56</td>\n",
              "      <td>-187</td>\n",
              "      <td>N/A</td>\n",
              "      <td>1,230</td>\n",
              "      <td>0.15</td>\n",
              "      <td>0</td>\n",
              "      <td></td>\n",
              "      <td>0.00</td>\n",
              "      <td>36,787,524</td>\n",
              "    </tr>\n",
              "    <tr>\n",
              "      <th>2021/03  (IFRS연결)</th>\n",
              "      <td>76</td>\n",
              "      <td>-33</td>\n",
              "      <td>-33</td>\n",
              "      <td>-26</td>\n",
              "      <td>-26</td>\n",
              "      <td>-26</td>\n",
              "      <td>0</td>\n",
              "      <td>552</td>\n",
              "      <td>126</td>\n",
              "      <td>427</td>\n",
              "      <td>427</td>\n",
              "      <td>0</td>\n",
              "      <td>552</td>\n",
              "      <td>-12</td>\n",
              "      <td>13</td>\n",
              "      <td>-2</td>\n",
              "      <td>0</td>\n",
              "      <td>-12</td>\n",
              "      <td>33</td>\n",
              "      <td>-43.34</td>\n",
              "      <td>-34.13</td>\n",
              "      <td>-26.46</td>\n",
              "      <td>-17.33</td>\n",
              "      <td>29.46</td>\n",
              "      <td>-4.12</td>\n",
              "      <td>-70</td>\n",
              "      <td>N/A</td>\n",
              "      <td>1,160</td>\n",
              "      <td>0.16</td>\n",
              "      <td>0</td>\n",
              "      <td></td>\n",
              "      <td></td>\n",
              "      <td>36,787,524</td>\n",
              "    </tr>\n",
              "    <tr>\n",
              "      <th>2021/06(E)  (IFRS연결)</th>\n",
              "      <td></td>\n",
              "      <td></td>\n",
              "      <td></td>\n",
              "      <td></td>\n",
              "      <td></td>\n",
              "      <td></td>\n",
              "      <td></td>\n",
              "      <td></td>\n",
              "      <td></td>\n",
              "      <td></td>\n",
              "      <td></td>\n",
              "      <td></td>\n",
              "      <td></td>\n",
              "      <td></td>\n",
              "      <td></td>\n",
              "      <td></td>\n",
              "      <td></td>\n",
              "      <td></td>\n",
              "      <td></td>\n",
              "      <td></td>\n",
              "      <td></td>\n",
              "      <td></td>\n",
              "      <td></td>\n",
              "      <td></td>\n",
              "      <td></td>\n",
              "      <td></td>\n",
              "      <td></td>\n",
              "      <td></td>\n",
              "      <td></td>\n",
              "      <td></td>\n",
              "      <td></td>\n",
              "      <td></td>\n",
              "      <td></td>\n",
              "    </tr>\n",
              "  </tbody>\n",
              "</table>\n",
              "</div>"
            ],
            "text/plain": [
              "                                 매출액 영업이익  ... 현금배당성향(%)  발행주식수(보통주)\n",
              "주요재무정보     주요재무정보                          ...                      \n",
              "연간연간컨센서스보기 2018/12  (IFRS연결)     378   26  ...      0.00  19,044,767\n",
              "           2019/12  (IFRS연결)     374   32  ...      0.00  34,787,524\n",
              "           2020/12  (IFRS연결)     292  -37  ...      0.00  36,787,524\n",
              "           2021/12(E)  (IFRS연결)            ...                      \n",
              "분기분기컨센서스보기 2020/09  (IFRS연결)      86  -11  ...      0.00  36,787,524\n",
              "           2020/12  (IFRS연결)      57  -28  ...      0.00  36,787,524\n",
              "           2021/03  (IFRS연결)      76  -33  ...            36,787,524\n",
              "           2021/06(E)  (IFRS연결)            ...                      \n",
              "\n",
              "[8 rows x 33 columns]"
            ]
          },
          "metadata": {
            "tags": []
          },
          "execution_count": 42
        }
      ]
    },
    {
      "cell_type": "code",
      "metadata": {
        "id": "B-QNMrVkYap4"
      },
      "source": [
        "import pandas as pd\n",
        "import seaborn as sns\n",
        "\n",
        "dat = pd.DataFrame({\n",
        "    'name' : ['해운', '대마'],\n",
        "    'value' : [10000,5000]\n",
        "})"
      ],
      "execution_count": 43,
      "outputs": []
    },
    {
      "cell_type": "code",
      "metadata": {
        "id": "Q4b0xOpfzaae"
      },
      "source": [
        "import pandas as pd\n",
        "import seaborn as sns\n",
        "\n",
        "dat = pd.DataFrame({\n",
        "    'name' : ['해운', '대마'],\n",
        "    'value' : [10000,5000]\n",
        "})"
      ],
      "execution_count": 44,
      "outputs": []
    },
    {
      "cell_type": "code",
      "metadata": {
        "id": "-kc-K-Dqzaak",
        "outputId": "404d1c0c-1ef4-4b45-bcda-04db8167a50e",
        "colab": {
          "base_uri": "https://localhost:8080/",
          "height": 279
        }
      },
      "source": [
        "sns.barplot(x = 'name', y = 'value', data = dat);"
      ],
      "execution_count": 45,
      "outputs": [
        {
          "output_type": "display_data",
          "data": {
            "image/png": "[encoded data removed]",
            "text/plain": [
              "<Figure size 432x288 with 1 Axes>"
            ]
          },
          "metadata": {
            "tags": [],
            "needs_background": "light"
          }
        }
      ]
    }
  ]
}